{
 "cells": [
  {
   "cell_type": "markdown",
   "metadata": {},
   "source": [
    "<h1><center> MACHINE LEARNING - PROJECT </center></h1>\n",
    "<center> \"WHAT ARE THE PEOPLE MORE LIKELY TO SURVIVE TO THE BOOLEAN PANDEMIC?\"</center>\n",
    "\n",
    "Notebook structure:\n",
    "* [1. Sample](#sample)\n",
    "    * [1.1. Import Libraries](#import)\n",
    "    * [1.2. Import Datasets](#import2)\n",
    "* [2. Explore](#explore)\n",
    "    * [2.1. Data Exploration](#dataexplore)\n",
    "    * [2.2. Missing Values Analysis](#miss_values)\n",
    "    * [2.3. Outliers Analysis](#outliers)\n",
    "* [3. Modify](#modify)\n",
    "    * [3.1. Transform and Create variables](#transf_create)\n",
    "    * [3.2. Coherence Checking](#coherence)\n",
    "    * [3.3. Correlation analysis](#corr)\n",
    "    * [3.4. Train Validation Partition](#train_val)\n",
    "    * [3.5. Data Standardization](#datastand)\n",
    "    * [3.6. Feature Selection](#feature)\n",
    "* [4. Model](#model)\n",
    "    * [4.1. K Nearest Neighbors](#knn)\n",
    "    * [4.2. K Nearest Centroid](#knc)\n",
    "    * [4.3. Random Forest](#rf)\n",
    "    * [4.4. Decision Tree](#dt)\n",
    "    * [4.5. Passive Aggressive](#pa)\n",
    "    * [4.6. Multi-Layer Perceptron](#mlp)\n",
    "\n",
    "* [5. Assess](#assess)"
   ]
  },
  {
   "cell_type": "markdown",
   "metadata": {},
   "source": [
    "<hr>\n",
    "<a class=\"anchor\" id=\"sample\">\n",
    "    \n",
    "# 1. Sample\n",
    "    \n",
    "</a>"
   ]
  },
  {
   "cell_type": "markdown",
   "metadata": {},
   "source": [
    "<a class=\"anchor\" id=\"import\">\n",
    "\n",
    "## 1.1. Import Libraries\n",
    "\n",
    "</a>"
   ]
  },
  {
   "cell_type": "code",
   "execution_count": 4015,
   "metadata": {},
   "outputs": [],
   "source": [
    "import pandas as pd\n",
    "import numpy as np\n",
    "import seaborn as sns\n",
    "import matplotlib.pyplot as plt\n",
    "from sklearn.neighbors import KNeighborsClassifier, NearestCentroid\n",
    "from sklearn.ensemble import RandomForestClassifier\n",
    "from sklearn.feature_selection import RFE\n",
    "from sklearn.model_selection import train_test_split, StratifiedKFold, GridSearchCV\n",
    "from sklearn.preprocessing import StandardScaler\n",
    "from sklearn.impute import KNNImputer \n",
    "from sklearn.tree import DecisionTreeClassifier\n",
    "from itertools import combinations_with_replacement\n",
    "from sklearn.linear_model import LinearRegression, LogisticRegression, LassoCV, RidgeCV, PassiveAggressiveClassifier\n",
    "from sklearn.neural_network import MLPClassifier\n",
    "from imblearn.ensemble import BalancedBaggingClassifier\n",
    "from sklearn.ensemble import GradientBoostingClassifier, AdaBoostClassifier, VotingClassifier\n",
    "from sklearn.metrics import classification_report, confusion_matrix, accuracy_score"
   ]
  },
  {
   "cell_type": "markdown",
   "metadata": {},
   "source": [
    "<a class=\"anchor\" id=\"import2\">\n",
    "\n",
    "## 1.2. Import Datasets\n",
    "\n",
    "</a>"
   ]
  },
  {
   "cell_type": "code",
   "execution_count": 4016,
   "metadata": {},
   "outputs": [],
   "source": [
    "df = pd.read_csv(r'Data/train.csv')\n",
    "test_df = pd.read_csv(r'Data/test.csv')"
   ]
  },
  {
   "cell_type": "markdown",
   "metadata": {},
   "source": [
    "<hr>\n",
    "<a class=\"anchor\" id=\"explore\">\n",
    "    \n",
    "# 2. Explore\n",
    "    \n",
    "</a>"
   ]
  },
  {
   "cell_type": "markdown",
   "metadata": {},
   "source": [
    "In this step we are going to perform some initial analysis to our dataset, in order to understand the current state of our data. \n",
    "\n",
    "Since results are strongly dependent from the data, this is a crucial step to avoid “garbage in, garbage out”. Said that, in this section we want to minimize noisy information and, simultaneously, rise relevant and important information from our data. This procedure will be performed in two complementary steps: missing values treatment and outliers’ recognition. "
   ]
  },
  {
   "cell_type": "markdown",
   "metadata": {},
   "source": [
    "<a class=\"anchor\" id=\"dataexplore\">\n",
    "\n",
    "## 2.1. Data Exploration\n",
    "\n",
    "</a>"
   ]
  },
  {
   "cell_type": "code",
   "execution_count": 4017,
   "metadata": {},
   "outputs": [
    {
     "data": {
      "text/plain": [
       "(900, 11)"
      ]
     },
     "execution_count": 4017,
     "metadata": {},
     "output_type": "execute_result"
    }
   ],
   "source": [
    "df.shape"
   ]
  },
  {
   "cell_type": "code",
   "execution_count": 4018,
   "metadata": {},
   "outputs": [
    {
     "data": {
      "text/html": [
       "<div>\n",
       "<style scoped>\n",
       "    .dataframe tbody tr th:only-of-type {\n",
       "        vertical-align: middle;\n",
       "    }\n",
       "\n",
       "    .dataframe tbody tr th {\n",
       "        vertical-align: top;\n",
       "    }\n",
       "\n",
       "    .dataframe thead th {\n",
       "        text-align: right;\n",
       "    }\n",
       "</style>\n",
       "<table border=\"1\" class=\"dataframe\">\n",
       "  <thead>\n",
       "    <tr style=\"text-align: right;\">\n",
       "      <th></th>\n",
       "      <th>Patient_ID</th>\n",
       "      <th>Family_Case_ID</th>\n",
       "      <th>Severity</th>\n",
       "      <th>Name</th>\n",
       "      <th>Birthday_year</th>\n",
       "      <th>Parents or siblings infected</th>\n",
       "      <th>Wife/Husband or children infected</th>\n",
       "      <th>Medical_Expenses_Family</th>\n",
       "      <th>Medical_Tent</th>\n",
       "      <th>City</th>\n",
       "      <th>Deceased</th>\n",
       "    </tr>\n",
       "  </thead>\n",
       "  <tbody>\n",
       "    <tr>\n",
       "      <th>0</th>\n",
       "      <td>1</td>\n",
       "      <td>4696</td>\n",
       "      <td>3</td>\n",
       "      <td>Miss Linda Betty</td>\n",
       "      <td>NaN</td>\n",
       "      <td>0</td>\n",
       "      <td>0</td>\n",
       "      <td>225</td>\n",
       "      <td>NaN</td>\n",
       "      <td>Santa Fe</td>\n",
       "      <td>1</td>\n",
       "    </tr>\n",
       "    <tr>\n",
       "      <th>1</th>\n",
       "      <td>2</td>\n",
       "      <td>21436</td>\n",
       "      <td>1</td>\n",
       "      <td>Ms. Ramona Elvira</td>\n",
       "      <td>1966.0</td>\n",
       "      <td>0</td>\n",
       "      <td>1</td>\n",
       "      <td>1663</td>\n",
       "      <td>NaN</td>\n",
       "      <td>Albuquerque</td>\n",
       "      <td>0</td>\n",
       "    </tr>\n",
       "    <tr>\n",
       "      <th>2</th>\n",
       "      <td>3</td>\n",
       "      <td>7273</td>\n",
       "      <td>3</td>\n",
       "      <td>Mr. Mario Vernon</td>\n",
       "      <td>1982.0</td>\n",
       "      <td>0</td>\n",
       "      <td>0</td>\n",
       "      <td>221</td>\n",
       "      <td>NaN</td>\n",
       "      <td>Santa Fe</td>\n",
       "      <td>1</td>\n",
       "    </tr>\n",
       "    <tr>\n",
       "      <th>3</th>\n",
       "      <td>4</td>\n",
       "      <td>8226</td>\n",
       "      <td>3</td>\n",
       "      <td>Mr. Hector Joe</td>\n",
       "      <td>1997.0</td>\n",
       "      <td>0</td>\n",
       "      <td>0</td>\n",
       "      <td>220</td>\n",
       "      <td>NaN</td>\n",
       "      <td>Santa Fe</td>\n",
       "      <td>1</td>\n",
       "    </tr>\n",
       "    <tr>\n",
       "      <th>4</th>\n",
       "      <td>5</td>\n",
       "      <td>19689</td>\n",
       "      <td>3</td>\n",
       "      <td>Ms. Jennie Debra</td>\n",
       "      <td>1994.0</td>\n",
       "      <td>0</td>\n",
       "      <td>0</td>\n",
       "      <td>222</td>\n",
       "      <td>NaN</td>\n",
       "      <td>Santa Fe</td>\n",
       "      <td>0</td>\n",
       "    </tr>\n",
       "  </tbody>\n",
       "</table>\n",
       "</div>"
      ],
      "text/plain": [
       "   Patient_ID  Family_Case_ID  Severity               Name  Birthday_year  \\\n",
       "0           1            4696         3   Miss Linda Betty            NaN   \n",
       "1           2           21436         1  Ms. Ramona Elvira         1966.0   \n",
       "2           3            7273         3   Mr. Mario Vernon         1982.0   \n",
       "3           4            8226         3     Mr. Hector Joe         1997.0   \n",
       "4           5           19689         3   Ms. Jennie Debra         1994.0   \n",
       "\n",
       "   Parents or siblings infected  Wife/Husband or children infected  \\\n",
       "0                             0                                  0   \n",
       "1                             0                                  1   \n",
       "2                             0                                  0   \n",
       "3                             0                                  0   \n",
       "4                             0                                  0   \n",
       "\n",
       "   Medical_Expenses_Family Medical_Tent         City  Deceased  \n",
       "0                      225          NaN     Santa Fe         1  \n",
       "1                     1663          NaN  Albuquerque         0  \n",
       "2                      221          NaN     Santa Fe         1  \n",
       "3                      220          NaN     Santa Fe         1  \n",
       "4                      222          NaN     Santa Fe         0  "
      ]
     },
     "execution_count": 4018,
     "metadata": {},
     "output_type": "execute_result"
    }
   ],
   "source": [
    "df.head(5)"
   ]
  },
  {
   "cell_type": "code",
   "execution_count": 4019,
   "metadata": {},
   "outputs": [
    {
     "name": "stdout",
     "output_type": "stream",
     "text": [
      "<class 'pandas.core.frame.DataFrame'>\n",
      "RangeIndex: 900 entries, 0 to 899\n",
      "Data columns (total 11 columns):\n",
      " #   Column                             Non-Null Count  Dtype  \n",
      "---  ------                             --------------  -----  \n",
      " 0   Patient_ID                         900 non-null    int64  \n",
      " 1   Family_Case_ID                     900 non-null    int64  \n",
      " 2   Severity                           900 non-null    int64  \n",
      " 3   Name                               900 non-null    object \n",
      " 4   Birthday_year                      723 non-null    float64\n",
      " 5   Parents or siblings infected       900 non-null    int64  \n",
      " 6   Wife/Husband or children infected  900 non-null    int64  \n",
      " 7   Medical_Expenses_Family            900 non-null    int64  \n",
      " 8   Medical_Tent                       198 non-null    object \n",
      " 9   City                               898 non-null    object \n",
      " 10  Deceased                           900 non-null    int64  \n",
      "dtypes: float64(1), int64(7), object(3)\n",
      "memory usage: 77.5+ KB\n"
     ]
    }
   ],
   "source": [
    "df.info()"
   ]
  },
  {
   "cell_type": "code",
   "execution_count": 4020,
   "metadata": {},
   "outputs": [
    {
     "data": {
      "text/html": [
       "<div>\n",
       "<style scoped>\n",
       "    .dataframe tbody tr th:only-of-type {\n",
       "        vertical-align: middle;\n",
       "    }\n",
       "\n",
       "    .dataframe tbody tr th {\n",
       "        vertical-align: top;\n",
       "    }\n",
       "\n",
       "    .dataframe thead th {\n",
       "        text-align: right;\n",
       "    }\n",
       "</style>\n",
       "<table border=\"1\" class=\"dataframe\">\n",
       "  <thead>\n",
       "    <tr style=\"text-align: right;\">\n",
       "      <th></th>\n",
       "      <th>Severity</th>\n",
       "      <th>Birthday_year</th>\n",
       "      <th>Parents or siblings infected</th>\n",
       "      <th>Wife/Husband or children infected</th>\n",
       "      <th>Medical_Expenses_Family</th>\n",
       "      <th>Deceased</th>\n",
       "    </tr>\n",
       "  </thead>\n",
       "  <tbody>\n",
       "    <tr>\n",
       "      <th>count</th>\n",
       "      <td>900.000000</td>\n",
       "      <td>723.000000</td>\n",
       "      <td>900.000000</td>\n",
       "      <td>900.000000</td>\n",
       "      <td>900.000000</td>\n",
       "      <td>900.000000</td>\n",
       "    </tr>\n",
       "    <tr>\n",
       "      <th>mean</th>\n",
       "      <td>2.313333</td>\n",
       "      <td>1990.266943</td>\n",
       "      <td>0.380000</td>\n",
       "      <td>0.521111</td>\n",
       "      <td>895.743333</td>\n",
       "      <td>0.614444</td>\n",
       "    </tr>\n",
       "    <tr>\n",
       "      <th>std</th>\n",
       "      <td>0.834223</td>\n",
       "      <td>14.523335</td>\n",
       "      <td>0.803247</td>\n",
       "      <td>1.098385</td>\n",
       "      <td>1385.829926</td>\n",
       "      <td>0.486997</td>\n",
       "    </tr>\n",
       "    <tr>\n",
       "      <th>min</th>\n",
       "      <td>1.000000</td>\n",
       "      <td>1940.000000</td>\n",
       "      <td>0.000000</td>\n",
       "      <td>0.000000</td>\n",
       "      <td>0.000000</td>\n",
       "      <td>0.000000</td>\n",
       "    </tr>\n",
       "    <tr>\n",
       "      <th>25%</th>\n",
       "      <td>2.000000</td>\n",
       "      <td>1982.000000</td>\n",
       "      <td>0.000000</td>\n",
       "      <td>0.000000</td>\n",
       "      <td>221.000000</td>\n",
       "      <td>0.000000</td>\n",
       "    </tr>\n",
       "    <tr>\n",
       "      <th>50%</th>\n",
       "      <td>3.000000</td>\n",
       "      <td>1992.000000</td>\n",
       "      <td>0.000000</td>\n",
       "      <td>0.000000</td>\n",
       "      <td>405.000000</td>\n",
       "      <td>1.000000</td>\n",
       "    </tr>\n",
       "    <tr>\n",
       "      <th>75%</th>\n",
       "      <td>3.000000</td>\n",
       "      <td>1999.500000</td>\n",
       "      <td>0.000000</td>\n",
       "      <td>1.000000</td>\n",
       "      <td>861.250000</td>\n",
       "      <td>1.000000</td>\n",
       "    </tr>\n",
       "    <tr>\n",
       "      <th>max</th>\n",
       "      <td>3.000000</td>\n",
       "      <td>2019.000000</td>\n",
       "      <td>6.000000</td>\n",
       "      <td>8.000000</td>\n",
       "      <td>14345.000000</td>\n",
       "      <td>1.000000</td>\n",
       "    </tr>\n",
       "  </tbody>\n",
       "</table>\n",
       "</div>"
      ],
      "text/plain": [
       "         Severity  Birthday_year  Parents or siblings infected  \\\n",
       "count  900.000000     723.000000                    900.000000   \n",
       "mean     2.313333    1990.266943                      0.380000   \n",
       "std      0.834223      14.523335                      0.803247   \n",
       "min      1.000000    1940.000000                      0.000000   \n",
       "25%      2.000000    1982.000000                      0.000000   \n",
       "50%      3.000000    1992.000000                      0.000000   \n",
       "75%      3.000000    1999.500000                      0.000000   \n",
       "max      3.000000    2019.000000                      6.000000   \n",
       "\n",
       "       Wife/Husband or children infected  Medical_Expenses_Family    Deceased  \n",
       "count                         900.000000               900.000000  900.000000  \n",
       "mean                            0.521111               895.743333    0.614444  \n",
       "std                             1.098385              1385.829926    0.486997  \n",
       "min                             0.000000                 0.000000    0.000000  \n",
       "25%                             0.000000               221.000000    0.000000  \n",
       "50%                             0.000000               405.000000    1.000000  \n",
       "75%                             1.000000               861.250000    1.000000  \n",
       "max                             8.000000             14345.000000    1.000000  "
      ]
     },
     "execution_count": 4020,
     "metadata": {},
     "output_type": "execute_result"
    }
   ],
   "source": [
    "df[['Severity', 'Birthday_year', 'Parents or siblings infected', 'Wife/Husband or children infected', \n",
    "    'Medical_Expenses_Family', 'Deceased']].describe()"
   ]
  },
  {
   "cell_type": "code",
   "execution_count": 4021,
   "metadata": {},
   "outputs": [
    {
     "data": {
      "text/plain": [
       "1    0.614444\n",
       "0    0.385556\n",
       "Name: Deceased, dtype: float64"
      ]
     },
     "execution_count": 4021,
     "metadata": {},
     "output_type": "execute_result"
    }
   ],
   "source": [
    "df['Deceased'].value_counts(normalize=True)"
   ]
  },
  {
   "cell_type": "markdown",
   "metadata": {},
   "source": [
    "`NOTE:` Unbalanced learning, test over/under sampling."
   ]
  },
  {
   "cell_type": "markdown",
   "metadata": {},
   "source": [
    "<a class=\"anchor\" id=\"miss_values\">\n",
    "\n",
    "## 2.2. Missing Values Analysis\n",
    "\n",
    "</a>"
   ]
  },
  {
   "cell_type": "markdown",
   "metadata": {},
   "source": [
    "Before starting any analysis, we must take a look to our dataset and ensure the quality of our data. Therefore, we started by checking the existence of missing values as can be seen below. To properly deal with the 881 and 393 missing values present in the train and test dataset respectively it was necessary to adopt different approaches that would be suited for each case."
   ]
  },
  {
   "cell_type": "code",
   "execution_count": 4022,
   "metadata": {},
   "outputs": [
    {
     "name": "stdout",
     "output_type": "stream",
     "text": [
      "# of missing values by variable:\n"
     ]
    },
    {
     "data": {
      "text/plain": [
       "Patient_ID                             0\n",
       "Family_Case_ID                         0\n",
       "Severity                               0\n",
       "Name                                   0\n",
       "Birthday_year                        177\n",
       "Parents or siblings infected           0\n",
       "Wife/Husband or children infected      0\n",
       "Medical_Expenses_Family                0\n",
       "Medical_Tent                         702\n",
       "City                                   2\n",
       "Deceased                               0\n",
       "dtype: int64"
      ]
     },
     "execution_count": 4022,
     "metadata": {},
     "output_type": "execute_result"
    }
   ],
   "source": [
    "print(\"# of missing values by variable:\")\n",
    "df.isnull().sum()"
   ]
  },
  {
   "cell_type": "code",
   "execution_count": 4023,
   "metadata": {},
   "outputs": [
    {
     "name": "stdout",
     "output_type": "stream",
     "text": [
      "# of missing values by variable:\n"
     ]
    },
    {
     "data": {
      "text/plain": [
       "Patient_ID                             0\n",
       "Family_Case_ID                         0\n",
       "Severity                               0\n",
       "Name                                   0\n",
       "Birthday_year                         82\n",
       "Parents or siblings infected           0\n",
       "Wife/Husband or children infected      0\n",
       "Medical_Expenses_Family                0\n",
       "Medical_Tent                         311\n",
       "City                                   0\n",
       "dtype: int64"
      ]
     },
     "execution_count": 4023,
     "metadata": {},
     "output_type": "execute_result"
    }
   ],
   "source": [
    "print(\"# of missing values by variable:\")\n",
    "test_df.isnull().sum()"
   ]
  },
  {
   "cell_type": "markdown",
   "metadata": {},
   "source": [
    "##### Medical Tent"
   ]
  },
  {
   "cell_type": "markdown",
   "metadata": {},
   "source": [
    "In this particular case we decided to drop the variable \"Medical Tent\", once it as 702 missing values from a total of 900 which corresponds to a total of 78% of missing information.\n"
   ]
  },
  {
   "cell_type": "code",
   "execution_count": 4024,
   "metadata": {},
   "outputs": [],
   "source": [
    "df = df.drop(columns='Medical_Tent')\n",
    "test_df = test_df.drop(columns='Medical_Tent')"
   ]
  },
  {
   "cell_type": "markdown",
   "metadata": {},
   "source": [
    "##### City"
   ]
  },
  {
   "cell_type": "markdown",
   "metadata": {},
   "source": [
    "To fill the missing values in the variable \"City\", we decide to use the mode, since there are only two observations missing."
   ]
  },
  {
   "cell_type": "code",
   "execution_count": 4025,
   "metadata": {},
   "outputs": [
    {
     "data": {
      "text/plain": [
       "Santa Fe       649\n",
       "Albuquerque    169\n",
       "Taos            80\n",
       "Name: City, dtype: int64"
      ]
     },
     "execution_count": 4025,
     "metadata": {},
     "output_type": "execute_result"
    }
   ],
   "source": [
    "df.City.value_counts()"
   ]
  },
  {
   "cell_type": "code",
   "execution_count": 4026,
   "metadata": {},
   "outputs": [],
   "source": [
    "df['City'] = df['City'].fillna(df['City'].mode()[0])"
   ]
  },
  {
   "cell_type": "code",
   "execution_count": 4027,
   "metadata": {},
   "outputs": [
    {
     "data": {
      "text/plain": [
       "Santa Fe       651\n",
       "Albuquerque    169\n",
       "Taos            80\n",
       "Name: City, dtype: int64"
      ]
     },
     "execution_count": 4027,
     "metadata": {},
     "output_type": "execute_result"
    }
   ],
   "source": [
    "df.City.value_counts()"
   ]
  },
  {
   "cell_type": "markdown",
   "metadata": {},
   "source": [
    "##### Birthday Year"
   ]
  },
  {
   "cell_type": "markdown",
   "metadata": {},
   "source": [
    "In what concerns the remaining missing values, all from the variable \"Birthday Year\", we decided to apply the K-Nearest-Neighbor algorithm to fill them. This decision was based in the fact that there are 177 missing values, which we consider too much for apllying a simple input (such as mean or median input), but not that many too remove a variable that we consider that might have some importance in our model. \n",
    "Later, with more knowledge of the dataset we might consider remove it."
   ]
  },
  {
   "cell_type": "code",
   "execution_count": 4028,
   "metadata": {},
   "outputs": [],
   "source": [
    "# Training set\n",
    "knn_vars = df.drop(['Patient_ID', 'Name', 'City', 'Deceased'], axis = 1)\n",
    "imputer = KNNImputer(n_neighbors=10)\n",
    "X_filled_knn = imputer.fit_transform(knn_vars)\n",
    "years = np.round(X_filled_knn[:,2])\n",
    "\n",
    "for i in range(len(knn_vars)):\n",
    "    if knn_vars.loc[i,'Birthday_year'] < 1900:\n",
    "        print (years[i])\n",
    "        \n",
    "df['Birthday_year'] = years\n",
    "\n",
    "# Test set\n",
    "knn_vars_test = test_df.drop(['Patient_ID', 'Name', 'City'], axis = 1)\n",
    "imputer = KNNImputer(n_neighbors=10)\n",
    "Xtest_filled_knn = imputer.fit_transform(knn_vars_test)\n",
    "years_df = np.round(Xtest_filled_knn[:,2])\n",
    "test_df['Birthday_year'] = years_df"
   ]
  },
  {
   "cell_type": "markdown",
   "metadata": {},
   "source": [
    "<a class=\"anchor\" id=\"outliers\">\n",
    "\n",
    "## 2.3. Outliers Analysis\n",
    "\n",
    "</a>"
   ]
  },
  {
   "cell_type": "markdown",
   "metadata": {},
   "source": [
    "In this step, we attempted to correctly identify all outliers through boxplot and histogram visualizations were we compare odd values against the pattern of the data.\n",
    "\n",
    "By looking at the boxplot, observations outside the minimum and maximum values, which is defined by the *whis* parameter, may be considered outliers. Despite that, is important to define the moment to stop cutting, otherwise we may take off non-outliers observations, so we identified the biggest distances in the extremes. This method requires a strong knowledge of our dataset and therefore we may need to perform some adjustments to this step later."
   ]
  },
  {
   "cell_type": "code",
   "execution_count": 4029,
   "metadata": {},
   "outputs": [
    {
     "data": {
      "text/plain": [
       "<matplotlib.axes._subplots.AxesSubplot at 0x21655620248>"
      ]
     },
     "execution_count": 4029,
     "metadata": {},
     "output_type": "execute_result"
    },
    {
     "data": {
      "image/png": "[encoded data removed]",
      "text/plain": [
       "<Figure size 720x360 with 2 Axes>"
      ]
     },
     "metadata": {
      "needs_background": "light"
     },
     "output_type": "display_data"
    }
   ],
   "source": [
    "f, axes = plt.subplots(1,2, figsize=(10, 5), squeeze=False)    \n",
    "sns.boxplot(df[\"Birthday_year\"], color=\"skyblue\", ax=axes[0, 0])\n",
    "sns.boxplot(df[\"Medical_Expenses_Family\"], color=\"blue\", ax=axes[0, 1])"
   ]
  },
  {
   "cell_type": "code",
   "execution_count": 4030,
   "metadata": {},
   "outputs": [
    {
     "data": {
      "text/plain": [
       "<matplotlib.axes._subplots.AxesSubplot at 0x2164ef73f08>"
      ]
     },
     "execution_count": 4030,
     "metadata": {},
     "output_type": "execute_result"
    },
    {
     "data": {
      "image/png": "[encoded data removed]",
      "text/plain": [
       "<Figure size 720x720 with 4 Axes>"
      ]
     },
     "metadata": {
      "needs_background": "light"
     },
     "output_type": "display_data"
    }
   ],
   "source": [
    "f, axes = plt.subplots(2, 2, figsize=(10, 10))\n",
    "sns.distplot(df[\"Birthday_year\"], color=\"skyblue\", ax=axes[0, 0], kde=False)\n",
    "sns.distplot(df[\"Parents or siblings infected\"], color=\"steelblue\", ax=axes[0, 1], kde=False)\n",
    "sns.distplot(df[\"Medical_Expenses_Family\"], color=\"blue\", ax=axes[1, 0], kde=False)\n",
    "sns.distplot(df[\"Wife/Husband or children infected\"], color=\"c\", ax=axes[1, 1], kde=False)"
   ]
  },
  {
   "cell_type": "code",
   "execution_count": 4031,
   "metadata": {},
   "outputs": [
    {
     "data": {
      "text/plain": [
       "0    897\n",
       "1      3\n",
       "Name: Outlier, dtype: int64"
      ]
     },
     "execution_count": 4031,
     "metadata": {},
     "output_type": "execute_result"
    }
   ],
   "source": [
    "#Create a 'Outlier' column with all values equal to zero:\n",
    "df['Outlier'] = 0\n",
    "\n",
    "#Define the threshold for each variable:\n",
    "df.loc[df['Medical_Expenses_Family']>13000, 'Outlier']=1\n",
    "# df.loc[df['Parents or siblings infected']>2, 'Outlier']=1\n",
    "# df.loc[df['Medical_Expenses_Family']>4, 'Outlier']=1\n",
    "\n",
    "df['Outlier'].value_counts()"
   ]
  },
  {
   "cell_type": "code",
   "execution_count": 4032,
   "metadata": {},
   "outputs": [],
   "source": [
    "#Slice the df so that the new DataFrame is composed of only non-outlier observations:\n",
    "df = df.loc[df['Outlier'] == 0]"
   ]
  },
  {
   "cell_type": "code",
   "execution_count": 4033,
   "metadata": {},
   "outputs": [
    {
     "data": {
      "text/plain": [
       "Santa Fe       651\n",
       "Albuquerque    166\n",
       "Taos            80\n",
       "Name: City, dtype: int64"
      ]
     },
     "execution_count": 4033,
     "metadata": {},
     "output_type": "execute_result"
    }
   ],
   "source": [
    "df['City'].value_counts()"
   ]
  },
  {
   "cell_type": "markdown",
   "metadata": {},
   "source": [
    "<hr>\n",
    "<a class=\"anchor\" id=\"modify\">\n",
    "\n",
    "# 3. Modify\n",
    "    \n",
    "</a>"
   ]
  },
  {
   "cell_type": "markdown",
   "metadata": {},
   "source": [
    "<hr>\n",
    "<a class=\"anchor\" id=\"transf_create\">\n",
    "\n",
    "## 3.1. Transform and Create variables\n",
    "    \n",
    "</a>"
   ]
  },
  {
   "cell_type": "code",
   "execution_count": 4034,
   "metadata": {},
   "outputs": [],
   "source": [
    "df.loc[df['City'] == 'Santa Fe', 'Santa Fe'] = 1\n",
    "df.loc[df['City'] != 'Santa Fe', 'Santa Fe'] = 0\n",
    "test_df.loc[test_df['City'] == 'Santa Fe', 'Santa Fe'] = 1\n",
    "test_df.loc[test_df['City'] != 'Santa Fe', 'Santa Fe'] = 0\n",
    "\n",
    "df.loc[df['City'] == 'Taos', 'Taos'] = 1\n",
    "df.loc[df['City'] != 'Taos', 'Taos'] = 0\n",
    "test_df.loc[test_df['City'] == 'Taos', 'Taos'] = 1\n",
    "test_df.loc[test_df['City'] != 'Taos', 'Taos'] = 0\n",
    "\n",
    "df['Age'] = 2020 - df['Birthday_year']\n",
    "test_df['Age'] = 2020 - test_df['Birthday_year']\n",
    "\n",
    "df['Family_cases'] = df['Parents or siblings infected'] + df['Wife/Husband or children infected']\n",
    "test_df['Family_cases'] = test_df['Parents or siblings infected'] + test_df['Wife/Husband or children infected']\n",
    "\n",
    "Family_size = pd.DataFrame(df['Patient_ID'].groupby(df['Family_Case_ID']).count())\n",
    "Family_size = Family_size.rename({'Patient_ID':'Family_size'}, axis='columns') \n",
    "df = df.merge(Family_size, on = ['Family_Case_ID'])\n",
    "\n",
    "Family_size_test = pd.DataFrame(test_df['Patient_ID'].groupby(test_df['Family_Case_ID']).count())\n",
    "Family_size_test = Family_size_test.rename({'Patient_ID':'Family_size'}, axis='columns') \n",
    "test_df = test_df.merge(Family_size_test, on = ['Family_Case_ID'])\n",
    "\n",
    "df['Medical_Expenses_Person'] = df['Medical_Expenses_Family']/df['Family_size']\n",
    "test_df['Medical_Expenses_Person'] = test_df['Medical_Expenses_Family']/test_df['Family_size']\n",
    "\n",
    "df['Parents_infected_bin'] = 0\n",
    "df.loc[df['Parents or siblings infected'] != 0, 'Parents_infected_bin'] = 1\n",
    "test_df['Parents_infected_bin'] = 0\n",
    "test_df.loc[test_df['Parents or siblings infected'] != 0, 'Parents_infected_bin'] = 1\n",
    "\n",
    "df['WifeOrChildren_infected_bin'] = 0\n",
    "df.loc[df['Wife/Husband or children infected'] != 0, 'WifeOrChildren_infected_bin'] = 1\n",
    "test_df['WifeOrChildren_infected_bin'] = 0\n",
    "test_df.loc[test_df['Wife/Husband or children infected'] != 0, 'WifeOrChildren_infected_bin'] = 1\n",
    "\n",
    "df['ProportionCases'] = df['Family_cases'] / df['Family_size']\n",
    "test_df['ProportionCases'] = test_df['Family_cases'] / test_df['Family_size']\n",
    "\n",
    "df['Male'] = '0'\n",
    "test_df['Male'] = 0\n",
    "df.loc[df['Name'].str.startswith(\"Mr.\"), \"Male\" ] = \"1\"\n",
    "df.loc[df['Name'].str.startswith(\"Master\"), \"Male\" ] = \"1\"\n",
    "test_df.loc[test_df['Name'].str.startswith(\"Mr.\"), \"Male\" ] = \"1\"\n",
    "test_df.loc[test_df['Name'].str.startswith(\"Master\"), \"Male\" ] = \"1\"\n",
    "\n",
    "# df['Proxy_Expenses'] = df['Medical_Expenses_Family']/df['Severity']\n",
    "\n",
    "# df['Family_infected'] = df['Parents or siblings infected'] + df['Wife/Husband or children infected']\n",
    "# test_df['Family_infected'] = test_df['Parents or siblings infected'] + test_df['Wife/Husband or children infected']\n",
    "\n",
    "df.drop(columns = ['City','Name','Outlier','Family_Case_ID','Birthday_year'], inplace = True)\n",
    "test_df.drop(columns = ['City','Name','Family_Case_ID','Birthday_year'], inplace = True)\n",
    "\n",
    "df.set_index('Patient_ID', inplace = True)\n",
    "test_df.set_index('Patient_ID', inplace = True)"
   ]
  },
  {
   "cell_type": "code",
   "execution_count": 4035,
   "metadata": {},
   "outputs": [
    {
     "data": {
      "text/plain": [
       "Index(['Severity', 'Parents or siblings infected',\n",
       "       'Wife/Husband or children infected', 'Medical_Expenses_Family',\n",
       "       'Deceased', 'Santa Fe', 'Taos', 'Age', 'Family_cases', 'Family_size',\n",
       "       'Medical_Expenses_Person', 'Parents_infected_bin',\n",
       "       'WifeOrChildren_infected_bin', 'ProportionCases', 'Male'],\n",
       "      dtype='object')"
      ]
     },
     "execution_count": 4035,
     "metadata": {},
     "output_type": "execute_result"
    }
   ],
   "source": [
    "df.columns"
   ]
  },
  {
   "cell_type": "markdown",
   "metadata": {},
   "source": [
    "<hr>\n",
    "<a class=\"anchor\" id=\"coherence\">\n",
    "\n",
    "## 3.2. Coherence Checking\n",
    "    \n",
    "</a>"
   ]
  },
  {
   "cell_type": "code",
   "execution_count": 4036,
   "metadata": {},
   "outputs": [
    {
     "data": {
      "text/plain": [
       "0    841\n",
       "1     56\n",
       "Name: Incoherent, dtype: int64"
      ]
     },
     "execution_count": 4036,
     "metadata": {},
     "output_type": "execute_result"
    }
   ],
   "source": [
    "df2 = df.copy()\n",
    "df2['Incoherent'] = 0\n",
    "#Acho que deviamos tirar isto, não faz sentdo considerarmos incoerencias e deixarmos ficar\n",
    "df2.loc[df2['Family_cases'] > df2['Family_size'], 'Incoherent'] = 1\n",
    "df2.loc[(df['Age'] > 120) | (df2['Age'] < 0), 'Incoherent'] = 1\n",
    "df2['Incoherent'].value_counts()"
   ]
  },
  {
   "cell_type": "markdown",
   "metadata": {},
   "source": [
    "<hr>\n",
    "<a class=\"anchor\" id=\"corr\">\n",
    "\n",
    "## 3.3. Correlation Analysis\n",
    "    \n",
    "</a>"
   ]
  },
  {
   "cell_type": "code",
   "execution_count": 4037,
   "metadata": {},
   "outputs": [
    {
     "data": {
      "image/png": "[encoded data removed]",
      "text/plain": [
       "<Figure size 864x864 with 2 Axes>"
      ]
     },
     "metadata": {
      "needs_background": "light"
     },
     "output_type": "display_data"
    }
   ],
   "source": [
    "# Confirmar se incluímos a dependente na matriz de correlação\n",
    "plt.rcParams['figure.figsize'] = (12,12)\n",
    "\n",
    "corr_matrix=df.drop(columns=['Wife/Husband or children infected', 'Parents or siblings infected']).corr(method = 'spearman')\n",
    "mask=np.zeros_like(corr_matrix, dtype=np.bool)\n",
    "mask[np.triu_indices_from(mask)]=True\n",
    "sns.heatmap(data=corr_matrix, mask=mask, center=0, annot=True, linewidths=2, cmap='coolwarm')\n",
    "plt.tight_layout()"
   ]
  },
  {
   "cell_type": "markdown",
   "metadata": {},
   "source": [
    "From the correlation analysis and based on a threshold of 0.8 (or -0.8) we can conclude that we should choose between removing the variable \"Family Cases\" or both the variables \"Parents or Siblings Infected\" and \"Wife/Husband or children infected\". Besides that, there are some values that we should pay some attention, specially the ones related with the variable \"Medical_Expenses_Person\", which also seems to be strongly correlated with the \"Medical expenses_family\" (0.75) and the \"Severaty\" (-0.79).\n",
    "\n",
    "In section 3.5., we will procceed to feature selection where we will take into account the values obtained with this analysis."
   ]
  },
  {
   "cell_type": "markdown",
   "metadata": {},
   "source": [
    "<hr>\n",
    "<a class=\"anchor\" id=\"train_val\">\n",
    "\n",
    "## 3.4. Train Validation Partition\n",
    "    \n",
    "</a>"
   ]
  },
  {
   "cell_type": "code",
   "execution_count": 4038,
   "metadata": {},
   "outputs": [],
   "source": [
    "variables =['Severity', 'Age','Male','Santa Fe','Taos','Family_cases']\n",
    "\n",
    "# variables = ['Severity', 'Age', 'Parents_infected_bin','Male','Santa Fe',\n",
    "#              'WifeOrChildren_infected_bin', 'Family_size', 'Medical_Expenses_Family']\n",
    "\n",
    "X = df[variables]\n",
    "\n",
    "y = df['Deceased']"
   ]
  },
  {
   "cell_type": "code",
   "execution_count": 4039,
   "metadata": {},
   "outputs": [],
   "source": [
    "X_train, X_val, y_train, y_val = train_test_split(X, y, test_size=0.3, \n",
    "                                                  random_state=15, shuffle=True, stratify=y)"
   ]
  },
  {
   "cell_type": "markdown",
   "metadata": {},
   "source": [
    "<hr>\n",
    "<a class=\"anchor\" id=\"datastand\">\n",
    "\n",
    "## 3.5. Standardization\n",
    "    \n",
    "</a>"
   ]
  },
  {
   "cell_type": "code",
   "execution_count": 4040,
   "metadata": {},
   "outputs": [],
   "source": [
    "scaler = StandardScaler().fit(X_train)  # z-score\n",
    "#scaler = RobustScaler().fit(X_train) # robust standardization\n",
    "\n",
    "scaler_X_train = scaler.transform(X_train)\n",
    "scaler_X_train = pd.DataFrame(scaler_X_train, columns=variables)\n",
    "\n",
    "scaler_X_val = scaler.transform(X_val)\n",
    "scaler_X_val = pd.DataFrame(scaler_X_val, columns=variables)\n",
    "\n",
    "test_df = test_df[variables]\n",
    "\n",
    "scaler_X_test = scaler.transform(test_df)\n",
    "scaler_X_test = pd.DataFrame(scaler_X_test, columns=variables)"
   ]
  },
  {
   "cell_type": "code",
   "execution_count": 4041,
   "metadata": {},
   "outputs": [],
   "source": [
    "# min max normalization\n",
    "#minmax = MinMaxScaler(feature_range=(-1,1)).fit(X_train)\n",
    "##minmax = MinMaxScaler().fit(X_train)\n",
    "#scaler_X_train = minmax.transform(X_train)\n",
    "#scaler_X_val = minmax.transform(X_val)\n",
    "#scaler_X_test = minmax.transform(test_df)"
   ]
  },
  {
   "cell_type": "markdown",
   "metadata": {},
   "source": [
    "<hr>\n",
    "<a class=\"anchor\" id=\"feature\">\n",
    "\n",
    "## 3.6. Feature Selection\n",
    "    \n",
    "</a>"
   ]
  },
  {
   "cell_type": "markdown",
   "metadata": {},
   "source": [
    "<hr>\n",
    "<a class=\"anchor\" id=\"lasso\">\n",
    "\n",
    "### 3.6.1. Lasso Regression\n",
    "    \n",
    "</a>"
   ]
  },
  {
   "cell_type": "code",
   "execution_count": 4042,
   "metadata": {},
   "outputs": [],
   "source": [
    "def plot_importance(coef,name):\n",
    "    imp_coef = coef.sort_values()\n",
    "    plt.figure(figsize=(8,10))\n",
    "    imp_coef.plot(kind = \"barh\")\n",
    "    plt.title(\"Feature importance using \" + name + \" Model\")\n",
    "    plt.show()"
   ]
  },
  {
   "cell_type": "code",
   "execution_count": 4043,
   "metadata": {},
   "outputs": [
    {
     "data": {
      "text/plain": [
       "Taos           -0.000000\n",
       "Family_cases    0.003613\n",
       "Santa Fe        0.018633\n",
       "Family_size     0.028381\n",
       "Age             0.060617\n",
       "Severity        0.141243\n",
       "Male            0.248583\n",
       "dtype: float64"
      ]
     },
     "execution_count": 4043,
     "metadata": {},
     "output_type": "execute_result"
    }
   ],
   "source": [
    "reg = LassoCV()\n",
    "reg.fit(scaler_X_train, y_train)\n",
    "coef = pd.Series(reg.coef_, index=scaler_X_train.columns)\n",
    "coef.sort_values()"
   ]
  },
  {
   "cell_type": "code",
   "execution_count": 4044,
   "metadata": {},
   "outputs": [
    {
     "data": {
      "image/png": "[encoded data removed]",
      "text/plain": [
       "<Figure size 576x720 with 1 Axes>"
      ]
     },
     "metadata": {
      "needs_background": "light"
     },
     "output_type": "display_data"
    }
   ],
   "source": [
    "plot_importance(coef, 'Lasso')"
   ]
  },
  {
   "cell_type": "markdown",
   "metadata": {},
   "source": [
    "<hr>\n",
    "<a class=\"anchor\" id=\"ridge\">\n",
    "\n",
    "### 3.6.2. Ridge Regression\n",
    "    \n",
    "</a>"
   ]
  },
  {
   "cell_type": "code",
   "execution_count": 4045,
   "metadata": {},
   "outputs": [
    {
     "name": "stdout",
     "output_type": "stream",
     "text": [
      "Taos           -0.002537\n",
      "Family_cases    0.007046\n",
      "Santa Fe        0.021547\n",
      "Family_size     0.031938\n",
      "Age             0.068090\n",
      "Severity        0.147141\n",
      "Male            0.248685\n",
      "dtype: float64\n"
     ]
    }
   ],
   "source": [
    "ridge = RidgeCV()\n",
    "ridge.fit(X=scaler_X_train, y=y_train)\n",
    "coef_ridge = pd.Series(ridge.coef_, index=scaler_X_train.columns)\n",
    "print(coef_ridge.sort_values())"
   ]
  },
  {
   "cell_type": "code",
   "execution_count": 4046,
   "metadata": {},
   "outputs": [
    {
     "data": {
      "image/png": "[encoded data removed]",
      "text/plain": [
       "<Figure size 576x720 with 1 Axes>"
      ]
     },
     "metadata": {
      "needs_background": "light"
     },
     "output_type": "display_data"
    }
   ],
   "source": [
    "plot_importance(coef_ridge,'Ridge')"
   ]
  },
  {
   "cell_type": "markdown",
   "metadata": {},
   "source": [
    "<hr>\n",
    "<a class=\"anchor\" id=\"rfe\">\n",
    "\n",
    "### 3.6.3. Recursive Feature Elimination (RFE)\n",
    "    \n",
    "</a>"
   ]
  },
  {
   "cell_type": "code",
   "execution_count": 4047,
   "metadata": {},
   "outputs": [
    {
     "name": "stdout",
     "output_type": "stream",
     "text": [
      "Optimum number of features: 4\n",
      "Score with 4 features: 0.809524\n"
     ]
    }
   ],
   "source": [
    "#no of features\n",
    "nof_list=np.arange(1,10)            \n",
    "high_score=0\n",
    "#Variable to store the optimum features\n",
    "nof=0           \n",
    "score_list =[]\n",
    "for n in range(len(nof_list)):\n",
    "\n",
    "    X_train_rfe, X_rfe_val, y_train_rfe, y_rfe_val = train_test_split(scaler_X_train, y_train, test_size = 0.2, \n",
    "                                                                      random_state = 100)\n",
    "    \n",
    "    model_rfe = LogisticRegression()\n",
    "    rfe = RFE(model_rfe,nof_list[n])\n",
    "    X_train_rfe = rfe.fit_transform(X_train_rfe,y_train_rfe)\n",
    "    X_rfe_val = rfe.transform(X_rfe_val)\n",
    "    \n",
    "    model_rfe.fit(X_train_rfe,y_train_rfe)\n",
    "    \n",
    "    score = model_rfe.score(X_rfe_val,y_rfe_val)\n",
    "    score_list.append(score)\n",
    "    \n",
    "    if(score>high_score):\n",
    "        high_score = score\n",
    "        nof = nof_list[n]\n",
    "        \n",
    "\n",
    "print(\"Optimum number of features: %d\" %nof)\n",
    "print(\"Score with %d features: %f\" % (nof, high_score))"
   ]
  },
  {
   "cell_type": "code",
   "execution_count": 4048,
   "metadata": {},
   "outputs": [
    {
     "data": {
      "text/plain": [
       "Severity        1\n",
       "Age             1\n",
       "Male            1\n",
       "Santa Fe        1\n",
       "Family_cases    1\n",
       "Family_size     1\n",
       "Taos            2\n",
       "dtype: int32"
      ]
     },
     "execution_count": 4048,
     "metadata": {},
     "output_type": "execute_result"
    }
   ],
   "source": [
    "N = 6\n",
    "model_rfe = LogisticRegression()\n",
    "rfe = RFE(estimator = model_rfe, n_features_to_select = N)\n",
    "X_rfe = rfe.fit_transform(X = scaler_X_train, y = y_train) \n",
    "\n",
    "selected_features_rfe = pd.Series(rfe.ranking_, index = scaler_X_train.columns)\n",
    "selected_features_rfe.sort_values()"
   ]
  },
  {
   "cell_type": "markdown",
   "metadata": {},
   "source": [
    "<hr>\n",
    "<a class=\"anchor\" id=\"model\">\n",
    "\n",
    "# 4. Model\n",
    "    \n",
    "</a>"
   ]
  },
  {
   "cell_type": "markdown",
   "metadata": {},
   "source": [
    "In this step we present all the algorithms tested as well as the correspondent grid search for hyperparameters tunning and the final models from which we obtained the best results.\n",
    "\n",
    "The hyperparameters tuning was accomplished through the creation of a grid search with a 5 fold stratified cross-validation with the objective of obtain robust results. The focus was to optimize the average **Accuracy**, this is, the number of correct predictions from the total number of input samples, to later compare our results to the test dataset in the Kaggle plataform. \n",
    "\n",
    "Through this methodology, several standardization techniques and combinations of variables were tested to obtain the best possible results. Moreover, several classifiers were tested in combination with these representations, namely: K-Nearest Neighbors,K-Nearest Centroid, Decision Trees, Random Forest, Passive Agressive, Logistic Regression, Naive Bayes, Multi-Layer Perceptron, Neural Networks and a wide variety of ensemble techniques."
   ]
  },
  {
   "cell_type": "markdown",
   "metadata": {},
   "source": [
    "<hr>\n",
    "<a class=\"anchor\" id=\"knn\">\n",
    "\n",
    "## 4.1. K Nearest Neighbors\n",
    "    \n",
    "</a>"
   ]
  },
  {
   "cell_type": "code",
   "execution_count": 4049,
   "metadata": {},
   "outputs": [],
   "source": [
    "k = 5\n",
    "cv = StratifiedKFold(n_splits=k, shuffle=True, random_state=15)"
   ]
  },
  {
   "cell_type": "code",
   "execution_count": 4054,
   "metadata": {},
   "outputs": [
    {
     "data": {
      "text/plain": [
       "array([13, 14, 15, 16, 17, 18, 19, 20, 21, 22, 23, 24, 25, 26, 27, 28, 29,\n",
       "       30])"
      ]
     },
     "execution_count": 4054,
     "metadata": {},
     "output_type": "execute_result"
    }
   ],
   "source": [
    "np.arange(13,31,1)"
   ]
  },
  {
   "cell_type": "code",
   "execution_count": 4055,
   "metadata": {},
   "outputs": [
    {
     "name": "stdout",
     "output_type": "stream",
     "text": [
      "Fitting 5 folds for each of 2280 candidates, totalling 11400 fits\n"
     ]
    },
    {
     "name": "stderr",
     "output_type": "stream",
     "text": [
      "[Parallel(n_jobs=-1)]: Using backend LokyBackend with 8 concurrent workers.\n",
      "[Parallel(n_jobs=-1)]: Done 384 tasks      | elapsed:    0.8s\n",
      "[Parallel(n_jobs=-1)]: Done 6384 tasks      | elapsed:    7.3s\n",
      "[Parallel(n_jobs=-1)]: Done 11400 out of 11400 | elapsed:   13.6s finished\n"
     ]
    },
    {
     "data": {
      "text/plain": [
       "GridSearchCV(cv=StratifiedKFold(n_splits=5, random_state=15, shuffle=True),\n",
       "             error_score=nan,\n",
       "             estimator=KNeighborsClassifier(algorithm='auto', leaf_size=30,\n",
       "                                            metric='minkowski',\n",
       "                                            metric_params=None, n_jobs=None,\n",
       "                                            n_neighbors=5, p=2,\n",
       "                                            weights='uniform'),\n",
       "             iid='deprecated', n_jobs=-1,\n",
       "             param_grid={'algorithm': ['ball_tree', 'kd_tree', 'brute'],\n",
       "                         'metric': ['euclidean', 'cosine'...\n",
       "       22, 23, 24, 25, 26, 27, 28, 29, 30, 31, 32, 33, 34, 35, 36, 37, 38,\n",
       "       39, 40, 41, 42, 43, 44, 45, 46, 47, 48, 49, 50, 51, 52, 53, 54, 55,\n",
       "       56, 57, 58, 59, 60, 61, 62, 63, 64, 65, 66, 67, 68, 69, 70, 71, 72,\n",
       "       73, 74, 75, 76, 77, 78, 79, 80, 81, 82, 83, 84, 85, 86, 87, 88, 89,\n",
       "       90, 91, 92, 93, 94, 95, 96, 97, 98, 99]),\n",
       "                         'weights': ['uniform', 'distance']},\n",
       "             pre_dispatch='2*n_jobs', refit=True, return_train_score=False,\n",
       "             scoring='accuracy', verbose=1)"
      ]
     },
     "execution_count": 4055,
     "metadata": {},
     "output_type": "execute_result"
    }
   ],
   "source": [
    "knn_clf = KNeighborsClassifier()\n",
    "\n",
    "knn_parameters = {'n_neighbors' : np.arange(5,100,1),\n",
    "                  'metric' : ['euclidean', 'cosine', 'manhattan', 'minkowski'],\n",
    "                  'weights' : ['uniform', 'distance'],\n",
    "                  'algorithm': ['ball_tree', 'kd_tree', 'brute']}\n",
    "\n",
    "knn_grid = GridSearchCV(estimator=knn_clf, param_grid=knn_parameters, cv=cv, scoring='accuracy', verbose=1, n_jobs=-1)\n",
    "\n",
    "knn_grid.fit(scaler_X_train, y_train)"
   ]
  },
  {
   "cell_type": "code",
   "execution_count": 4056,
   "metadata": {},
   "outputs": [
    {
     "data": {
      "text/plain": [
       "{'algorithm': 'ball_tree',\n",
       " 'metric': 'euclidean',\n",
       " 'n_neighbors': 11,\n",
       " 'weights': 'uniform'}"
      ]
     },
     "execution_count": 4056,
     "metadata": {},
     "output_type": "execute_result"
    }
   ],
   "source": [
    "knn_grid.best_params_"
   ]
  },
  {
   "cell_type": "code",
   "execution_count": 4057,
   "metadata": {},
   "outputs": [
    {
     "data": {
      "text/plain": [
       "0.8309333333333333"
      ]
     },
     "execution_count": 4057,
     "metadata": {},
     "output_type": "execute_result"
    }
   ],
   "source": [
    "knn_grid.best_score_"
   ]
  },
  {
   "cell_type": "markdown",
   "metadata": {},
   "source": [
    "<hr>\n",
    "<a class=\"anchor\" id=\"knc\">\n",
    "\n",
    "## 4.2. K Nearest Centroid\n",
    "    \n",
    "</a>"
   ]
  },
  {
   "cell_type": "code",
   "execution_count": null,
   "metadata": {},
   "outputs": [],
   "source": [
    "knc_clf = NearestCentroid()\n",
    "\n",
    "knc_parameters = {'metric' : ['euclidean', 'cosine', 'manhattan']}\n",
    "\n",
    "knc_grid = GridSearchCV(estimator=knc_clf, param_grid=knc_parameters, cv=cv, scoring='accuracy', verbose=1, n_jobs=-1)\n",
    "\n",
    "knc_grid.fit(scaler_X_train, y_train)\n",
    "knc_grid.best_params_"
   ]
  },
  {
   "cell_type": "code",
   "execution_count": null,
   "metadata": {},
   "outputs": [],
   "source": [
    "knc_grid.best_score_"
   ]
  },
  {
   "cell_type": "markdown",
   "metadata": {},
   "source": [
    "<hr>\n",
    "<a class=\"anchor\" id=\"rfc\">\n",
    "\n",
    "## 4.3. Random Forest\n",
    "    \n",
    "</a>"
   ]
  },
  {
   "cell_type": "code",
   "execution_count": null,
   "metadata": {},
   "outputs": [],
   "source": [
    "rf_clf = RandomForestClassifier(class_weight='balanced', random_state=15)\n",
    "\n",
    "rf_parameters = {\"n_estimators\": np.arange(100, 400, 100),\n",
    "                 \"max_features\": ['sqrt', 'log2', 'auto', None],\n",
    "                 \"criterion\": ['gini', 'entropy'],\n",
    "                 \"warm_start\" : [True, False]}\n",
    "\n",
    "rf_grid = GridSearchCV(estimator=rf_clf, param_grid=rf_parameters, cv=cv, scoring='accuracy', verbose=1, n_jobs=-1)\n",
    "\n",
    "rf_grid.fit(X_train, y_train)\n",
    "rf_grid.best_params_"
   ]
  },
  {
   "cell_type": "code",
   "execution_count": null,
   "metadata": {},
   "outputs": [],
   "source": [
    "rf_grid.best_score_"
   ]
  },
  {
   "cell_type": "markdown",
   "metadata": {},
   "source": [
    "<hr>\n",
    "<a class=\"anchor\" id=\"dt\">\n",
    "\n",
    "## 4.4. Decision Tree\n",
    "    \n",
    "</a>"
   ]
  },
  {
   "cell_type": "code",
   "execution_count": null,
   "metadata": {},
   "outputs": [],
   "source": [
    "dt_clf = DecisionTreeClassifier(class_weight='balanced', random_state=15)\n",
    "\n",
    "dt_parameters = {\"max_features\": ['sqrt', 'log2', 'auto', None],\n",
    "                 \"splitter\" : ['best', 'random'],\n",
    "                 \"criterion\": ['gini', 'entropy']}\n",
    "\n",
    "dt_grid = GridSearchCV(estimator=dt_clf, param_grid=dt_parameters, cv=cv, scoring='accuracy', verbose=1, n_jobs=-1)\n",
    "\n",
    "dt_grid.fit(X_train, y_train)\n",
    "dt_grid.best_params_"
   ]
  },
  {
   "cell_type": "code",
   "execution_count": null,
   "metadata": {},
   "outputs": [],
   "source": [
    "dt_grid.best_score_"
   ]
  },
  {
   "cell_type": "markdown",
   "metadata": {},
   "source": [
    "<hr>\n",
    "<a class=\"anchor\" id=\"pa\">\n",
    "\n",
    "## 4.5. Passive Aggressive\n",
    "    \n",
    "</a>"
   ]
  },
  {
   "cell_type": "code",
   "execution_count": null,
   "metadata": {},
   "outputs": [],
   "source": [
    "pa_clf = PassiveAggressiveClassifier(class_weight='balanced', random_state=15)\n",
    "\n",
    "pa_parameters = {\"warm_start\" : [True, False],\n",
    "                 \"early_stopping\" : [True, False],\n",
    "                 \"max_iter\" : (100, 500, 1000)}\n",
    "\n",
    "pa_grid = GridSearchCV(estimator=pa_clf, param_grid=pa_parameters, cv=cv, scoring='accuracy', verbose=1, n_jobs=-1)\n",
    "\n",
    "pa_grid.fit(scaler_X_train, y_train)\n",
    "pa_grid.best_params_"
   ]
  },
  {
   "cell_type": "code",
   "execution_count": null,
   "metadata": {},
   "outputs": [],
   "source": [
    "pa_grid.best_score_"
   ]
  },
  {
   "cell_type": "markdown",
   "metadata": {},
   "source": [
    "<hr>\n",
    "<a class=\"anchor\" id=\"logreg\">\n",
    "\n",
    "## 4.6. Logistic Regression\n",
    "    \n",
    "</a>"
   ]
  },
  {
   "cell_type": "code",
   "execution_count": null,
   "metadata": {},
   "outputs": [],
   "source": [
    "log_clf = LogisticRegression(multi_class='multinomial')\n",
    "\n",
    "log_parameters = {'solver': ['newton-cg', 'sag', 'saga', 'lbfgs'],\n",
    "                  'warm_start' : [True, False],\n",
    "                  'max_iter' : (100, 200, 300)}\n",
    "\n",
    "log_grid = GridSearchCV(estimator=log_clf, param_grid=log_parameters, cv=cv, scoring='accuracy', verbose=1, n_jobs=-1)\n",
    "log_grid.fit(scaler_X_train, y_train)"
   ]
  },
  {
   "cell_type": "code",
   "execution_count": null,
   "metadata": {},
   "outputs": [],
   "source": [
    "log_grid.best_score_"
   ]
  },
  {
   "cell_type": "markdown",
   "metadata": {},
   "source": [
    "<hr>\n",
    "<a class=\"anchor\" id=\"mlp\">\n",
    "\n",
    "## 4.7. Multi-Layer Perceptron\n",
    "    \n",
    "</a>"
   ]
  },
  {
   "cell_type": "markdown",
   "metadata": {},
   "source": [
    "#### Grid 1\n",
    "###### Note: Definir os params para um n limitado de Neurons/ Hidden_layers"
   ]
  },
  {
   "cell_type": "code",
   "execution_count": null,
   "metadata": {},
   "outputs": [],
   "source": [
    "mlp = MLPClassifier(random_state=15, max_iter=600)\n",
    "\n",
    "mlp_parameters = {\n",
    "#    'hidden_layer_sizes': [(50,),(50,50,),(50,50,50)],\n",
    "    'activation': ['identity','logistic','tanh', 'relu'],\n",
    "    'solver': ['lbfgs','sgd', 'adam'],\n",
    "    'alpha':np.logspace(-5, 3, 5),\n",
    "#     'batch_size':(),\n",
    "    'learning_rate_init': list(np.linspace(0.00001,0.1,5)),\n",
    "    'warm_start': [True,False],\n",
    "    'learning_rate': ['constant','invscaling','adaptive'],\n",
    "    'warm_start': [True,False],\n",
    "}\n",
    "\n",
    "mlp_grid = GridSearchCV(estimator=mlp, param_grid=mlp_parameters, cv=cv, scoring='accuracy', verbose=1, n_jobs=-1)\n",
    "mlp_grid.fit(scaler_X_train, y_train)"
   ]
  },
  {
   "cell_type": "code",
   "execution_count": null,
   "metadata": {},
   "outputs": [],
   "source": [
    "mlp = MLPClassifier(random_state=15, max_iter=600, warm_start = True)\n",
    "\n",
    "mlp_parameters = {\n",
    "   'hidden_layer_sizes':combination_layers(2,50,2),\n",
    "    'activation': ['identity','logistic','tanh', 'relu'],\n",
    "    'solver': ['lbfgs','sgd', 'adam'],\n",
    "#     'alpha':0.1,\n",
    "#     'batch_size':(),\n",
    "#     'learning_rate_init': 0.0750025,\n",
    "#     'warm_start': [True,False],\n",
    "    'learning_rate': ['constant','invscaling','adaptive'],\n",
    "    'early_stopping' : [True,False]\n",
    "}\n",
    "\n",
    "mlp_grid = GridSearchCV(estimator=mlp, param_grid=mlp_parameters, cv=cv, scoring='accuracy', verbose=1, n_jobs=-1)\n",
    "mlp_grid.fit(scaler_X_train, y_train)\n",
    "\n",
    "\n",
    "\n",
    "# Parameters: {'activation': 'logistic', 'alpha': 0.1, 'early_stopping': False, \n",
    "# 'hidden_layer_sizes': (50,), 'learning_rate': 'constant', \n",
    "# 'learning_rate_init': 0.0750025, 'solver': 'adam', 'warm_start': True}"
   ]
  },
  {
   "cell_type": "code",
   "execution_count": null,
   "metadata": {},
   "outputs": [],
   "source": [
    "mlp = MLPClassifier(random_state=15, max_iter=800, activation='logistic', solver='adam', alpha=0.1,\n",
    "                    learning_rate='adaptive', hidden_layer_sizes = (13,19))\n",
    "\n",
    "mlp_parameters = {\n",
    "#    'hidden_layer_sizes':combination_layers(2,20,2),\n",
    "#     'activation': ['identity','logistic','tanh', 'relu'],\n",
    "#     'solver': ['lbfgs','sgd', 'adam'],\n",
    "    'alpha':np.logspace(-8, 5, 10),\n",
    "#     'batch_size':(),\n",
    "    'learning_rate_init': list(np.linspace(0.05,0.1,10)),\n",
    "#     'warm_start': [True,False],\n",
    "#     'learning_rate': ['constant','invscaling','adaptive'],\n",
    "#     'early_stopping' : [True,False]\n",
    "}\n",
    "\n",
    "mlp_grid = GridSearchCV(estimator=mlp, param_grid=mlp_parameters, cv=cv, scoring='accuracy', verbose=1, n_jobs=-1)\n",
    "mlp_grid.fit(scaler_X_train, y_train)\n"
   ]
  },
  {
   "cell_type": "code",
   "execution_count": null,
   "metadata": {},
   "outputs": [],
   "source": [
    "# Best parameter set\n",
    "print('------------------------------------------------------------------------------------------------------------------------')\n",
    "print('Best parameters found:\\n', mlp_grid.best_params_)\n",
    "print('------------------------------------------------------------------------------------------------------------------------')\n",
    "\n",
    "# All results\n",
    "means = mlp_grid.cv_results_['mean_test_score']\n",
    "stds = mlp_grid.cv_results_['std_test_score']\n",
    "for mean, std, params in zip(means, stds, mlp_grid.cv_results_['params']):\n",
    "    print(\"%0.3f (+/-%0.03f) for %r\" % (mean, std , params))"
   ]
  },
  {
   "cell_type": "code",
   "execution_count": null,
   "metadata": {},
   "outputs": [],
   "source": [
    "mlp_grid.best_score_"
   ]
  },
  {
   "cell_type": "markdown",
   "metadata": {},
   "source": [
    "#### Grid 2.\n",
    "###### Note: Para os params acima encontrados testar todas as combinações de layers/neurons possiveis"
   ]
  },
  {
   "cell_type": "code",
   "execution_count": null,
   "metadata": {},
   "outputs": [],
   "source": [
    "def combination_layers(min_neurons,max_neurons,n_layers): \n",
    "    l = []\n",
    "    for i in range(min_neurons,max_neurons):\n",
    "        l.append(i)\n",
    "    layersize = list(combinations_with_replacement(l,n_layers))\n",
    "    return layersize"
   ]
  },
  {
   "cell_type": "code",
   "execution_count": null,
   "metadata": {},
   "outputs": [],
   "source": [
    "mlp = MLPClassifier(random_state=15, max_iter=600, activation='tanh', solver='lbfgs', alpha=10, \n",
    "                    learning_rate='constant', learning_rate_init=1e-05, warm_start=True, early_stopping=True)\n",
    "\n",
    "mlp_parameters = {\n",
    "    'hidden_layer_sizes': combination_layers(10,50,2)\n",
    "}\n",
    "\n",
    "mlp_grid = GridSearchCV(estimator=mlp, param_grid=mlp_parameters, cv=cv, scoring='accuracy', verbose=1, n_jobs=-1)\n",
    "mlp_grid.fit(scaler_X_train, y_train)"
   ]
  },
  {
   "cell_type": "code",
   "execution_count": null,
   "metadata": {},
   "outputs": [],
   "source": [
    "mlp_grid.best_score_"
   ]
  },
  {
   "cell_type": "markdown",
   "metadata": {},
   "source": [
    "## Testes"
   ]
  },
  {
   "cell_type": "code",
   "execution_count": 4050,
   "metadata": {},
   "outputs": [
    {
     "name": "stdout",
     "output_type": "stream",
     "text": [
      "___________________________________________________________________________________________________________\n",
      "                                                     TRAIN                                                 \n",
      "-----------------------------------------------------------------------------------------------------------\n",
      "              precision    recall  f1-score   support\n",
      "\n",
      "           0       0.78      0.72      0.75       240\n",
      "           1       0.84      0.88      0.86       387\n",
      "\n",
      "    accuracy                           0.82       627\n",
      "   macro avg       0.81      0.80      0.80       627\n",
      "weighted avg       0.82      0.82      0.82       627\n",
      "\n",
      "[[174  66]\n",
      " [ 48 339]]\n",
      "___________________________________________________________________________________________________________\n",
      "                                                VALIDATION                                                 \n",
      "-----------------------------------------------------------------------------------------------------------\n",
      "              precision    recall  f1-score   support\n",
      "\n",
      "           0       0.74      0.68      0.71       104\n",
      "           1       0.81      0.85      0.83       166\n",
      "\n",
      "    accuracy                           0.79       270\n",
      "   macro avg       0.77      0.77      0.77       270\n",
      "weighted avg       0.78      0.79      0.78       270\n",
      "\n",
      "[[ 71  33]\n",
      " [ 25 141]]\n"
     ]
    }
   ],
   "source": [
    "mlp = MLPClassifier(random_state=15, max_iter=800, activation='logistic', solver='adam', alpha=0.1, hidden_layer_sizes = (13,19),\n",
    "                    learning_rate='adaptive').fit(scaler_X_train,y_train)\n",
    "\n",
    "\n",
    "\n",
    "model = mlp\n",
    "labels_train = model.predict(scaler_X_train)\n",
    "labels_val = model.predict(scaler_X_val)\n",
    "\n",
    "metrics(y_train, labels_train, y_val, labels_val)"
   ]
  },
  {
   "cell_type": "code",
   "execution_count": 4051,
   "metadata": {},
   "outputs": [
    {
     "name": "stdout",
     "output_type": "stream",
     "text": [
      "___________________________________________________________________________________________________________\n",
      "                                                     TRAIN                                                 \n",
      "-----------------------------------------------------------------------------------------------------------\n",
      "              precision    recall  f1-score   support\n",
      "\n",
      "           0       0.82      0.66      0.73       240\n",
      "           1       0.81      0.91      0.86       387\n",
      "\n",
      "    accuracy                           0.81       627\n",
      "   macro avg       0.82      0.79      0.80       627\n",
      "weighted avg       0.82      0.81      0.81       627\n",
      "\n",
      "[[159  81]\n",
      " [ 35 352]]\n",
      "___________________________________________________________________________________________________________\n",
      "                                                VALIDATION                                                 \n",
      "-----------------------------------------------------------------------------------------------------------\n",
      "              precision    recall  f1-score   support\n",
      "\n",
      "           0       0.75      0.58      0.65       104\n",
      "           1       0.77      0.88      0.82       166\n",
      "\n",
      "    accuracy                           0.76       270\n",
      "   macro avg       0.76      0.73      0.74       270\n",
      "weighted avg       0.76      0.76      0.76       270\n",
      "\n",
      "[[ 60  44]\n",
      " [ 20 146]]\n"
     ]
    }
   ],
   "source": [
    "mlp = MLPClassifier(random_state=15, \n",
    "                    max_iter=1200, \n",
    "                    activation='relu', \n",
    "                    solver='sgd', \n",
    "                    hidden_layer_sizes = (36,),\n",
    "                    learning_rate='constant', \n",
    "                    warm_start = True, \n",
    "                    early_stopping = True,\n",
    "                    alpha =1.9, \n",
    "                    learning_rate_init =  0.05263631578947369).fit(scaler_X_train,y_train)\n",
    "\n",
    "\n",
    "model = mlp\n",
    "labels_train = model.predict(scaler_X_train)\n",
    "labels_val = model.predict(scaler_X_val)\n",
    "\n",
    "metrics(y_train, labels_train, y_val, labels_val)"
   ]
  },
  {
   "cell_type": "code",
   "execution_count": 4052,
   "metadata": {},
   "outputs": [
    {
     "name": "stdout",
     "output_type": "stream",
     "text": [
      "___________________________________________________________________________________________________________\n",
      "                                                     TRAIN                                                 \n",
      "-----------------------------------------------------------------------------------------------------------\n",
      "              precision    recall  f1-score   support\n",
      "\n",
      "           0       0.84      0.74      0.79       240\n",
      "           1       0.85      0.91      0.88       387\n",
      "\n",
      "    accuracy                           0.85       627\n",
      "   macro avg       0.85      0.83      0.83       627\n",
      "weighted avg       0.85      0.85      0.84       627\n",
      "\n",
      "[[178  62]\n",
      " [ 34 353]]\n",
      "___________________________________________________________________________________________________________\n",
      "                                                VALIDATION                                                 \n",
      "-----------------------------------------------------------------------------------------------------------\n",
      "              precision    recall  f1-score   support\n",
      "\n",
      "           0       0.74      0.58      0.65       104\n",
      "           1       0.77      0.87      0.82       166\n",
      "\n",
      "    accuracy                           0.76       270\n",
      "   macro avg       0.75      0.73      0.73       270\n",
      "weighted avg       0.76      0.76      0.75       270\n",
      "\n",
      "[[ 60  44]\n",
      " [ 21 145]]\n"
     ]
    }
   ],
   "source": [
    "mlp = MLPClassifier(hidden_layer_sizes = (12,31),\n",
    "                    random_state = 15,\n",
    "                    warm_start = True,\n",
    "                    early_stopping=False,\n",
    "                    max_iter = 700,\n",
    "                    activation ='tanh',\n",
    "                    learning_rate = 'constant',\n",
    "                    learning_rate_init =  0.30000000000000004,\n",
    "                    solver = 'adam').fit(scaler_X_train,y_train)\n",
    "\n",
    "\n",
    "model = mlp\n",
    "labels_train = model.predict(scaler_X_train)\n",
    "labels_val = model.predict(scaler_X_val)\n",
    "\n",
    "metrics(y_train, labels_train, y_val, labels_val)"
   ]
  },
  {
   "cell_type": "code",
   "execution_count": 3857,
   "metadata": {},
   "outputs": [
    {
     "name": "stdout",
     "output_type": "stream",
     "text": [
      "Variables: ['Severity', 'Age', 'Male', 'Santa Fe', 'Taos', 'Family_cases']\n",
      "Nº of folds: 5\n",
      "Accuracy: 0.8\n"
     ]
    }
   ],
   "source": [
    "print_parameters(variables, k, model, accuracy = accuracy_score(y_val, labels_val))"
   ]
  },
  {
   "cell_type": "markdown",
   "metadata": {},
   "source": [
    "<hr>\n",
    "<a class=\"anchor\" id=\"ensemble\">\n",
    "\n",
    "## 4.8. Ensemble \n",
    "    \n",
    "</a>"
   ]
  },
  {
   "cell_type": "markdown",
   "metadata": {},
   "source": [
    "In order to enhance the performance of the model, ensemble was implemented. The main goal is to provide the ability to combine conceptually different machine learning classifiers into one single classifier, boosting their individual performance and tackling their individual weaknesses, while reducing existing overfitting. There are two different approaches to reach this goal, this is, bagging and boosting. Bagging uses complex base models and tries to \"smooth out\" their predictions while Boosting expects that individual mediocre models can be combined to create a high-performance model."
   ]
  },
  {
   "cell_type": "markdown",
   "metadata": {},
   "source": [
    "<hr>\n",
    "<a class=\"anchor\" id=\"bbc\">\n",
    "\n",
    "### 4.8.1. Balanced Bagging Classifier\n",
    "    \n",
    "</a>"
   ]
  },
  {
   "cell_type": "code",
   "execution_count": null,
   "metadata": {},
   "outputs": [],
   "source": [
    "bbc_clf = BalancedBaggingClassifier(base_estimator=[mlp_grid, log_grid, rf_grid, knn_grid])\n",
    "\n",
    "bbc_parameters = {\n",
    "    #'base_estimator' : [None, [mlp_grid, log_grid, rf_grid, knn_grid]],\n",
    "                  'n_estimators' : (5, 10, 15, 20),\n",
    "                  'bootstrap' : [True, False],\n",
    "                  'bootstrap_features' : [True, False],\n",
    "                  'warm_start' : [True, False],\n",
    "                  'sampling_strategy' : ['not majority', 'not minority', 'all', 'majority', 'minority'],\n",
    "                  'replacement' : [True, False]}\n",
    "\n",
    "bbc_grid = GridSearchCV(estimator=bbc_clf, param_grid=bbc_parameters, cv=cv, scoring='accuracy', verbose=1, n_jobs=-1)\n",
    "bbc_grid.fit(scaler_X_train, y_train)"
   ]
  },
  {
   "cell_type": "code",
   "execution_count": null,
   "metadata": {},
   "outputs": [],
   "source": [
    "bbc_grid.best_score_"
   ]
  },
  {
   "cell_type": "markdown",
   "metadata": {},
   "source": [
    "<hr>\n",
    "<a class=\"anchor\" id=\"gbc\">\n",
    "\n",
    "### 4.8.2. Gradient Boosting Classifier\n",
    "    \n",
    "</a>"
   ]
  },
  {
   "cell_type": "code",
   "execution_count": null,
   "metadata": {},
   "outputs": [],
   "source": [
    "GB_clf = GradientBoostingClassifier()\n",
    "\n",
    "GB_parameters = {'loss' : ['deviance', 'exponential'],\n",
    "                 'learning_rate' : (0.01, 0.1, 1),\n",
    "                 'n_estimators' : np.arange(100, 400, 100),\n",
    "                 'max_depth' : (5, 10, 15, 20, 30),\n",
    "                 'max_features' : ['auto', 'log2', None],\n",
    "                 'warm_start' : [True, False]}\n",
    "\n",
    "GB_grid = GridSearchCV(estimator=GB_clf, param_grid=GB_parameters, cv=cv, scoring='accuracy', verbose=1, n_jobs=-1)\n",
    "GB_grid.fit(scaler_X_train , y_train)"
   ]
  },
  {
   "cell_type": "code",
   "execution_count": null,
   "metadata": {},
   "outputs": [],
   "source": [
    "GB_grid.best_score_"
   ]
  },
  {
   "cell_type": "markdown",
   "metadata": {},
   "source": [
    "<hr>\n",
    "<a class=\"anchor\" id=\"adaboost\">\n",
    "\n",
    "### 4.8.3. AdaBoost Classifier\n",
    "    \n",
    "</a>"
   ]
  },
  {
   "cell_type": "code",
   "execution_count": null,
   "metadata": {},
   "outputs": [],
   "source": [
    "AdaBoost = AdaBoostClassifier()\n",
    "\n",
    "AdaBoost_parameters = {'base_estimator' : [None, [knn_grid, log_grid], knn_grid, GB_grid],\n",
    "                       'n_estimators' : np.arange(50, 200, 50),\n",
    "                       'learning_rate' : (0.01, 0.1, 1, 10)}\n",
    "\n",
    "AdaBoost_grid = GridSearchCV(estimator=AdaBoost, param_grid=AdaBoost_parameters, cv=cv, \n",
    "                             scoring='accuracy', verbose=1, n_jobs=-1)\n",
    "\n",
    "AdaBoost_grid.fit(scaler_X_train , y_train)"
   ]
  },
  {
   "cell_type": "code",
   "execution_count": null,
   "metadata": {},
   "outputs": [],
   "source": [
    "AdaBoost_grid.best_score_"
   ]
  },
  {
   "cell_type": "markdown",
   "metadata": {},
   "source": [
    "<hr>\n",
    "<a class=\"anchor\" id=\"vc\">\n",
    "\n",
    "### 4.8.4. Voting Classifier\n",
    "    \n",
    "</a>"
   ]
  },
  {
   "cell_type": "code",
   "execution_count": null,
   "metadata": {},
   "outputs": [],
   "source": [
    "vc = VotingClassifier(estimators=[('lr', log_grid), ('knn', knn_grid), ('gnb', nb_clf), \n",
    "                                  ('gb', GB_grid), ('adaboost', AdaBoost_grid)]).fit(scaler_X_train, y_train)"
   ]
  },
  {
   "cell_type": "markdown",
   "metadata": {},
   "source": [
    "<hr>\n",
    "<a class=\"anchor\" id=\"assess\">\n",
    "\n",
    "# 5. Assess\n",
    "    \n",
    "</a>"
   ]
  },
  {
   "cell_type": "markdown",
   "metadata": {},
   "source": [
    "In this step is possible to analyze the detailed results for each of the models presented before concerning the precision, recall, f1-score and accuracy metrics. Here is important to compare the results of the train and validation to guarantee that our model is not overfitting and therefore is capable of generalizing their results."
   ]
  },
  {
   "cell_type": "markdown",
   "metadata": {},
   "source": [
    "The results shown before were obtained through the exploration of an exhaustive set of combinations of parameters and algorithms that could be certainly improved given the increase in resources such as time and computational power. Even though we consider our results to be adequate to the challenge proposed, it would be interesting to try a broader set of parameters and a wider range of algorithms. \n",
    "\n",
    "One of the greatest limitations in this project was the size of the dataset. With only 900 rows and 10 independent variables, from which only one was continuos, the type of transformations possible to do with these features was, in the end, very limited. Also, after spliting the data into train and validation partitions, we ended up with only 70% (around 630 rows) of the data to train our model which is far from a ideal size specially if we consider using cross-validation for more robust results. Therefore it was necessary to weight the pros and cons of having a small training or validation partition in order to ensure that our final model didn't suffer from neither overfitting or underfitting. "
   ]
  },
  {
   "cell_type": "code",
   "execution_count": 4058,
   "metadata": {},
   "outputs": [],
   "source": [
    "model = model\n",
    "labels_train = model.predict(scaler_X_train)\n",
    "labels_val = model.predict(scaler_X_val)"
   ]
  },
  {
   "cell_type": "code",
   "execution_count": 4059,
   "metadata": {},
   "outputs": [
    {
     "name": "stdout",
     "output_type": "stream",
     "text": [
      "___________________________________________________________________________________________________________\n",
      "                                                     TRAIN                                                 \n",
      "-----------------------------------------------------------------------------------------------------------\n",
      "              precision    recall  f1-score   support\n",
      "\n",
      "           0       0.84      0.74      0.79       240\n",
      "           1       0.85      0.91      0.88       387\n",
      "\n",
      "    accuracy                           0.85       627\n",
      "   macro avg       0.85      0.83      0.83       627\n",
      "weighted avg       0.85      0.85      0.84       627\n",
      "\n",
      "[[178  62]\n",
      " [ 34 353]]\n",
      "___________________________________________________________________________________________________________\n",
      "                                                VALIDATION                                                 \n",
      "-----------------------------------------------------------------------------------------------------------\n",
      "              precision    recall  f1-score   support\n",
      "\n",
      "           0       0.74      0.58      0.65       104\n",
      "           1       0.77      0.87      0.82       166\n",
      "\n",
      "    accuracy                           0.76       270\n",
      "   macro avg       0.75      0.73      0.73       270\n",
      "weighted avg       0.76      0.76      0.75       270\n",
      "\n",
      "[[ 60  44]\n",
      " [ 21 145]]\n"
     ]
    }
   ],
   "source": [
    "def metrics(y_train, pred_train , y_val, pred_val):\n",
    "    print('___________________________________________________________________________________________________________')\n",
    "    print('                                                     TRAIN                                                 ')\n",
    "    print('-----------------------------------------------------------------------------------------------------------')\n",
    "    print(classification_report(y_train, pred_train))\n",
    "    print(confusion_matrix(y_train, pred_train))\n",
    "\n",
    "\n",
    "    print('___________________________________________________________________________________________________________')\n",
    "    print('                                                VALIDATION                                                 ')\n",
    "    print('-----------------------------------------------------------------------------------------------------------')\n",
    "    print(classification_report(y_val, pred_val))\n",
    "    print(confusion_matrix(y_val, pred_val))\n",
    "    \n",
    "metrics(y_train, labels_train, y_val, labels_val)"
   ]
  },
  {
   "cell_type": "code",
   "execution_count": null,
   "metadata": {},
   "outputs": [],
   "source": [
    "def print_parameters (variables, k, model, accuracy):\n",
    "    print(\"Variables:\", variables )\n",
    "    print(\"Nº of folds:\", k)\n",
    "#     print(\"Parameters:\", model.best_params_)\n",
    "    print(\"Accuracy:\", accuracy)\n",
    "\n",
    "print_parameters(variables, k, model, accuracy = accuracy_score(y_val, labels_val))"
   ]
  },
  {
   "cell_type": "code",
   "execution_count": 4060,
   "metadata": {},
   "outputs": [],
   "source": [
    "version = 23\n",
    "\n",
    "labels_test = mlp.predict(scaler_X_test)\n",
    "test_output = pd.DataFrame(labels_test, columns = [\"Deceased\"])\n",
    "test_output[\"Patient_ID\"] = test_df.index\n",
    "cols = list(test_output)\n",
    "cols = cols[-1:] + cols[:-1]\n",
    "test_output = test_output[cols]\n",
    "test_output = test_output.sort_values(by=['Patient_ID'])\n",
    "\n",
    "path = '.\\\\Data\\\\Group38_version' + str(version) + '.csv'\n",
    "test_output.to_csv(path, index = False)"
   ]
  }
 ],
 "metadata": {
  "kernelspec": {
   "display_name": "Python 3",
   "language": "python",
   "name": "python3"
  },
  "language_info": {
   "codemirror_mode": {
    "name": "ipython",
    "version": 3
   },
   "file_extension": ".py",
   "mimetype": "text/x-python",
   "name": "python",
   "nbconvert_exporter": "python",
   "pygments_lexer": "ipython3",
   "version": "3.7.4"
  }
 },
 "nbformat": 4,
 "nbformat_minor": 2
}
