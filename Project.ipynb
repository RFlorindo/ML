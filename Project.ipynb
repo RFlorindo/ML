{
 "cells": [
  {
   "cell_type": "markdown",
   "metadata": {},
   "source": [
    "<h1><center> MACHINE LEARNING - PROJECT </center></h1>\n",
    "<center> \"WHAT ARE THE PEOPLE MORE LIKELY TO SURVIVE TO THE BOOLEAN PANDEMIC?\"</center>"
   ]
  },
  {
   "cell_type": "markdown",
   "metadata": {},
   "source": [
    "Notebook structure:\n",
    "* [1. Sample](#sample)\n",
    "    * [1.1. Import Libraries](#import)\n",
    "    * [1.2. Import Datasets](#import2)\n",
    "* [2. Explore](#explore)\n",
    "    * [2.1. Data Exploration](#dataexplore)\n",
    "    * [2.2. Missing Values Analysis](#miss_values)\n",
    "    * [2.3. Outliers Analysis](#outliers)\n",
    "* [3. Modify](#modify)\n",
    "    * [3.1. Transform and Create variables](#transf_create)\n",
    "    * [3.2. Coherence Checking](#coherence)\n",
    "    * [3.3. Correlation analysis](#corr)\n",
    "    * [3.4. Train Validation Partition](#train_val)\n",
    "    * [3.5. Data Standardization](#datastand)\n",
    "    * [3.6. Feature Selection](#feature)\n",
    "        * [3.6.1. Lasso Regression](#lasso)\n",
    "        * [3.6.2. Ridge Regression](#ridge)\n",
    "        * [3.6.3. Recursive Feature Elimination (RFE)](#rfe)  \n",
    "        * [3.6.4. Dimensionality Reduction](#dim_red) \n",
    "    * [3.7. Artificial Resampling](#unbalancedlearning)\n",
    "        * [3.7.1. Random Oversampling](#randomoversampling)\n",
    "        * [3.7.2. Synthetic Minority Oversampling Technique (SMOTE)](#smote)\n",
    "        * [3.7.3. Adaptive Synthetic Oversampling (ADASYN)](#ADASYN)\n",
    "        * [3.7.4. Cluster-Based Undersampling (K-Means)](#kmeansunder)\n",
    "* [4. Model](#model)\n",
    "    * [4.1. Model Exploration](#modelexp)\n",
    "        * [4.1.1. K Nearest Neighbors](#knn)\n",
    "        * [4.1.2. K Nearest Centroid](#knc)\n",
    "        * [4.1.3. Random Forest](#rfc)\n",
    "        * [4.1.4. Decision Tree](#dt)\n",
    "        * [4.1.5. Passive Aggressive](#pa)\n",
    "        * [4.1.6. Logistic Regression](#logreg)\n",
    "        * [4.1.7. Multi-Layer Perceptron](#mlp)\n",
    "        * [4.1.8. Naive Bayes](#naive)\n",
    "        * [4.1.9. Support Vector Machine](#svm)\n",
    "        * [4.1.10. Ensemble techniques](#ensemble)\n",
    "            * [4.1.10.1. Balanced Bagging Classifier](#bbc)\n",
    "            * [4.1.10.2. Gradient Boosting Classifier](#gbc)\n",
    "            * [4.1.10.3. AdaBoost Classifier](#adaboost)\n",
    "            * [4.1.10.4. Voting Classifier](#vc)\n",
    "    * [4.2. Final Model](#finalmodel)\n",
    "\n",
    "* [5. Assess](#assess)\n",
    "* [6. Limitations](#limitations)\n",
    "* [7. Conclusion](#conclusion)\n",
    "<p style='text-align: right;'> Produced by: </p>\n",
    "<p style='text-align: right;'> David Sousa (2016697) </p>\n",
    "<p style='text-align: right;'> Miguel Ramos (2016728) </p>\n",
    "<p style='text-align: right;'> Ricardo Florindo (2016727) </p>"
   ]
  },
  {
   "cell_type": "markdown",
   "metadata": {},
   "source": [
    "<hr>\n",
    "<a class=\"anchor\" id=\"abs\">\n",
    "    \n",
    "# Abstract\n",
    "    \n",
    "</a>"
   ]
  },
  {
   "cell_type": "markdown",
   "metadata": {},
   "source": [
    "The aim of this project is to build a model capable of predicting if a patient will survive or not to a Boolean pandemic that had its origin in the state of New Mexico. For this purpose, a wide set of machine learning algorithms and grid search procedures were tested on the available data with the intent of finding the most relevant features and the best combination of data encoders and model hyperparameters. In the end, and as expected, the Multi-layer Perceptron algorithm was the one that provide the overall better results and, in some particular cases, the ensemble with the help of either the Vote Classifier or the Stacking Classifier also enhanced the final results. For the given data, and bearing in mind their limited size, the transformation or creation of new features often played a major role on the final accuracy of the model."
   ]
  },
  {
   "cell_type": "markdown",
   "metadata": {},
   "source": [
    "<hr>\n",
    "<a class=\"anchor\" id=\"sample\">\n",
    "    \n",
    "# 1. Sample\n",
    "    \n",
    "</a>"
   ]
  },
  {
   "cell_type": "markdown",
   "metadata": {},
   "source": [
    "In the first phase of our project, we have focus on importing the needed libraries and train and test datasets.\n",
    "\n",
    "\n",
    "As for preprocessing our data we needed pandas and numpy. Consequently, to select variables, train our models and assess their results, we decided to mainly use sklearn classifiers and metrics.\n",
    "\n",
    "Besides that, we also imported matplotlib and seaborn to plot data, methods from imblearn library not only to balanced our data classes, but also to run a Balanced Bagging ensemble Classifier. Finally, in order to obtain better results we also built a neural network from keras library."
   ]
  },
  {
   "cell_type": "markdown",
   "metadata": {},
   "source": [
    "<a class=\"anchor\" id=\"import\">\n",
    "\n",
    "## 1.1. Import Libraries\n",
    "\n",
    "</a>"
   ]
  },
  {
   "cell_type": "code",
   "execution_count": 1,
   "metadata": {},
   "outputs": [
    {
     "name": "stderr",
     "output_type": "stream",
     "text": [
      "Using TensorFlow backend.\n"
     ]
    }
   ],
   "source": [
    "import pandas as pd\n",
    "import numpy as np\n",
    "import seaborn as sns\n",
    "import matplotlib.pyplot as plt\n",
    "from sklearn.neighbors import KNeighborsClassifier, NearestCentroid, NeighborhoodComponentsAnalysis\n",
    "from sklearn.ensemble import RandomForestClassifier\n",
    "from sklearn.feature_selection import RFE\n",
    "from sklearn.model_selection import train_test_split, StratifiedKFold, GridSearchCV\n",
    "from sklearn.preprocessing import StandardScaler, RobustScaler, MinMaxScaler\n",
    "from sklearn.impute import KNNImputer \n",
    "from sklearn.tree import DecisionTreeClassifier\n",
    "from itertools import combinations_with_replacement\n",
    "from imblearn.over_sampling import RandomOverSampler, SMOTE, KMeansSMOTE, ADASYN\n",
    "from sklearn.linear_model import LinearRegression, LogisticRegression, LassoCV, RidgeCV, PassiveAggressiveClassifier\n",
    "from keras import layers, models, regularizers\n",
    "import keras\n",
    "from sklearn.neural_network import MLPClassifier\n",
    "from sklearn.svm import SVC\n",
    "from sklearn.naive_bayes import GaussianNB\n",
    "from imblearn.ensemble import BalancedBaggingClassifier\n",
    "from sklearn.ensemble import GradientBoostingClassifier, AdaBoostClassifier, VotingClassifier, StackingClassifier\n",
    "from sklearn.metrics import classification_report, confusion_matrix, accuracy_score, auc, roc_auc_score\n",
    "from matplotlib.legend_handler import HandlerLine2D"
   ]
  },
  {
   "cell_type": "markdown",
   "metadata": {},
   "source": [
    "<a class=\"anchor\" id=\"import2\">\n",
    "\n",
    "## 1.2. Import Datasets\n",
    "\n",
    "</a>"
   ]
  },
  {
   "cell_type": "code",
   "execution_count": 2,
   "metadata": {},
   "outputs": [],
   "source": [
    "df = pd.read_csv(r'Data/train.csv')\n",
    "test_df = pd.read_csv(r'Data/test.csv')"
   ]
  },
  {
   "cell_type": "markdown",
   "metadata": {},
   "source": [
    "<hr>\n",
    "<a class=\"anchor\" id=\"explore\">\n",
    "    \n",
    "# 2. Explore\n",
    "    \n",
    "</a>"
   ]
  },
  {
   "cell_type": "markdown",
   "metadata": {},
   "source": [
    "In this step we are going to perform some initial analysis to our dataset, in order to understand the current state of our data. \n",
    "\n",
    "Since results are strongly dependent from the data, this is a crucial step to avoid “garbage in, garbage out”. Said that, in this section we want to minimize noisy information and, simultaneously, rise relevant and important information from our data. This procedure will be performed in two complementary steps: missing values treatment and outliers’ recognition."
   ]
  },
  {
   "cell_type": "markdown",
   "metadata": {},
   "source": [
    "<a class=\"anchor\" id=\"dataexplore\">\n",
    "\n",
    "## 2.1. Data Exploration\n",
    "\n",
    "</a>"
   ]
  },
  {
   "cell_type": "code",
   "execution_count": 3,
   "metadata": {},
   "outputs": [
    {
     "data": {
      "text/plain": [
       "(900, 11)"
      ]
     },
     "execution_count": 3,
     "metadata": {},
     "output_type": "execute_result"
    }
   ],
   "source": [
    "df.shape"
   ]
  },
  {
   "cell_type": "code",
   "execution_count": 4,
   "metadata": {},
   "outputs": [
    {
     "data": {
      "text/html": [
       "<div>\n",
       "<style scoped>\n",
       "    .dataframe tbody tr th:only-of-type {\n",
       "        vertical-align: middle;\n",
       "    }\n",
       "\n",
       "    .dataframe tbody tr th {\n",
       "        vertical-align: top;\n",
       "    }\n",
       "\n",
       "    .dataframe thead th {\n",
       "        text-align: right;\n",
       "    }\n",
       "</style>\n",
       "<table border=\"1\" class=\"dataframe\">\n",
       "  <thead>\n",
       "    <tr style=\"text-align: right;\">\n",
       "      <th></th>\n",
       "      <th>Patient_ID</th>\n",
       "      <th>Family_Case_ID</th>\n",
       "      <th>Severity</th>\n",
       "      <th>Name</th>\n",
       "      <th>Birthday_year</th>\n",
       "      <th>Parents or siblings infected</th>\n",
       "      <th>Wife/Husband or children infected</th>\n",
       "      <th>Medical_Expenses_Family</th>\n",
       "      <th>Medical_Tent</th>\n",
       "      <th>City</th>\n",
       "      <th>Deceased</th>\n",
       "    </tr>\n",
       "  </thead>\n",
       "  <tbody>\n",
       "    <tr>\n",
       "      <th>0</th>\n",
       "      <td>1</td>\n",
       "      <td>4696</td>\n",
       "      <td>3</td>\n",
       "      <td>Miss Linda Betty</td>\n",
       "      <td>NaN</td>\n",
       "      <td>0</td>\n",
       "      <td>0</td>\n",
       "      <td>225</td>\n",
       "      <td>NaN</td>\n",
       "      <td>Santa Fe</td>\n",
       "      <td>1</td>\n",
       "    </tr>\n",
       "    <tr>\n",
       "      <th>1</th>\n",
       "      <td>2</td>\n",
       "      <td>21436</td>\n",
       "      <td>1</td>\n",
       "      <td>Ms. Ramona Elvira</td>\n",
       "      <td>1966.0</td>\n",
       "      <td>0</td>\n",
       "      <td>1</td>\n",
       "      <td>1663</td>\n",
       "      <td>NaN</td>\n",
       "      <td>Albuquerque</td>\n",
       "      <td>0</td>\n",
       "    </tr>\n",
       "    <tr>\n",
       "      <th>2</th>\n",
       "      <td>3</td>\n",
       "      <td>7273</td>\n",
       "      <td>3</td>\n",
       "      <td>Mr. Mario Vernon</td>\n",
       "      <td>1982.0</td>\n",
       "      <td>0</td>\n",
       "      <td>0</td>\n",
       "      <td>221</td>\n",
       "      <td>NaN</td>\n",
       "      <td>Santa Fe</td>\n",
       "      <td>1</td>\n",
       "    </tr>\n",
       "    <tr>\n",
       "      <th>3</th>\n",
       "      <td>4</td>\n",
       "      <td>8226</td>\n",
       "      <td>3</td>\n",
       "      <td>Mr. Hector Joe</td>\n",
       "      <td>1997.0</td>\n",
       "      <td>0</td>\n",
       "      <td>0</td>\n",
       "      <td>220</td>\n",
       "      <td>NaN</td>\n",
       "      <td>Santa Fe</td>\n",
       "      <td>1</td>\n",
       "    </tr>\n",
       "    <tr>\n",
       "      <th>4</th>\n",
       "      <td>5</td>\n",
       "      <td>19689</td>\n",
       "      <td>3</td>\n",
       "      <td>Ms. Jennie Debra</td>\n",
       "      <td>1994.0</td>\n",
       "      <td>0</td>\n",
       "      <td>0</td>\n",
       "      <td>222</td>\n",
       "      <td>NaN</td>\n",
       "      <td>Santa Fe</td>\n",
       "      <td>0</td>\n",
       "    </tr>\n",
       "  </tbody>\n",
       "</table>\n",
       "</div>"
      ],
      "text/plain": [
       "   Patient_ID  Family_Case_ID  Severity               Name  Birthday_year  \\\n",
       "0           1            4696         3   Miss Linda Betty            NaN   \n",
       "1           2           21436         1  Ms. Ramona Elvira         1966.0   \n",
       "2           3            7273         3   Mr. Mario Vernon         1982.0   \n",
       "3           4            8226         3     Mr. Hector Joe         1997.0   \n",
       "4           5           19689         3   Ms. Jennie Debra         1994.0   \n",
       "\n",
       "   Parents or siblings infected  Wife/Husband or children infected  \\\n",
       "0                             0                                  0   \n",
       "1                             0                                  1   \n",
       "2                             0                                  0   \n",
       "3                             0                                  0   \n",
       "4                             0                                  0   \n",
       "\n",
       "   Medical_Expenses_Family Medical_Tent         City  Deceased  \n",
       "0                      225          NaN     Santa Fe         1  \n",
       "1                     1663          NaN  Albuquerque         0  \n",
       "2                      221          NaN     Santa Fe         1  \n",
       "3                      220          NaN     Santa Fe         1  \n",
       "4                      222          NaN     Santa Fe         0  "
      ]
     },
     "execution_count": 4,
     "metadata": {},
     "output_type": "execute_result"
    }
   ],
   "source": [
    "df.head(5)"
   ]
  },
  {
   "cell_type": "code",
   "execution_count": 5,
   "metadata": {},
   "outputs": [
    {
     "name": "stdout",
     "output_type": "stream",
     "text": [
      "<class 'pandas.core.frame.DataFrame'>\n",
      "RangeIndex: 900 entries, 0 to 899\n",
      "Data columns (total 11 columns):\n",
      " #   Column                             Non-Null Count  Dtype  \n",
      "---  ------                             --------------  -----  \n",
      " 0   Patient_ID                         900 non-null    int64  \n",
      " 1   Family_Case_ID                     900 non-null    int64  \n",
      " 2   Severity                           900 non-null    int64  \n",
      " 3   Name                               900 non-null    object \n",
      " 4   Birthday_year                      723 non-null    float64\n",
      " 5   Parents or siblings infected       900 non-null    int64  \n",
      " 6   Wife/Husband or children infected  900 non-null    int64  \n",
      " 7   Medical_Expenses_Family            900 non-null    int64  \n",
      " 8   Medical_Tent                       198 non-null    object \n",
      " 9   City                               898 non-null    object \n",
      " 10  Deceased                           900 non-null    int64  \n",
      "dtypes: float64(1), int64(7), object(3)\n",
      "memory usage: 77.5+ KB\n"
     ]
    }
   ],
   "source": [
    "df.info()"
   ]
  },
  {
   "cell_type": "code",
   "execution_count": 6,
   "metadata": {},
   "outputs": [
    {
     "data": {
      "text/html": [
       "<div>\n",
       "<style scoped>\n",
       "    .dataframe tbody tr th:only-of-type {\n",
       "        vertical-align: middle;\n",
       "    }\n",
       "\n",
       "    .dataframe tbody tr th {\n",
       "        vertical-align: top;\n",
       "    }\n",
       "\n",
       "    .dataframe thead th {\n",
       "        text-align: right;\n",
       "    }\n",
       "</style>\n",
       "<table border=\"1\" class=\"dataframe\">\n",
       "  <thead>\n",
       "    <tr style=\"text-align: right;\">\n",
       "      <th></th>\n",
       "      <th>Severity</th>\n",
       "      <th>Birthday_year</th>\n",
       "      <th>Parents or siblings infected</th>\n",
       "      <th>Wife/Husband or children infected</th>\n",
       "      <th>Medical_Expenses_Family</th>\n",
       "      <th>Deceased</th>\n",
       "    </tr>\n",
       "  </thead>\n",
       "  <tbody>\n",
       "    <tr>\n",
       "      <th>count</th>\n",
       "      <td>900.000000</td>\n",
       "      <td>723.000000</td>\n",
       "      <td>900.000000</td>\n",
       "      <td>900.000000</td>\n",
       "      <td>900.000000</td>\n",
       "      <td>900.000000</td>\n",
       "    </tr>\n",
       "    <tr>\n",
       "      <th>mean</th>\n",
       "      <td>2.313333</td>\n",
       "      <td>1990.266943</td>\n",
       "      <td>0.380000</td>\n",
       "      <td>0.521111</td>\n",
       "      <td>895.743333</td>\n",
       "      <td>0.614444</td>\n",
       "    </tr>\n",
       "    <tr>\n",
       "      <th>std</th>\n",
       "      <td>0.834223</td>\n",
       "      <td>14.523335</td>\n",
       "      <td>0.803247</td>\n",
       "      <td>1.098385</td>\n",
       "      <td>1385.829926</td>\n",
       "      <td>0.486997</td>\n",
       "    </tr>\n",
       "    <tr>\n",
       "      <th>min</th>\n",
       "      <td>1.000000</td>\n",
       "      <td>1940.000000</td>\n",
       "      <td>0.000000</td>\n",
       "      <td>0.000000</td>\n",
       "      <td>0.000000</td>\n",
       "      <td>0.000000</td>\n",
       "    </tr>\n",
       "    <tr>\n",
       "      <th>25%</th>\n",
       "      <td>2.000000</td>\n",
       "      <td>1982.000000</td>\n",
       "      <td>0.000000</td>\n",
       "      <td>0.000000</td>\n",
       "      <td>221.000000</td>\n",
       "      <td>0.000000</td>\n",
       "    </tr>\n",
       "    <tr>\n",
       "      <th>50%</th>\n",
       "      <td>3.000000</td>\n",
       "      <td>1992.000000</td>\n",
       "      <td>0.000000</td>\n",
       "      <td>0.000000</td>\n",
       "      <td>405.000000</td>\n",
       "      <td>1.000000</td>\n",
       "    </tr>\n",
       "    <tr>\n",
       "      <th>75%</th>\n",
       "      <td>3.000000</td>\n",
       "      <td>1999.500000</td>\n",
       "      <td>0.000000</td>\n",
       "      <td>1.000000</td>\n",
       "      <td>861.250000</td>\n",
       "      <td>1.000000</td>\n",
       "    </tr>\n",
       "    <tr>\n",
       "      <th>max</th>\n",
       "      <td>3.000000</td>\n",
       "      <td>2019.000000</td>\n",
       "      <td>6.000000</td>\n",
       "      <td>8.000000</td>\n",
       "      <td>14345.000000</td>\n",
       "      <td>1.000000</td>\n",
       "    </tr>\n",
       "  </tbody>\n",
       "</table>\n",
       "</div>"
      ],
      "text/plain": [
       "         Severity  Birthday_year  Parents or siblings infected  \\\n",
       "count  900.000000     723.000000                    900.000000   \n",
       "mean     2.313333    1990.266943                      0.380000   \n",
       "std      0.834223      14.523335                      0.803247   \n",
       "min      1.000000    1940.000000                      0.000000   \n",
       "25%      2.000000    1982.000000                      0.000000   \n",
       "50%      3.000000    1992.000000                      0.000000   \n",
       "75%      3.000000    1999.500000                      0.000000   \n",
       "max      3.000000    2019.000000                      6.000000   \n",
       "\n",
       "       Wife/Husband or children infected  Medical_Expenses_Family    Deceased  \n",
       "count                         900.000000               900.000000  900.000000  \n",
       "mean                            0.521111               895.743333    0.614444  \n",
       "std                             1.098385              1385.829926    0.486997  \n",
       "min                             0.000000                 0.000000    0.000000  \n",
       "25%                             0.000000               221.000000    0.000000  \n",
       "50%                             0.000000               405.000000    1.000000  \n",
       "75%                             1.000000               861.250000    1.000000  \n",
       "max                             8.000000             14345.000000    1.000000  "
      ]
     },
     "execution_count": 6,
     "metadata": {},
     "output_type": "execute_result"
    }
   ],
   "source": [
    "df[['Severity', 'Birthday_year', 'Parents or siblings infected', 'Wife/Husband or children infected', \n",
    "    'Medical_Expenses_Family', 'Deceased']].describe()"
   ]
  },
  {
   "cell_type": "code",
   "execution_count": 7,
   "metadata": {},
   "outputs": [
    {
     "data": {
      "text/plain": [
       "1    0.614444\n",
       "0    0.385556\n",
       "Name: Deceased, dtype: float64"
      ]
     },
     "execution_count": 7,
     "metadata": {},
     "output_type": "execute_result"
    }
   ],
   "source": [
    "df['Deceased'].value_counts(normalize=True)"
   ]
  },
  {
   "cell_type": "markdown",
   "metadata": {},
   "source": [
    "`NOTE:` Unbalanced learning, test over/under sampling."
   ]
  },
  {
   "cell_type": "markdown",
   "metadata": {},
   "source": [
    "<a class=\"anchor\" id=\"miss_values\">\n",
    "\n",
    "## 2.2. Missing Values Analysis\n",
    "\n",
    "</a>"
   ]
  },
  {
   "cell_type": "markdown",
   "metadata": {},
   "source": [
    "Before starting any analysis, we must take a look to our dataset and ensure data quality. Therefore, we started by checking the existence of missing values as can be seen below. To properly deal with the 881 and 393 missing values present in the train and test dataset, respectively, it was necessary to adopt different approaches that would be suited for each case."
   ]
  },
  {
   "cell_type": "code",
   "execution_count": 8,
   "metadata": {},
   "outputs": [
    {
     "name": "stdout",
     "output_type": "stream",
     "text": [
      "# of missing values by variable:\n"
     ]
    },
    {
     "data": {
      "text/plain": [
       "Patient_ID                             0\n",
       "Family_Case_ID                         0\n",
       "Severity                               0\n",
       "Name                                   0\n",
       "Birthday_year                        177\n",
       "Parents or siblings infected           0\n",
       "Wife/Husband or children infected      0\n",
       "Medical_Expenses_Family                0\n",
       "Medical_Tent                         702\n",
       "City                                   2\n",
       "Deceased                               0\n",
       "dtype: int64"
      ]
     },
     "execution_count": 8,
     "metadata": {},
     "output_type": "execute_result"
    }
   ],
   "source": [
    "print(\"# of missing values by variable:\")\n",
    "df.isnull().sum()"
   ]
  },
  {
   "cell_type": "code",
   "execution_count": 9,
   "metadata": {},
   "outputs": [
    {
     "name": "stdout",
     "output_type": "stream",
     "text": [
      "# of missing values by variable:\n"
     ]
    },
    {
     "data": {
      "text/plain": [
       "Patient_ID                             0\n",
       "Family_Case_ID                         0\n",
       "Severity                               0\n",
       "Name                                   0\n",
       "Birthday_year                         82\n",
       "Parents or siblings infected           0\n",
       "Wife/Husband or children infected      0\n",
       "Medical_Expenses_Family                0\n",
       "Medical_Tent                         311\n",
       "City                                   0\n",
       "dtype: int64"
      ]
     },
     "execution_count": 9,
     "metadata": {},
     "output_type": "execute_result"
    }
   ],
   "source": [
    "print(\"# of missing values by variable:\")\n",
    "test_df.isnull().sum()"
   ]
  },
  {
   "cell_type": "markdown",
   "metadata": {},
   "source": [
    "##### Medical Tent"
   ]
  },
  {
   "cell_type": "code",
   "execution_count": 10,
   "metadata": {},
   "outputs": [],
   "source": [
    "df = df.drop(columns='Medical_Tent')\n",
    "test_df = test_df.drop(columns='Medical_Tent')"
   ]
  },
  {
   "cell_type": "markdown",
   "metadata": {},
   "source": [
    "In this particular case we decided to drop the variable \"Medical Tent\", once it as about 78% of missing values in respect to both training and testing data."
   ]
  },
  {
   "cell_type": "markdown",
   "metadata": {},
   "source": [
    "##### City"
   ]
  },
  {
   "cell_type": "markdown",
   "metadata": {},
   "source": [
    "To fill the missing values in the variable \"City\", we decide to use the mode, since there are only two observations missing."
   ]
  },
  {
   "cell_type": "code",
   "execution_count": 11,
   "metadata": {},
   "outputs": [
    {
     "data": {
      "text/plain": [
       "Santa Fe       649\n",
       "Albuquerque    169\n",
       "Taos            80\n",
       "Name: City, dtype: int64"
      ]
     },
     "execution_count": 11,
     "metadata": {},
     "output_type": "execute_result"
    }
   ],
   "source": [
    "df.City.value_counts()"
   ]
  },
  {
   "cell_type": "code",
   "execution_count": 12,
   "metadata": {},
   "outputs": [],
   "source": [
    "df['City'] = df['City'].fillna(df['City'].mode()[0])"
   ]
  },
  {
   "cell_type": "code",
   "execution_count": 13,
   "metadata": {},
   "outputs": [
    {
     "data": {
      "text/plain": [
       "Santa Fe       651\n",
       "Albuquerque    169\n",
       "Taos            80\n",
       "Name: City, dtype: int64"
      ]
     },
     "execution_count": 13,
     "metadata": {},
     "output_type": "execute_result"
    }
   ],
   "source": [
    "df.City.value_counts()"
   ]
  },
  {
   "cell_type": "markdown",
   "metadata": {},
   "source": [
    "##### Birthday Year"
   ]
  },
  {
   "cell_type": "markdown",
   "metadata": {},
   "source": [
    "In what concerns the remaining missing values, all from the variable \"Birthday Year\", we decided to apply the K-Nearest Neighbor algorithm to fill them. This decision was based in the fact that there are 177 missing values, which we consider too much for applying a simple input (such as mean or median input), but not that many to remove a variable that we believe that might have some importance in our model. \n",
    "Later, with more knowledge of the dataset we might consider remove it."
   ]
  },
  {
   "cell_type": "code",
   "execution_count": 14,
   "metadata": {},
   "outputs": [],
   "source": [
    "# Training set\n",
    "knn_vars = df.drop(['Patient_ID', 'Name', 'City', 'Deceased'], axis = 1)\n",
    "imputer = KNNImputer(n_neighbors=10)\n",
    "X_filled_knn = imputer.fit_transform(knn_vars)\n",
    "years = np.round(X_filled_knn[:,2])\n",
    "\n",
    "for i in range(len(knn_vars)):\n",
    "    if knn_vars.loc[i,'Birthday_year'] < 1900:\n",
    "        print (years[i])\n",
    "        \n",
    "df['Birthday_year'] = years\n",
    "\n",
    "# Test set\n",
    "knn_vars_test = test_df.drop(['Patient_ID', 'Name', 'City'], axis = 1)\n",
    "imputer = KNNImputer(n_neighbors=10)\n",
    "Xtest_filled_knn = imputer.fit_transform(knn_vars_test)\n",
    "years_df = np.round(Xtest_filled_knn[:,2])\n",
    "test_df['Birthday_year'] = years_df"
   ]
  },
  {
   "cell_type": "markdown",
   "metadata": {},
   "source": [
    "<a class=\"anchor\" id=\"outliers\">\n",
    "\n",
    "## 2.3. Outliers Analysis\n",
    "\n",
    "</a>"
   ]
  },
  {
   "cell_type": "markdown",
   "metadata": {},
   "source": [
    "In this step, we identified outliers through boxplot and histogram visualizations, where we compare odd values against the pattern of the data.\n",
    "\n",
    "By looking at the boxplot, observations outside the minimum and maximum values, which is defined by the whis parameter, may be considered outliers. Despite that, is important to define the moment to stop cutting, otherwise we may take off non-outliers observations, so we identified the biggest distances in the extremes. This method requires a strong knowledge of our dataset and therefore we may need to perform some adjustments to this step later."
   ]
  },
  {
   "cell_type": "code",
   "execution_count": 15,
   "metadata": {},
   "outputs": [
    {
     "data": {
      "text/plain": [
       "<matplotlib.axes._subplots.AxesSubplot at 0x142ea3970>"
      ]
     },
     "execution_count": 15,
     "metadata": {},
     "output_type": "execute_result"
    },
    {
     "data": {
      "image/png": "[encoded data removed]",
      "text/plain": [
       "<Figure size 720x360 with 2 Axes>"
      ]
     },
     "metadata": {
      "needs_background": "light"
     },
     "output_type": "display_data"
    }
   ],
   "source": [
    "f, axes = plt.subplots(1,2, figsize=(10, 5), squeeze=False)    \n",
    "sns.boxplot(df[\"Birthday_year\"], color=\"skyblue\", ax=axes[0, 0])\n",
    "sns.boxplot(df[\"Medical_Expenses_Family\"], color=\"blue\", ax=axes[0, 1])"
   ]
  },
  {
   "cell_type": "code",
   "execution_count": 16,
   "metadata": {},
   "outputs": [
    {
     "data": {
      "text/plain": [
       "<matplotlib.axes._subplots.AxesSubplot at 0x1167938e0>"
      ]
     },
     "execution_count": 16,
     "metadata": {},
     "output_type": "execute_result"
    },
    {
     "data": {
      "image/png": "[encoded data removed]",
      "text/plain": [
       "<Figure size 720x720 with 4 Axes>"
      ]
     },
     "metadata": {
      "needs_background": "light"
     },
     "output_type": "display_data"
    }
   ],
   "source": [
    "f, axes = plt.subplots(2, 2, figsize=(10, 10))\n",
    "sns.distplot(df[\"Birthday_year\"], color=\"skyblue\", ax=axes[0, 0], kde=False)\n",
    "sns.distplot(df[\"Parents or siblings infected\"], color=\"steelblue\", ax=axes[0, 1], kde=False)\n",
    "sns.distplot(df[\"Medical_Expenses_Family\"], color=\"blue\", ax=axes[1, 0], kde=False)\n",
    "sns.distplot(df[\"Wife/Husband or children infected\"], color=\"c\", ax=axes[1, 1], kde=False)"
   ]
  },
  {
   "cell_type": "code",
   "execution_count": 17,
   "metadata": {},
   "outputs": [
    {
     "data": {
      "text/plain": [
       "0    897\n",
       "1      3\n",
       "Name: Outlier, dtype: int64"
      ]
     },
     "execution_count": 17,
     "metadata": {},
     "output_type": "execute_result"
    }
   ],
   "source": [
    "df['Outlier'] = 0\n",
    "df.loc[df['Medical_Expenses_Family']>13000, 'Outlier']=1\n",
    "df['Outlier'].value_counts()"
   ]
  },
  {
   "cell_type": "code",
   "execution_count": 18,
   "metadata": {},
   "outputs": [],
   "source": [
    "df = df.loc[df['Outlier'] == 0]"
   ]
  },
  {
   "cell_type": "markdown",
   "metadata": {},
   "source": [
    "<hr>\n",
    "<a class=\"anchor\" id=\"modify\">\n",
    "\n",
    "# 3. Modify\n",
    "    \n",
    "</a>"
   ]
  },
  {
   "cell_type": "markdown",
   "metadata": {},
   "source": [
    "The main purpose of this procedure is to prepare our dataset for the next phase, where we train our model.\n",
    "\n",
    "Following this idea, we transformed and created variables, as well as checked incoherent observations. Besides that, we have partitioned our model into train set (70%) and validation set (30%), standardized both sets, and evaluate the importance of our variables in the model. \n",
    "For this evaluation some different approaches were taken into account. In a first phase, we performed correlation analysis, and later, some different methods were implemented, such as Lasso Regression and  Recursive Feature Elimination (RFE) in order to identify the most important variables.\n",
    "\n",
    "Finally, since we noticed that our target variable were imbalanced, we considered that it may be useful to perform artificial resampling."
   ]
  },
  {
   "cell_type": "markdown",
   "metadata": {},
   "source": [
    "<hr>\n",
    "<a class=\"anchor\" id=\"transf_create\">\n",
    "\n",
    "## 3.1. Transform and Create Variables\n",
    "    \n",
    "</a>"
   ]
  },
  {
   "cell_type": "markdown",
   "metadata": {},
   "source": [
    "At this point, we transformed the following variables:\n",
    "\n",
    "- The nominal variable, City, was transformed into 2 dummy variables (since it has 3 classes), 'Santa Fe' and 'Taos'. Comprehensively, if one patient is from one of this cities it will have the value 1 in the respective variable, otherwise, if one patient is from Albuquerque he/she will have the value 0 in both classes;\n",
    "\n",
    "- The other categorical variable, Name, was also transformed in a way of retaining the only useful information we can extract from it, which is the gender of the patients. In this way, if the Name was introduced by \"Mr.\" or \"Master\" the new variable Male will have the value 1, otherwise it will be 0;\n",
    "\n",
    "- In order to gain some interpretability, the variable 'Age' was created based on the difference between the birthday year and 2020;\n",
    "\n",
    "- With the objective of increasing the score of our models some functional forms of the variable medical_expenses_family were made, such has the square, the logaritmic and a combination with the variable severity.\n",
    "   \n",
    "   \n",
    "\n",
    "\n",
    "\n",
    "After this, some variables were also created based on the ones already existent:\n",
    "\n",
    "- The number of family cases which is the sum of the all the cases of infection in the family (parents, children, wife/husband or children);\n",
    "    \n",
    "- The number of family elements (or a proxys of it, since not all the family elements are necessarily in the database), named 'Family Size', which had the main purpose of being used in the creation of other variables, such as the 'ProportionCases', that we consider important since it gave us an idea of the proportion of members infected in the family, in opposition of the previous variable, 'Family Cases' that only has data about the absolute number;\n",
    "     \n",
    "- Besides that, the number of 'Family Cases' also contributes to the creation of 'Medical_Expenses_Person', which informs about the number of expenses per family element;\n",
    "        \n",
    "- Finally, with the unique aim of obtaining better results, we consider that it might be more important to distinguish, not the number of a patient family members infected, but whether there are any wife/husband or children in the family infected, any parents or children infected or, even, if there are any member in the family infected. To do so, three binary variables were created, namely, 'WifeOrChildren_infected_bin', 'Parents_infected_bin' and 'Family_Infected_bin', respectively.\n",
    "\n",
    "\n",
    "\n",
    "At the end of this step the following variables were deleted since they were either transformed into new variables or do not have relevant information to be used on the models, such as 'City','Name','Family_Case_ID','Birthday_year'.\n",
    "The variable 'Patient_ID' which corresponds to the unique identifier of each patient and, for that won't be deleted, but neither will be used to train the models."
   ]
  },
  {
   "cell_type": "code",
   "execution_count": 19,
   "metadata": {},
   "outputs": [],
   "source": [
    "# TRANSFORM VARIABLES\n",
    "\n",
    "# Santa Fe\n",
    "df.loc[df['City'] == 'Santa Fe', 'Santa Fe'] = 1\n",
    "df.loc[df['City'] != 'Santa Fe', 'Santa Fe'] = 0\n",
    "test_df.loc[test_df['City'] == 'Santa Fe', 'Santa Fe'] = 1\n",
    "test_df.loc[test_df['City'] != 'Santa Fe', 'Santa Fe'] = 0\n",
    "# Taos\n",
    "df.loc[df['City'] == 'Taos', 'Taos'] = 1\n",
    "df.loc[df['City'] != 'Taos', 'Taos'] = 0\n",
    "test_df.loc[test_df['City'] == 'Taos', 'Taos'] = 1\n",
    "test_df.loc[test_df['City'] != 'Taos', 'Taos'] = 0\n",
    "\n",
    "# Male\n",
    "df['Male'] = '0'\n",
    "test_df['Male'] = '0'\n",
    "df.loc[df['Name'].str.startswith(\"Mr.\"), \"Male\" ] = \"1\"\n",
    "df.loc[df['Name'].str.startswith(\"Master\"), \"Male\" ] = \"1\"\n",
    "test_df.loc[test_df['Name'].str.startswith(\"Mr.\"), \"Male\" ] = \"1\"\n",
    "test_df.loc[test_df['Name'].str.startswith(\"Master\"), \"Male\" ] = \"1\"\n",
    "\n",
    "# Age\n",
    "df['Age'] = 2020 - df['Birthday_year']\n",
    "test_df['Age'] = 2020 - test_df['Birthday_year']\n",
    "\n",
    "# ln_expenses_family\n",
    "df['ln_expenses_family'] = np.log(df.Medical_Expenses_Family, where=(df.Medical_Expenses_Family!=0))\n",
    "test_df['ln_expenses_family'] = np.log(test_df.Medical_Expenses_Family, where=(test_df.Medical_Expenses_Family!=0))\n",
    "\n",
    "# square_expenses_family\n",
    "df['Expenses_Family2'] = np.square(df.Medical_Expenses_Family)\n",
    "test_df['Expenses_Family2'] = np.square(test_df.Medical_Expenses_Family)\n",
    "\n",
    "# Severity_Expenses\n",
    "df['Severity_Expenses'] = 0\n",
    "df.loc[df['Medical_Expenses_Family']!=0, \"Severity_Expenses\"] = df.Severity * (1 / df.Medical_Expenses_Family)\n",
    "test_df['Severity_Expenses'] = 0\n",
    "test_df.loc[test_df['Medical_Expenses_Family']!=0, \"Severity_Expenses\"] = test_df['Severity'] * (1 / test_df['Medical_Expenses_Family'])\n",
    "\n",
    "\n",
    "# CREATE VARIABLES\n",
    "\n",
    "# Family_cases\n",
    "df['Family_cases'] = df['Parents or siblings infected'] + df['Wife/Husband or children infected']\n",
    "test_df['Family_cases'] = test_df['Parents or siblings infected'] + test_df['Wife/Husband or children infected']\n",
    "\n",
    "# Family_size\n",
    "Family_size = pd.DataFrame(df['Patient_ID'].groupby(df['Family_Case_ID']).count())\n",
    "Family_size = Family_size.rename({'Patient_ID':'Family_size'}, axis='columns') \n",
    "df = df.merge(Family_size, on = ['Family_Case_ID'])\n",
    "\n",
    "Family_size_test = pd.DataFrame(test_df['Patient_ID'].groupby(test_df['Family_Case_ID']).count())\n",
    "Family_size_test = Family_size_test.rename({'Patient_ID':'Family_size'}, axis='columns') \n",
    "test_df = test_df.merge(Family_size_test, on = ['Family_Case_ID'])\n",
    "\n",
    "# ProportionCases\n",
    "df['ProportionCases'] = df['Family_cases'] / df['Family_size']\n",
    "test_df['ProportionCases'] = test_df['Family_cases'] / test_df['Family_size']\n",
    "\n",
    "# Medical_Expenses_Person\n",
    "df['Medical_Expenses_Person'] = df['Medical_Expenses_Family']/df['Family_size']\n",
    "test_df['Medical_Expenses_Person'] = test_df['Medical_Expenses_Family']/test_df['Family_size']\n",
    "\n",
    "# Parents_infected_bin\n",
    "df['Parents_infected_bin'] = 0\n",
    "df.loc[df['Parents or siblings infected'] != 0, 'Parents_infected_bin'] = 1\n",
    "test_df['Parents_infected_bin'] = 0\n",
    "test_df.loc[test_df['Parents or siblings infected'] != 0, 'Parents_infected_bin'] = 1\n",
    "\n",
    "# WifeOrChildren_infected_bin\n",
    "df['WifeOrChildren_infected_bin'] = 0\n",
    "df.loc[df['Wife/Husband or children infected'] != 0, 'WifeOrChildren_infected_bin'] = 1\n",
    "test_df['WifeOrChildren_infected_bin'] = 0\n",
    "test_df.loc[test_df['Wife/Husband or children infected'] != 0, 'WifeOrChildren_infected_bin'] = 1\n",
    "\n",
    "# Family_Infected_bin\n",
    "df['Family_Infected_bin'] = 1\n",
    "df.loc[(df['WifeOrChildren_infected_bin'] == 0) & (df['Parents_infected_bin'] == 0), 'Family_Infected_bin'] = 0\n",
    "\n",
    "\n",
    "# DROP VARIABLES\n",
    "df.drop(columns = ['City','Name','Outlier','Family_Case_ID','Birthday_year'], inplace = True)\n",
    "test_df.drop(columns = ['City','Name','Family_Case_ID','Birthday_year'], inplace = True)\n",
    "\n",
    "\n",
    "# SET INDEX\n",
    "df.set_index('Patient_ID', inplace = True)\n",
    "test_df.set_index('Patient_ID', inplace = True)"
   ]
  },
  {
   "cell_type": "markdown",
   "metadata": {},
   "source": [
    "<hr>\n",
    "<a class=\"anchor\" id=\"coherence\">\n",
    "\n",
    "## 3.2. Coherence Checking\n",
    "    \n",
    "</a>"
   ]
  },
  {
   "cell_type": "markdown",
   "metadata": {},
   "source": [
    "Due to the small number of initial variables, we were not to strict in terms of possible incoherences. Said that, a patient having less than zero or more than 120 years old or severity values being out of the interval 1-3 were considered incoherent. Nevertheless, there were no patients with these characteristics."
   ]
  },
  {
   "cell_type": "code",
   "execution_count": 20,
   "metadata": {},
   "outputs": [
    {
     "data": {
      "text/plain": [
       "0    897\n",
       "Name: Incoherent, dtype: int64"
      ]
     },
     "execution_count": 20,
     "metadata": {},
     "output_type": "execute_result"
    }
   ],
   "source": [
    "df2 = df.copy()\n",
    "df2['Incoherent'] = 0\n",
    "df2.loc[(df['Severity'] > 3) | (df2['Severity'] < 1), 'Incoherent'] = 1\n",
    "df2.loc[(df['Age'] > 120) | (df2['Age'] < 0), 'Incoherent'] = 1\n",
    "df2['Incoherent'].value_counts()"
   ]
  },
  {
   "cell_type": "markdown",
   "metadata": {},
   "source": [
    "We concluded that there are no incoherent values in our dataset."
   ]
  },
  {
   "cell_type": "markdown",
   "metadata": {},
   "source": [
    "<hr>\n",
    "<a class=\"anchor\" id=\"corr\">\n",
    "\n",
    "## 3.3. Correlation Analysis\n",
    "    \n",
    "</a>"
   ]
  },
  {
   "cell_type": "markdown",
   "metadata": {},
   "source": [
    "In order to check if there are two or more variables explaining the same or almost the same information, we performed the correlation analysis. \n",
    "\n",
    "Since a big part of the variables in our dataset are not continuous, and, after some exhaustive research, we conclude that the Spearman correlation should be choosen in detriment of Person method, once the first one performs better when analysing the correlation between two categorical variables or categorical and continuous variables."
   ]
  },
  {
   "cell_type": "code",
   "execution_count": 21,
   "metadata": {},
   "outputs": [
    {
     "data": {
      "image/png": "[encoded data removed]",
      "text/plain": [
       "<Figure size 864x864 with 2 Axes>"
      ]
     },
     "metadata": {
      "needs_background": "light"
     },
     "output_type": "display_data"
    }
   ],
   "source": [
    "plt.rcParams['figure.figsize'] = (12,12)\n",
    "\n",
    "corr_matrix=df.drop(columns=['Wife/Husband or children infected', 'Parents or siblings infected', 'ln_expenses_family', 'Expenses_Family2']).corr(method = 'spearman')\n",
    "mask=np.zeros_like(corr_matrix, dtype=np.bool)\n",
    "mask[np.triu_indices_from(mask)]=True\n",
    "sns.heatmap(data=corr_matrix, mask=mask, center=0, annot=True, linewidths=2, cmap='coolwarm')\n",
    "plt.tight_layout()"
   ]
  },
  {
   "cell_type": "markdown",
   "metadata": {},
   "source": [
    "From the correlation analysis and based on the threshold of 0.8 in absolute value, many conclusions can be learned in what concerns feature selection, once this value suggest that those variables may retain the same information. As takeaways, from the visualization presented, these are the decisions to make:\n",
    "\n",
    "- include the \"Severity\" or the transformation \"Severity_Expenses\";\n",
    "\n",
    "- remove the variable \"Family Cases\" or one of the following variables: \"WifeOrChildren_infected_bin\", \"Parents_infected_bin\", \"Family_Infected_bin\" or the \"ProportionCases\" variable.\n",
    "\n",
    "Besides that, there are some values that we should pay some attention, specially the ones related with the variable \"Medical_Expenses_Person\", which also seems to be strongly correlated with the \"Medical expenses_family\" (0.75) and the \"Severity\" (-0.79).\n",
    "\n",
    "\n",
    "This was an iterative process in combination with feature selection section that will be introduced later."
   ]
  },
  {
   "cell_type": "markdown",
   "metadata": {},
   "source": [
    "<hr>\n",
    "<a class=\"anchor\" id=\"train_val\">\n",
    "\n",
    "## 3.4. Train Validation Partition\n",
    "    \n",
    "</a>"
   ]
  },
  {
   "cell_type": "markdown",
   "metadata": {},
   "source": [
    "The train validation split provides the ability to train the model with a set of the data and validate its generalization capability independently in another set. Thus, the training set is used to learn and build the model, as a consequence, the estimate of the error will be optimistic since the model will be assessed in data it has already seen. On the other hand, the validation set is used to assess the performance of the model on unseen data and therefore provide an unbiased estimate of the error. \n",
    "\n",
    "From the hold-out approach, 30% of the data was used for validation, where the distribution of the dependent variable was maintained in both partitions.\n",
    "\n",
    "Additionally, this process is highly dependent on feature selection once the results obtained determine what variables seem to be more relevant to explain the patient's death. Therefore, each time feature selection was accomplished we returned to this step in order to select the most appropriate features to the model."
   ]
  },
  {
   "cell_type": "code",
   "execution_count": 22,
   "metadata": {},
   "outputs": [],
   "source": [
    "variables = ['Severity', 'Age', 'Male', 'Santa Fe', 'Family_cases', 'Parents_infected_bin']\n",
    "# variables = ['Severity', 'Age', 'Male', 'Santa Fe', 'Family_cases', 'Parents_infected_bin',\n",
    "#              'square_expenses_family']  # for version 38\n",
    "\n",
    "X = df[variables]\n",
    "\n",
    "y = df['Deceased']"
   ]
  },
  {
   "cell_type": "code",
   "execution_count": 23,
   "metadata": {},
   "outputs": [],
   "source": [
    "X_train, X_val, y_train, y_val = train_test_split(X, y, test_size=0.3, \n",
    "                                                  random_state=15, shuffle=True, stratify=y)"
   ]
  },
  {
   "cell_type": "markdown",
   "metadata": {},
   "source": [
    "<hr>\n",
    "<a class=\"anchor\" id=\"datastand\">\n",
    "\n",
    "## 3.5. Data Standardization\n",
    "    \n",
    "</a>"
   ]
  },
  {
   "cell_type": "markdown",
   "metadata": {},
   "source": [
    "Taking into consideration that variables are measured in different scales, their contribution to the model may not be equal. Therefore, data standardization allows different features to have the same impact on the model. \n",
    "\n",
    "Said that, several feature scaling techniques were tested, such as z-score (standard scaler), robust scaler and min-max normalization. As a result, z-score provided better results."
   ]
  },
  {
   "cell_type": "code",
   "execution_count": 24,
   "metadata": {},
   "outputs": [],
   "source": [
    "scaler = StandardScaler().fit(X_train)  # z-score\n",
    "#scaler = RobustScaler().fit(X_train) # robust standardization\n",
    "\n",
    "scaler_X_train = scaler.transform(X_train)\n",
    "scaler_X_train = pd.DataFrame(scaler_X_train, columns=variables)\n",
    "\n",
    "scaler_X_val = scaler.transform(X_val)\n",
    "scaler_X_val = pd.DataFrame(scaler_X_val, columns=variables)\n",
    "\n",
    "test_df = test_df[variables]\n",
    "scaler_X_test = scaler.transform(test_df)\n",
    "scaler_X_test = pd.DataFrame(scaler_X_test, columns=variables)"
   ]
  },
  {
   "cell_type": "code",
   "execution_count": 25,
   "metadata": {},
   "outputs": [],
   "source": [
    "# min max normalization\n",
    "##minmax = MinMaxScaler(feature_range=(-1,1)).fit(X_train)\n",
    "#minmax = MinMaxScaler().fit(X_train)\n",
    "#scaler_X_train = pd.DataFrame(minmax.transform(X_train))\n",
    "#scaler_X_val = pd.DataFrame(minmax.transform(X_val))\n",
    "#test_df = test_df[variables]\n",
    "#scaler_X_test = pd.DataFrame(minmax.transform(test_df))\n",
    "\n",
    "#scaler_X_train.columns = variables\n",
    "#scaler_X_val.columns = variables\n",
    "#scaler_X_test.columns = variables"
   ]
  },
  {
   "cell_type": "markdown",
   "metadata": {},
   "source": [
    "<hr>\n",
    "<a class=\"anchor\" id=\"feature\">\n",
    "\n",
    "## 3.6. Feature Selection\n",
    "    \n",
    "</a>"
   ]
  },
  {
   "cell_type": "markdown",
   "metadata": {},
   "source": [
    "Feature selection is the process of reducing the number of input variables. It is desirable to reduce the number of input variables, not only to improve the performance of the model, but also to reduce the computational cost of modeling.\n",
    "\n",
    "In regards to improving the performance of the model, lasso, ridge regression and recursive feature elimination were implemented. Analyzing these approachs together helped to decide which variables allowed us to increase the score of our models.\n",
    "\n",
    "Furthermore, Neighborhood Component Analysis dimensionality reduction technique, which aims to improve the accuracy of nearest neighbors classification compared to the standard Euclidean distance was implemented, however this approach did not improved the results obtained."
   ]
  },
  {
   "cell_type": "markdown",
   "metadata": {},
   "source": [
    "<hr>\n",
    "<a class=\"anchor\" id=\"lasso\">\n",
    "\n",
    "### 3.6.1. Lasso Regression\n",
    "    \n",
    "</a>"
   ]
  },
  {
   "cell_type": "markdown",
   "metadata": {},
   "source": [
    "Lasso Regression is a type of linear regression frequently used in feature selection. The reason behind this process, relates with the fact that Lasso method puts a constraint on the sum of the absolute values of the model parameters, the sum has to be less than a fixed value. In order to do so, the method apply a shrinking (regularization) process where it penalizes the coefficients of the regression variables shrinking some of them to zero. A zero coefficient in Lasso Regression, normally implies that the respective variable has very few or no importance on the model."
   ]
  },
  {
   "cell_type": "code",
   "execution_count": 26,
   "metadata": {},
   "outputs": [],
   "source": [
    "def plot_importance(coef,name):\n",
    "    imp_coef = coef.sort_values()\n",
    "    plt.figure(figsize=(8,10))\n",
    "    imp_coef.plot(kind = \"barh\")\n",
    "    plt.title(\"Feature importance using \" + name + \" Model\")\n",
    "    plt.show()"
   ]
  },
  {
   "cell_type": "code",
   "execution_count": 27,
   "metadata": {},
   "outputs": [
    {
     "data": {
      "text/plain": [
       "Parents_infected_bin   -0.040170\n",
       "Santa Fe                0.022012\n",
       "Family_cases            0.060047\n",
       "Age                     0.063361\n",
       "Severity                0.140109\n",
       "Male                    0.248872\n",
       "dtype: float64"
      ]
     },
     "execution_count": 27,
     "metadata": {},
     "output_type": "execute_result"
    }
   ],
   "source": [
    "reg = LassoCV()\n",
    "reg.fit(scaler_X_train, y_train)\n",
    "coef = pd.Series(reg.coef_, index=scaler_X_train.columns)\n",
    "coef.sort_values()"
   ]
  },
  {
   "cell_type": "code",
   "execution_count": 28,
   "metadata": {},
   "outputs": [
    {
     "data": {
      "image/png": "[encoded data removed]",
      "text/plain": [
       "<Figure size 576x720 with 1 Axes>"
      ]
     },
     "metadata": {
      "needs_background": "light"
     },
     "output_type": "display_data"
    }
   ],
   "source": [
    "plot_importance(coef, 'Lasso')"
   ]
  },
  {
   "cell_type": "markdown",
   "metadata": {},
   "source": [
    "<hr>\n",
    "<a class=\"anchor\" id=\"ridge\">\n",
    "\n",
    "### 3.6.2. Ridge Regression\n",
    "    \n",
    "</a>"
   ]
  },
  {
   "cell_type": "markdown",
   "metadata": {},
   "source": [
    "Ridge Regression is also a type of linear regression, very similar to Lasso in the sense that it applies a shrinking process that penalizes the coefficients. The mainly difference is how this regularization is applied, since in Ridge the coefficients become very close to zero, but never zero. \n",
    "\n",
    "Consequently, the analysis of the results is done in a similar way of Lasso Regression, this is, variables with the highest coefficients are considered the most important ones, and vice versa."
   ]
  },
  {
   "cell_type": "code",
   "execution_count": 29,
   "metadata": {},
   "outputs": [
    {
     "name": "stdout",
     "output_type": "stream",
     "text": [
      "Parents_infected_bin   -0.039750\n",
      "Santa Fe                0.022564\n",
      "Family_cases            0.058153\n",
      "Age                     0.062268\n",
      "Severity                0.138453\n",
      "Male                    0.245311\n",
      "dtype: float64\n"
     ]
    }
   ],
   "source": [
    "ridge = RidgeCV()\n",
    "ridge.fit(X=scaler_X_train, y=y_train)\n",
    "coef_ridge = pd.Series(ridge.coef_, index=scaler_X_train.columns)\n",
    "print(coef_ridge.sort_values())"
   ]
  },
  {
   "cell_type": "code",
   "execution_count": 30,
   "metadata": {},
   "outputs": [
    {
     "data": {
      "image/png": "[encoded data removed]",
      "text/plain": [
       "<Figure size 576x720 with 1 Axes>"
      ]
     },
     "metadata": {
      "needs_background": "light"
     },
     "output_type": "display_data"
    }
   ],
   "source": [
    "plot_importance(coef_ridge,'Ridge')"
   ]
  },
  {
   "cell_type": "markdown",
   "metadata": {},
   "source": [
    "<hr>\n",
    "<a class=\"anchor\" id=\"rfe\">\n",
    "\n",
    "### 3.6.3. Recursive Feature Elimination (RFE)\n",
    "    \n",
    "</a>"
   ]
  },
  {
   "cell_type": "markdown",
   "metadata": {},
   "source": [
    "The main objective of Recursive Feature Elimination (RFE) is to select features by recursively considering smaller and smaller sets of variables. \n",
    "\n",
    "At the beggining, the estimator is trained on the entire set of features and the importance of each feature is obtained either through the respective coefficient or through a ranking of the variable in comparison with the remaining ones. \n",
    "Then, the least important features are pruned from the current set of features. This procedure is recursively repeated on the pruned set until the desired number of features to select is eventually reached.\n",
    "\n",
    "Smaller values in the ranking suggest higher importance on the model."
   ]
  },
  {
   "cell_type": "code",
   "execution_count": 31,
   "metadata": {},
   "outputs": [
    {
     "name": "stdout",
     "output_type": "stream",
     "text": [
      "Optimum number of features: 1\n",
      "Score with 1 features: 0.777778\n"
     ]
    }
   ],
   "source": [
    "# nro of features\n",
    "nof_list=np.arange(1,10)            \n",
    "high_score=0\n",
    "# Variable to store the optimum features\n",
    "nof=0           \n",
    "score_list =[]\n",
    "for n in range(len(nof_list)):\n",
    "\n",
    "    X_train_rfe, X_rfe_val, y_train_rfe, y_rfe_val = train_test_split(scaler_X_train, y_train, test_size = 0.2, \n",
    "                                                                      random_state = 15)\n",
    "    \n",
    "    model_rfe = LogisticRegression()\n",
    "    rfe = RFE(model_rfe,nof_list[n])\n",
    "    X_train_rfe = rfe.fit_transform(X_train_rfe,y_train_rfe)\n",
    "    X_rfe_val = rfe.transform(X_rfe_val)\n",
    "    \n",
    "    model_rfe.fit(X_train_rfe,y_train_rfe)\n",
    "    \n",
    "    score = model_rfe.score(X_rfe_val,y_rfe_val)\n",
    "    score_list.append(score)\n",
    "    \n",
    "    if(score>high_score):\n",
    "        high_score = score\n",
    "        nof = nof_list[n]\n",
    "        \n",
    "\n",
    "print(\"Optimum number of features: %d\" %nof)\n",
    "print(\"Score with %d features: %f\" % (nof, high_score))"
   ]
  },
  {
   "cell_type": "code",
   "execution_count": 32,
   "metadata": {},
   "outputs": [
    {
     "data": {
      "text/plain": [
       "Severity                1\n",
       "Age                     1\n",
       "Male                    1\n",
       "Family_cases            1\n",
       "Parents_infected_bin    2\n",
       "Santa Fe                3\n",
       "dtype: int64"
      ]
     },
     "execution_count": 32,
     "metadata": {},
     "output_type": "execute_result"
    }
   ],
   "source": [
    "N = 4\n",
    "model_rfe = LogisticRegression()\n",
    "rfe = RFE(estimator = model_rfe, n_features_to_select = N)\n",
    "X_rfe = rfe.fit_transform(X = scaler_X_train, y = y_train) \n",
    "\n",
    "selected_features_rfe = pd.Series(rfe.ranking_, index = scaler_X_train.columns)\n",
    "selected_features_rfe.sort_values()"
   ]
  },
  {
   "cell_type": "markdown",
   "metadata": {},
   "source": [
    "<hr>\n",
    "<a class=\"anchor\" id=\"dim_red\">\n",
    "\n",
    "### 3.6.4. Dimensionality Reduction\n",
    "    \n",
    "</a>"
   ]
  },
  {
   "cell_type": "markdown",
   "metadata": {},
   "source": [
    "The Dimensionality Reduction approach can be performed through multiple methods, such as Principal Components Analysis (PCA), Factor Analysis (FA) or Neighborhood Component Analysis (NCA). In this case, we decided to use NCA.\n",
    "\n",
    "The dimensionality reduction performs in a different way compared to the remaining methods mentioned, since it combines the variables, instead of selecting them. NCA aims at learning a distance metric by finding a linear transformation of input data such that the average leave-one-out classification performance is maximized in the transformed space."
   ]
  },
  {
   "cell_type": "code",
   "execution_count": 33,
   "metadata": {},
   "outputs": [],
   "source": [
    "# Reduce dimension to 2 with Neighborhood Component Analysis\n",
    "nca = NeighborhoodComponentsAnalysis(n_components=2, random_state=15).fit(scaler_X_train, y_train)\n",
    "\n",
    "# Obtain X embedded\n",
    "X_embedded_train = pd.DataFrame(nca.transform(scaler_X_train))\n",
    "X_embedded_val = pd.DataFrame(nca.transform(scaler_X_val))\n",
    "test_embedded = pd.DataFrame(nca.transform(scaler_X_test))"
   ]
  },
  {
   "cell_type": "markdown",
   "metadata": {},
   "source": [
    "<hr>\n",
    "<a class=\"anchor\" id=\"unbalancedlearning\">\n",
    "\n",
    "## 3.7. Artificial Resampling\n",
    "    \n",
    "</a>"
   ]
  },
  {
   "cell_type": "markdown",
   "metadata": {},
   "source": [
    "As previously mentioned, the distribution of the dependent variable is not completely balanced (0-39%; 1-61%), consequently in order to overcome this behavior artificial resampling was performed, where repeated samples of the original data were generated.\n",
    "\n",
    "As a result, several oversampling and undersampling techniques were applied, as described below."
   ]
  },
  {
   "cell_type": "markdown",
   "metadata": {},
   "source": [
    "<hr>\n",
    "<a class=\"anchor\" id=\"randomoversampling\">\n",
    "\n",
    "### 3.7.1. Random Oversampling\n",
    "    \n",
    "</a>"
   ]
  },
  {
   "cell_type": "markdown",
   "metadata": {},
   "source": [
    "Randomly Oversampling generates exact replicas of the minority class, i.e. create clones of employee based on the existing ones. As a consequence, this technique may lead to overfitting."
   ]
  },
  {
   "cell_type": "code",
   "execution_count": 34,
   "metadata": {},
   "outputs": [],
   "source": [
    "#weights = {0:300, 1:387}\n",
    "#ros = RandomOverSampler(sampling_strategy=weights, random_state=15)\n",
    "#X_res, y_res = ros.fit_resample(scaler_X_train, y_train)"
   ]
  },
  {
   "cell_type": "markdown",
   "metadata": {},
   "source": [
    "<hr>\n",
    "<a class=\"anchor\" id=\"smote\">\n",
    "\n",
    "### 3.7.2. Synthetic Minority Oversampling Technique (SMOTE)\n",
    "    \n",
    "</a>"
   ]
  },
  {
   "cell_type": "markdown",
   "metadata": {},
   "source": [
    "In Synthetic Minority Oversampling Technique (SMOTE), a subset of data is taken from the minority class as an example and then new synthetic similar instances are created. This technique mitigates the problem of overfitting caused by random oversampling, however it does not take into consideration neighboring examples from other classes, possibly resulting in increase overlapping of classes and therefore may introduce additional noise."
   ]
  },
  {
   "cell_type": "code",
   "execution_count": 35,
   "metadata": {},
   "outputs": [],
   "source": [
    "#weights = {0:300, 1:387}\n",
    "#smote = SMOTE(sampling_strategy=weights, random_state=15)\n",
    "#X_res, y_res = smote.fit_resample(scaler_X_train, y_train)"
   ]
  },
  {
   "cell_type": "markdown",
   "metadata": {},
   "source": [
    "<hr>\n",
    "<a class=\"anchor\" id=\"ADASYN\">\n",
    "\n",
    "### 3.7.3. Adaptive Synthetic Oversampling (ADASYN)\n",
    "    \n",
    "</a>"
   ]
  },
  {
   "cell_type": "markdown",
   "metadata": {},
   "source": [
    "Adaptive Synthetic Oversampling (ADASYN) is a similar approach compared to SMOTE but with a minor improvement, that is, after creating the synthetic similar instances, a random small value is added. In other words, instead of all the sample being linearly correlated to the parent they possess an additional variance component."
   ]
  },
  {
   "cell_type": "code",
   "execution_count": 36,
   "metadata": {},
   "outputs": [],
   "source": [
    "#weights = {0:300, 1:387}\n",
    "#adasyn2 = ADASYN(sampling_strategy=weights, random_state=15)\n",
    "#X_res, y_res = adasyn2.fit_resample(scaler_X_train, y_train)"
   ]
  },
  {
   "cell_type": "markdown",
   "metadata": {},
   "source": [
    "<hr>\n",
    "<a class=\"anchor\" id=\"kmeansunder\">\n",
    "\n",
    "### 3.7.4. Cluster-Based Undersampling (K-Means)\n",
    "    \n",
    "</a>"
   ]
  },
  {
   "cell_type": "markdown",
   "metadata": {},
   "source": [
    "K-means Undersampling keeps N majority samples by fitting K-means algorithm with N clusters to the majority class and using the coordinates of the N cluster medoids as the new majority samples."
   ]
  },
  {
   "cell_type": "code",
   "execution_count": 37,
   "metadata": {},
   "outputs": [],
   "source": [
    "#weights = {0:240, 1:300}\n",
    "#cc = ClusterCentroids(sampling_strategy=weights, random_state=15)\n",
    "#X_res10, y_res10 = cc.fit_resample(X_res, y_res)"
   ]
  },
  {
   "cell_type": "markdown",
   "metadata": {},
   "source": [
    "After testing a substantial amount of variable combinations, resampling techniques and standardization procedures we came up with a set of preferable components for each of these categories. In the end, our model seems to obtain better results when using the standard scaler as standardization procedure, maintaining the original number of samples and using the following combination of variables: Severity, Age, Male, Santa Fe, Family_cases and Parents_infected_bin. \n",
    "\n",
    "Note that this does not mean that a model with this characteristics is the best possible model, this is merely an indication of the aspects that gave the best overall results in our particular case."
   ]
  },
  {
   "cell_type": "markdown",
   "metadata": {},
   "source": [
    "<hr>\n",
    "<a class=\"anchor\" id=\"model\">\n",
    "\n",
    "# 4. Model\n",
    "    \n",
    "</a>"
   ]
  },
  {
   "cell_type": "markdown",
   "metadata": {},
   "source": [
    "<hr>\n",
    "<a class=\"anchor\" id=\"modelexp\">\n",
    "\n",
    "## 4.1 Model Exploration\n",
    "    \n",
    "</a>"
   ]
  },
  {
   "cell_type": "markdown",
   "metadata": {},
   "source": [
    "In this section, we presented all the algorithms tested as well as the correspondent grid search.\n",
    "\n",
    "The hyperparameters tuning was accomplished through the creation of a grid search with 5 fold stratified cross-validation with the objective to obtain robust results. The focus was to optimize the average *Accuracy*, that is, the number of correct predictions divided by the total number of input samples.\n",
    "\n",
    "Through this methodology, several standardization techniques and combinations of variables were tested to reach the best possible results. Moreover, several classifiers were tested in combination with these representations, namely, K-Nearest Neighbors, K-Nearest Centroid, Decision Trees, Random Forest, Passive Agressive, Logistic Regression, Naive Bayes, Multi-Layer Perceptron, Neural Networks, Support Vector Machine and a wide variety of ensemble techniques."
   ]
  },
  {
   "cell_type": "markdown",
   "metadata": {},
   "source": [
    "<hr>\n",
    "<a class=\"anchor\" id=\"knn\">\n",
    "\n",
    "### 4.1.1. K Nearest Neighbors\n",
    "    \n",
    "</a>"
   ]
  },
  {
   "cell_type": "code",
   "execution_count": 38,
   "metadata": {},
   "outputs": [],
   "source": [
    "k = 5\n",
    "cv = StratifiedKFold(n_splits=k, shuffle=True, random_state=15)"
   ]
  },
  {
   "cell_type": "code",
   "execution_count": 39,
   "metadata": {},
   "outputs": [],
   "source": [
    "# knn_clf = KNeighborsClassifier()\n",
    "\n",
    "# knn_parameters = {'n_neighbors' : np.arange(1,31,1),\n",
    "#                   'metric' : ['euclidean', 'cosine', 'manhattan', 'minkowski'],\n",
    "#                   'weights' : ['uniform', 'distance'],\n",
    "#                   'algorithm': ['auto', 'ball_tree', 'kd_tree', 'brute']}\n",
    "\n",
    "# knn_grid = GridSearchCV(estimator=knn_clf, param_grid=knn_parameters, cv=cv, scoring='accuracy', verbose=1, n_jobs=-1)\n",
    "\n",
    "# knn_grid.fit(scaler_X_train, y_train)\n",
    "\n",
    "# knn_grid.best_params_"
   ]
  },
  {
   "cell_type": "code",
   "execution_count": 40,
   "metadata": {},
   "outputs": [
    {
     "data": {
      "text/plain": [
       "KNeighborsClassifier(algorithm='brute', leaf_size=30, metric='euclidean',\n",
       "                     metric_params=None, n_jobs=None, n_neighbors=10, p=2,\n",
       "                     weights='uniform')"
      ]
     },
     "execution_count": 40,
     "metadata": {},
     "output_type": "execute_result"
    }
   ],
   "source": [
    "knn = KNeighborsClassifier(algorithm='brute', metric='euclidean', n_neighbors=10, weights='uniform')\n",
    "knn.fit(scaler_X_train, y_train)"
   ]
  },
  {
   "cell_type": "code",
   "execution_count": 41,
   "metadata": {},
   "outputs": [
    {
     "data": {
      "text/plain": [
       "0.8293460925039873"
      ]
     },
     "execution_count": 41,
     "metadata": {},
     "output_type": "execute_result"
    }
   ],
   "source": [
    "labels_train_knn = knn.predict(scaler_X_train)\n",
    "accuracy_score(y_train, labels_train_knn)"
   ]
  },
  {
   "cell_type": "code",
   "execution_count": 42,
   "metadata": {},
   "outputs": [
    {
     "data": {
      "text/plain": [
       "0.7814814814814814"
      ]
     },
     "execution_count": 42,
     "metadata": {},
     "output_type": "execute_result"
    }
   ],
   "source": [
    "labels_val_knn = knn.predict(scaler_X_val)\n",
    "accuracy_score(y_val, labels_val_knn)"
   ]
  },
  {
   "cell_type": "markdown",
   "metadata": {},
   "source": [
    "<hr>\n",
    "<a class=\"anchor\" id=\"knc\">\n",
    "\n",
    "### 4.1.2. K Nearest Centroid\n",
    "    \n",
    "</a>"
   ]
  },
  {
   "cell_type": "code",
   "execution_count": 43,
   "metadata": {},
   "outputs": [],
   "source": [
    "# knc_clf = NearestCentroid()\n",
    "\n",
    "# knc_parameters = {'metric' : ['euclidean', 'cosine', 'manhattan']}\n",
    "\n",
    "# knc_grid = GridSearchCV(estimator=knc_clf, param_grid=knc_parameters, cv=cv, scoring='accuracy', verbose=1, n_jobs=-1)\n",
    "\n",
    "# knc_grid.fit(scaler_X_train, y_train)\n",
    "\n",
    "# knc_grid.best_params_"
   ]
  },
  {
   "cell_type": "code",
   "execution_count": 44,
   "metadata": {},
   "outputs": [
    {
     "data": {
      "text/plain": [
       "NearestCentroid(metric='manhattan', shrink_threshold=None)"
      ]
     },
     "execution_count": 44,
     "metadata": {},
     "output_type": "execute_result"
    }
   ],
   "source": [
    "knc = NearestCentroid(metric='manhattan')\n",
    "knc.fit(scaler_X_train, y_train)"
   ]
  },
  {
   "cell_type": "code",
   "execution_count": 45,
   "metadata": {},
   "outputs": [
    {
     "data": {
      "text/plain": [
       "0.8022328548644339"
      ]
     },
     "execution_count": 45,
     "metadata": {},
     "output_type": "execute_result"
    }
   ],
   "source": [
    "labels_train_nc = knc.predict(scaler_X_train)\n",
    "accuracy_score(y_train, labels_train_nc)"
   ]
  },
  {
   "cell_type": "code",
   "execution_count": 46,
   "metadata": {},
   "outputs": [
    {
     "data": {
      "text/plain": [
       "0.7518518518518519"
      ]
     },
     "execution_count": 46,
     "metadata": {},
     "output_type": "execute_result"
    }
   ],
   "source": [
    "labels_val_nc = knc.predict(scaler_X_val)\n",
    "accuracy_score(y_val, labels_val_nc)"
   ]
  },
  {
   "cell_type": "markdown",
   "metadata": {},
   "source": [
    "<hr>\n",
    "<a class=\"anchor\" id=\"rfc\">\n",
    "\n",
    "### 4.1.3. Random Forest\n",
    "    \n",
    "</a>"
   ]
  },
  {
   "cell_type": "code",
   "execution_count": 47,
   "metadata": {},
   "outputs": [],
   "source": [
    "# rf_clf = RandomForestClassifier(class_weight='balanced', random_state=15)\n",
    "\n",
    "# rf_parameters = {\"n_estimators\": np.arange(100, 400, 100),\n",
    "#                  \"max_features\": ['sqrt', 'log2', 'auto', None],\n",
    "#                  \"criterion\": ['gini', 'entropy'],\n",
    "#                  \"warm_start\" : [True, False]}\n",
    "\n",
    "# rf_grid = GridSearchCV(estimator=rf_clf, param_grid=rf_parameters, cv=cv, scoring='accuracy', verbose=1, n_jobs=-1)\n",
    "\n",
    "# rf_grid.fit(X_train, y_train)\n",
    "# rf_grid.best_params_"
   ]
  },
  {
   "cell_type": "code",
   "execution_count": 48,
   "metadata": {},
   "outputs": [],
   "source": [
    "rf = RandomForestClassifier(ccp_alpha=0.004, class_weight={0: 1.1800000000000002, 1: 1.0300000000000002},\n",
    "                       criterion='gini', n_estimators=45, random_state=15,\n",
    "                       warm_start=True).fit(scaler_X_train, y_train)"
   ]
  },
  {
   "cell_type": "code",
   "execution_count": 49,
   "metadata": {},
   "outputs": [
    {
     "data": {
      "text/plain": [
       "0.8564593301435407"
      ]
     },
     "execution_count": 49,
     "metadata": {},
     "output_type": "execute_result"
    }
   ],
   "source": [
    "labels_train_rf = rf.predict(scaler_X_train)\n",
    "accuracy_score(y_train, labels_train_rf)"
   ]
  },
  {
   "cell_type": "code",
   "execution_count": 50,
   "metadata": {},
   "outputs": [
    {
     "data": {
      "text/plain": [
       "0.8111111111111111"
      ]
     },
     "execution_count": 50,
     "metadata": {},
     "output_type": "execute_result"
    }
   ],
   "source": [
    "labels_val_rf = rf.predict(scaler_X_val)\n",
    "accuracy_score(y_val, labels_val_rf)"
   ]
  },
  {
   "cell_type": "markdown",
   "metadata": {},
   "source": [
    "<hr>\n",
    "<a class=\"anchor\" id=\"dt\">\n",
    "\n",
    "### 4.1.4. Decision Tree\n",
    "    \n",
    "</a>"
   ]
  },
  {
   "cell_type": "code",
   "execution_count": 51,
   "metadata": {},
   "outputs": [],
   "source": [
    "def calculate_AUC(interval, x_train, x_test, y_train, y_test, parameter, max_depth = None):\n",
    "    train_results = []\n",
    "    test_results = []\n",
    "    for value in interval:\n",
    "        if (parameter == 'depth'):          \n",
    "            dt = DecisionTreeClassifier(max_depth = value, random_state=15)\n",
    "            dt.fit(x_train, y_train)\n",
    "        elif (parameter == 'features'):  \n",
    "            dt = DecisionTreeClassifier(max_features = value, max_depth = max_depth, random_state=15)\n",
    "            dt.fit(x_train, y_train)\n",
    "        train_pred = dt.predict(x_train)\n",
    "        roc_auc_valuetrain = roc_auc_score(y_train, train_pred, average = None, multi_class='ovr')\n",
    "        # Add auc score to previous train results\n",
    "        train_results.append(roc_auc_valuetrain)\n",
    "        \n",
    "        y_pred = dt.predict(x_test)\n",
    "        roc_auc_valuetest = roc_auc_score(y_test, y_pred, average='weighted', multi_class='ovr')\n",
    "        # Add auc score to previous test results\n",
    "        test_results.append(roc_auc_valuetest)\n",
    "    value_train = train_results.index(max(train_results))\n",
    "    value_test = test_results.index(max(test_results))\n",
    "    print('The best train value is ',interval[value_train])\n",
    "    print('The best validation value is ',interval[value_test])\n",
    "    \n",
    "    \n",
    "    line1, = plt.plot(interval, train_results, 'b', label=\"Train AUC\")\n",
    "    line2, = plt.plot(interval, test_results, 'r', label=\"Val AUC\")\n",
    "    plt.legend(handler_map={line1: HandlerLine2D(numpoints=2)})\n",
    "    plt.ylabel(\"ROC AUC score\")\n",
    "    plt.xlabel(str(parameter))\n",
    "    plt.show()"
   ]
  },
  {
   "cell_type": "code",
   "execution_count": 52,
   "metadata": {
    "scrolled": true
   },
   "outputs": [
    {
     "name": "stdout",
     "output_type": "stream",
     "text": [
      "The best train value is  15.0\n",
      "The best validation value is  3.0\n"
     ]
    },
    {
     "data": {
      "image/png": "[encoded data removed]",
      "text/plain": [
       "<Figure size 864x864 with 1 Axes>"
      ]
     },
     "metadata": {
      "needs_background": "light"
     },
     "output_type": "display_data"
    }
   ],
   "source": [
    "max_depths = np.linspace(1, 15, 15, endpoint=True)  \n",
    "calculate_AUC(max_depths, scaler_X_train, scaler_X_val, y_train, y_val, 'depth')"
   ]
  },
  {
   "cell_type": "code",
   "execution_count": 53,
   "metadata": {},
   "outputs": [
    {
     "name": "stdout",
     "output_type": "stream",
     "text": [
      "The best train value is  5\n",
      "The best validation value is  5\n"
     ]
    },
    {
     "data": {
      "image/png": "[encoded data removed]",
      "text/plain": [
       "<Figure size 864x864 with 1 Axes>"
      ]
     },
     "metadata": {
      "needs_background": "light"
     },
     "output_type": "display_data"
    }
   ],
   "source": [
    "max_features = list(range(1,len(X_train.columns)+1))\n",
    "calculate_AUC(max_features, X_train, X_val, y_train, y_val,'features', 3)"
   ]
  },
  {
   "cell_type": "code",
   "execution_count": 54,
   "metadata": {},
   "outputs": [
    {
     "data": {
      "text/plain": [
       "Text(0.5, 1.0, 'Total Impurity vs effective alpha for training set')"
      ]
     },
     "execution_count": 54,
     "metadata": {},
     "output_type": "execute_result"
    },
    {
     "data": {
      "image/png": "[encoded data removed]",
      "text/plain": [
       "<Figure size 720x720 with 1 Axes>"
      ]
     },
     "metadata": {
      "needs_background": "light"
     },
     "output_type": "display_data"
    }
   ],
   "source": [
    "dt_alpha = DecisionTreeClassifier(random_state=0,  class_weight = {0: 1.3, 1: 0.7})\n",
    "path = dt_alpha.cost_complexity_pruning_path(X_train, y_train)\n",
    "ccp_alphas, impurities = path.ccp_alphas, path.impurities\n",
    "\n",
    "fig, ax = plt.subplots(figsize = (10,10))\n",
    "ax.plot(ccp_alphas[:-1], impurities[:-1], marker='o', drawstyle=\"steps-post\")\n",
    "ax.set_xlabel(\"effective alpha\", fontsize=15)\n",
    "ax.set_ylabel(\"total impurity of leaves\", fontsize=15)\n",
    "ax.set_title(\"Total Impurity vs effective alpha for training set\", fontsize=15)"
   ]
  },
  {
   "cell_type": "code",
   "execution_count": 55,
   "metadata": {},
   "outputs": [
    {
     "data": {
      "image/png": "[encoded data removed]",
      "text/plain": [
       "<Figure size 1440x1080 with 2 Axes>"
      ]
     },
     "metadata": {
      "needs_background": "light"
     },
     "output_type": "display_data"
    }
   ],
   "source": [
    "trees = []\n",
    "for ccp_alpha in ccp_alphas:\n",
    "    dt_alpha = DecisionTreeClassifier(random_state=0, ccp_alpha=ccp_alpha).fit(X_train, y_train)\n",
    "    trees.append(dt_alpha)\n",
    "\n",
    "trees = trees[:-1]\n",
    "ccp_alphas = ccp_alphas[:-1]\n",
    "\n",
    "node_counts = [tree.tree_.node_count for tree in trees]\n",
    "depth = [tree.get_depth() for tree in trees]\n",
    "\n",
    "fig, ax = plt.subplots(2, 1, figsize=(20, 15))\n",
    "ax[0].plot(ccp_alphas, node_counts, marker='o', drawstyle=\"steps-post\")\n",
    "ax[0].set_xlabel(\"alpha\", fontsize=15)\n",
    "ax[0].set_ylabel(\"number of nodes\", fontsize=15)\n",
    "ax[0].set_title(\"Number of nodes vs alpha\", fontsize=15)\n",
    "ax[1].plot(ccp_alphas, depth, marker='o', drawstyle=\"steps-post\")\n",
    "ax[1].set_xlabel(\"alpha\", fontsize=15)\n",
    "ax[1].set_ylabel(\"depth of tree\", fontsize=15)\n",
    "ax[1].set_title(\"Depth vs alpha\", fontsize=15)\n",
    "fig.tight_layout()"
   ]
  },
  {
   "cell_type": "code",
   "execution_count": 56,
   "metadata": {},
   "outputs": [
    {
     "data": {
      "image/png": "[encoded data removed]",
      "text/plain": [
       "<Figure size 720x720 with 1 Axes>"
      ]
     },
     "metadata": {
      "needs_background": "light"
     },
     "output_type": "display_data"
    }
   ],
   "source": [
    "train_scores = [tree.score(X_train, y_train) for tree in trees]\n",
    "val_scores = [tree.score(X_val, y_val) for tree in trees]\n",
    "\n",
    "fig, ax = plt.subplots(figsize = (10,10))\n",
    "ax.set_xlabel(\"alpha\", fontsize=15)\n",
    "ax.set_ylabel(\"accuracy\", fontsize=15)\n",
    "ax.set_title(\"Accuracy vs alpha for training and testing sets\")\n",
    "ax.plot(ccp_alphas, train_scores, marker='o', label=\"train\", drawstyle=\"steps-post\")\n",
    "ax.plot(ccp_alphas, val_scores, marker='o', label=\"test\", drawstyle=\"steps-post\")\n",
    "ax.legend()\n",
    "plt.show()"
   ]
  },
  {
   "cell_type": "code",
   "execution_count": 57,
   "metadata": {},
   "outputs": [
    {
     "name": "stdout",
     "output_type": "stream",
     "text": [
      "ccp_alpha of best model:  DecisionTreeClassifier(ccp_alpha=0.010404808266030385, class_weight=None,\n",
      "                       criterion='gini', max_depth=None, max_features=None,\n",
      "                       max_leaf_nodes=None, min_impurity_decrease=0.0,\n",
      "                       min_impurity_split=None, min_samples_leaf=1,\n",
      "                       min_samples_split=2, min_weight_fraction_leaf=0.0,\n",
      "                       presort='deprecated', random_state=0, splitter='best')\n",
      "_____________________\n",
      "Training accuracy of best model:  0.8437001594896332\n",
      "Test accuracy of best model:  0.8074074074074075\n"
     ]
    }
   ],
   "source": [
    "index_best_model = np.argmax(val_scores)\n",
    "best_model = trees[index_best_model]\n",
    "print('ccp_alpha of best model: ',trees[index_best_model])\n",
    "print('_____________________')\n",
    "print('Training accuracy of best model: ',best_model.score(X_train, y_train))\n",
    "print('Test accuracy of best model: ',best_model.score(X_val, y_val))"
   ]
  },
  {
   "cell_type": "code",
   "execution_count": 58,
   "metadata": {},
   "outputs": [],
   "source": [
    "dt = DecisionTreeClassifier(ccp_alpha=0.010404808266030385).fit(scaler_X_train, y_train)"
   ]
  },
  {
   "cell_type": "code",
   "execution_count": 59,
   "metadata": {},
   "outputs": [
    {
     "data": {
      "text/plain": [
       "0.8437001594896332"
      ]
     },
     "execution_count": 59,
     "metadata": {},
     "output_type": "execute_result"
    }
   ],
   "source": [
    "labels_train_dt = dt.predict(scaler_X_train)\n",
    "accuracy_score(y_train, labels_train_dt)"
   ]
  },
  {
   "cell_type": "code",
   "execution_count": 60,
   "metadata": {},
   "outputs": [
    {
     "data": {
      "text/plain": [
       "0.8074074074074075"
      ]
     },
     "execution_count": 60,
     "metadata": {},
     "output_type": "execute_result"
    }
   ],
   "source": [
    "labels_val_dt = dt.predict(scaler_X_val)\n",
    "accuracy_score(y_val, labels_val_dt)"
   ]
  },
  {
   "cell_type": "markdown",
   "metadata": {},
   "source": [
    "<hr>\n",
    "<a class=\"anchor\" id=\"pa\">\n",
    "\n",
    "### 4.1.5. Passive Aggressive\n",
    "    \n",
    "</a>"
   ]
  },
  {
   "cell_type": "code",
   "execution_count": 61,
   "metadata": {},
   "outputs": [],
   "source": [
    "# pa_clf = PassiveAggressiveClassifier(random_state=15)\n",
    "\n",
    "# pa_parameters = {\"warm_start\" : [True, False],\n",
    "#                  \"early_stopping\" : [True, False],\n",
    "#                  \"max_iter\" : (100, 500, 1000),\n",
    "#                  \"class_weight\" : ['balanced', None]}\n",
    "\n",
    "# pa_grid = GridSearchCV(estimator=pa_clf, param_grid=pa_parameters, cv=cv, scoring='accuracy', verbose=1, n_jobs=-1)\n",
    "\n",
    "# pa_grid.fit(scaler_X_train, y_train)\n",
    "# pa_grid.best_params_"
   ]
  },
  {
   "cell_type": "code",
   "execution_count": 62,
   "metadata": {},
   "outputs": [
    {
     "data": {
      "text/plain": [
       "PassiveAggressiveClassifier(C=1.0, average=False, class_weight=None,\n",
       "                            early_stopping=False, fit_intercept=True,\n",
       "                            loss='hinge', max_iter=100, n_iter_no_change=5,\n",
       "                            n_jobs=None, random_state=15, shuffle=True,\n",
       "                            tol=0.001, validation_fraction=0.1, verbose=0,\n",
       "                            warm_start=True)"
      ]
     },
     "execution_count": 62,
     "metadata": {},
     "output_type": "execute_result"
    }
   ],
   "source": [
    "pa = PassiveAggressiveClassifier(class_weight=None, early_stopping=False, max_iter=100, warm_start=True,\n",
    "                                 random_state=15)\n",
    "pa.fit(scaler_X_train, y_train)"
   ]
  },
  {
   "cell_type": "code",
   "execution_count": 63,
   "metadata": {},
   "outputs": [
    {
     "data": {
      "text/plain": [
       "0.5550239234449761"
      ]
     },
     "execution_count": 63,
     "metadata": {},
     "output_type": "execute_result"
    }
   ],
   "source": [
    "labels_train_pa = pa.predict(scaler_X_train)\n",
    "accuracy_score(y_train, labels_train_pa)"
   ]
  },
  {
   "cell_type": "code",
   "execution_count": 64,
   "metadata": {},
   "outputs": [
    {
     "data": {
      "text/plain": [
       "0.5111111111111111"
      ]
     },
     "execution_count": 64,
     "metadata": {},
     "output_type": "execute_result"
    }
   ],
   "source": [
    "labels_val_pa = pa.predict(scaler_X_val)\n",
    "accuracy_score(y_val, labels_val_pa)"
   ]
  },
  {
   "cell_type": "markdown",
   "metadata": {},
   "source": [
    "<hr>\n",
    "<a class=\"anchor\" id=\"logreg\">\n",
    "\n",
    "### 4.1.6. Logistic Regression\n",
    "    \n",
    "</a>"
   ]
  },
  {
   "cell_type": "code",
   "execution_count": 65,
   "metadata": {},
   "outputs": [],
   "source": [
    "# log_clf = LogisticRegression()\n",
    "\n",
    "# log_parameters = {'solver': ['newton-cg', 'sag', 'saga', 'lbfgs'],\n",
    "#                   'warm_start' : [True, False],\n",
    "#                   'max_iter' : (100, 200, 300)}\n",
    "\n",
    "# log_grid = GridSearchCV(estimator=log_clf, param_grid=log_parameters, cv=cv, scoring='accuracy', verbose=1, n_jobs=-1)\n",
    "# log_grid.fit(scaler_X_train, y_train)\n",
    "# log_grid.best_params_"
   ]
  },
  {
   "cell_type": "code",
   "execution_count": 66,
   "metadata": {},
   "outputs": [],
   "source": [
    "log = LogisticRegression(class_weight={0: 0.8, 1: 1.1999999999999997},\n",
    "                         max_iter=700, penalty='l1', random_state=15, \n",
    "                         solver='liblinear', tol=1e-05, verbose=0, warm_start=True).fit(scaler_X_train, y_train) "
   ]
  },
  {
   "cell_type": "code",
   "execution_count": 67,
   "metadata": {},
   "outputs": [
    {
     "data": {
      "text/plain": [
       "0.8181818181818182"
      ]
     },
     "execution_count": 67,
     "metadata": {},
     "output_type": "execute_result"
    }
   ],
   "source": [
    "labels_train_log = log.predict(scaler_X_train)\n",
    "accuracy_score(y_train, labels_train_log)"
   ]
  },
  {
   "cell_type": "code",
   "execution_count": 68,
   "metadata": {},
   "outputs": [
    {
     "data": {
      "text/plain": [
       "0.7925925925925926"
      ]
     },
     "execution_count": 68,
     "metadata": {},
     "output_type": "execute_result"
    }
   ],
   "source": [
    "labels_val_log = log.predict(scaler_X_val)\n",
    "accuracy_score(y_val, labels_val_log)"
   ]
  },
  {
   "cell_type": "markdown",
   "metadata": {},
   "source": [
    "<hr>\n",
    "<a class=\"anchor\" id=\"mlp\">\n",
    "\n",
    "### 4.1.7. Multi-Layer Perceptron\n",
    "    \n",
    "</a>"
   ]
  },
  {
   "cell_type": "code",
   "execution_count": 69,
   "metadata": {},
   "outputs": [],
   "source": [
    "def combination_layers(min_neurons,max_neurons,n_layers): \n",
    "    l = []\n",
    "    for i in range(min_neurons,max_neurons):\n",
    "        l.append(i)\n",
    "    layersize = list(combinations_with_replacement(l,n_layers))\n",
    "    return layersize"
   ]
  },
  {
   "cell_type": "code",
   "execution_count": 70,
   "metadata": {},
   "outputs": [],
   "source": [
    "# mlp = MLPClassifier(random_state=15)\n",
    "\n",
    "# mlp_parameters = {\n",
    "#     'hidden_layer_sizes': combination_layers(10,50,3),\n",
    "#     'activation': ['identity','logistic','tanh', 'relu'],\n",
    "#     'tol' : list(np.linspace(0.00001,0.001,3)),\n",
    "#     'learning_rate': ['constant','adaptive'],\n",
    "#     'solver' : ['lbfgs', 'sgd', 'adam'],\n",
    "#     'beta_1': list(np.linspace(0.001,0.1,20)),\n",
    "#     'beta_2': list(np.linspace(0.001,0.1,20)),\n",
    "#     'alpha': list(np.linspace(0.001,0.1,20)),\n",
    "#     'learning_rate_init': list(np.linspace(0.1,1,20))\n",
    "# }\n",
    "\n",
    "# mlp_grid = GridSearchCV(estimator=mlp, param_grid=mlp_parameters, cv=cv, scoring='accuracy', verbose=1, n_jobs=-1)\n",
    "# mlp_grid.fit(scaler_X_train, y_train)\n",
    "# mlp_grid.best_params_"
   ]
  },
  {
   "cell_type": "code",
   "execution_count": 71,
   "metadata": {},
   "outputs": [],
   "source": [
    "mlp = MLPClassifier(random_state=15,\n",
    "                    hidden_layer_sizes = (14,18,18),\n",
    "                    max_iter=700,\n",
    "                    activation='relu',\n",
    "                    solver='adam',\n",
    "                    tol = 0.000505, \n",
    "                    learning_rate='constant',\n",
    "                    early_stopping = False,\n",
    "                    warm_start = True).fit(scaler_X_train,y_train)"
   ]
  },
  {
   "cell_type": "code",
   "execution_count": 72,
   "metadata": {},
   "outputs": [
    {
     "data": {
      "text/plain": [
       "0.84688995215311"
      ]
     },
     "execution_count": 72,
     "metadata": {},
     "output_type": "execute_result"
    }
   ],
   "source": [
    "labels_train_mlp = mlp.predict(scaler_X_train)\n",
    "accuracy_score(y_train, labels_train_mlp)"
   ]
  },
  {
   "cell_type": "code",
   "execution_count": 73,
   "metadata": {},
   "outputs": [
    {
     "data": {
      "text/plain": [
       "0.8074074074074075"
      ]
     },
     "execution_count": 73,
     "metadata": {},
     "output_type": "execute_result"
    }
   ],
   "source": [
    "labels_val_mlp = mlp.predict(scaler_X_val)\n",
    "accuracy_score(y_val, labels_val_mlp)"
   ]
  },
  {
   "cell_type": "markdown",
   "metadata": {},
   "source": [
    "<hr>\n",
    "<a class=\"anchor\" id=\"naive\">\n",
    "\n",
    "### 4.1.8. Naive Bayes\n",
    "    \n",
    "</a>"
   ]
  },
  {
   "cell_type": "code",
   "execution_count": 74,
   "metadata": {},
   "outputs": [],
   "source": [
    "nb = GaussianNB().fit(scaler_X_train, y_train)"
   ]
  },
  {
   "cell_type": "code",
   "execution_count": 75,
   "metadata": {},
   "outputs": [
    {
     "data": {
      "text/plain": [
       "0.8022328548644339"
      ]
     },
     "execution_count": 75,
     "metadata": {},
     "output_type": "execute_result"
    }
   ],
   "source": [
    "labels_train_nb = nb.predict(scaler_X_train)\n",
    "accuracy_score(y_train, labels_train_nb)"
   ]
  },
  {
   "cell_type": "code",
   "execution_count": 76,
   "metadata": {},
   "outputs": [
    {
     "data": {
      "text/plain": [
       "0.7703703703703704"
      ]
     },
     "execution_count": 76,
     "metadata": {},
     "output_type": "execute_result"
    }
   ],
   "source": [
    "labels_val_nb = nb.predict(scaler_X_val)\n",
    "accuracy_score(y_val, labels_val_nb)"
   ]
  },
  {
   "cell_type": "markdown",
   "metadata": {},
   "source": [
    "<hr>\n",
    "<a class=\"anchor\" id=\"svm\">\n",
    "\n",
    "### 4.1.9. Support Vector Machine (SVM)\n",
    "    \n",
    "</a>"
   ]
  },
  {
   "cell_type": "code",
   "execution_count": 77,
   "metadata": {},
   "outputs": [],
   "source": [
    "# svm_weights = ['balanced']\n",
    "# for i in  np.arange(0.6,1.1,0.1):\n",
    "#     for j in  np.arange(0.9,1.1,0.1):\n",
    "#         svm_weights.append({0:i,1:j})"
   ]
  },
  {
   "cell_type": "code",
   "execution_count": 78,
   "metadata": {},
   "outputs": [],
   "source": [
    "# svm_clf = SVC(random_state=15, decision_function_shape = 'ovr')\n",
    "\n",
    "# svm_parameters = {\n",
    "#     'kernel' : ['poly'],\n",
    "#     'tol' : list(np.linspace(0.000001,0.00005,10)),\n",
    "#     'degree': [2, 3, 4],\n",
    "#     'gamma' : ['scale', 'auto'],\n",
    "#     'class_weight' : svm_weights,\n",
    "#     'C' : np.arange(11, 30, 2)\n",
    "# }\n",
    "\n",
    "\n",
    "# svm_grid = GridSearchCV(estimator= svm_clf, param_grid=svm_parameters, cv = cv, scoring='accuracy', verbose=1, n_jobs=-1)\n",
    "# svm_grid.fit(scaler_X_train, y_train)\n",
    "# print(\"Best Score: \", svm_grid.best_score_)\n",
    "# print(\"Best MLP: \", svm_grid.best_estimator_)"
   ]
  },
  {
   "cell_type": "code",
   "execution_count": 79,
   "metadata": {},
   "outputs": [],
   "source": [
    "svm = SVC(C=11, break_ties=False, cache_size=200, class_weight=None, coef0=0.0,\n",
    "          decision_function_shape='ovr', degree=2, gamma='scale', kernel='poly',\n",
    "          max_iter=-1, probability=False, random_state=15, shrinking=True, tol=1e-06,\n",
    "          verbose=False).fit(scaler_X_train, y_train)"
   ]
  },
  {
   "cell_type": "code",
   "execution_count": 80,
   "metadata": {},
   "outputs": [
    {
     "data": {
      "text/plain": [
       "0.8389154704944178"
      ]
     },
     "execution_count": 80,
     "metadata": {},
     "output_type": "execute_result"
    }
   ],
   "source": [
    "labels_train_svm = svm.predict(scaler_X_train)\n",
    "accuracy_score(y_train, labels_train_svm)"
   ]
  },
  {
   "cell_type": "code",
   "execution_count": 81,
   "metadata": {},
   "outputs": [
    {
     "data": {
      "text/plain": [
       "0.8074074074074075"
      ]
     },
     "execution_count": 81,
     "metadata": {},
     "output_type": "execute_result"
    }
   ],
   "source": [
    "labels_val_svm = svm.predict(scaler_X_val)\n",
    "accuracy_score(y_val, labels_val_svm)"
   ]
  },
  {
   "cell_type": "markdown",
   "metadata": {},
   "source": [
    "<hr>\n",
    "<a class=\"anchor\" id=\"ensemble\">\n",
    "\n",
    "## 4.1.10. Ensemble \n",
    "    \n",
    "</a>"
   ]
  },
  {
   "cell_type": "markdown",
   "metadata": {},
   "source": [
    "In order to enhance the performance of the model, ensemble was implemented. The main goal is to provide the ability to combine conceptually different machine learning classifiers into one single classifier, boosting their individual performance and tackling their individual weaknesses. \n",
    "\n",
    "There are three different approaches to reach this goal, namely, bagging, boosting and stacking. Bagging tries to create new diverse models by changing or duplicating the observations and/or features used. On the other hand, boosting uses weak learners, that performs just slightly better than random guessing and tries to “boost” its performance into a strong learning algorithm in a set of iterative trainings. Lastly, while bagging and boosting uses homogeneous weak learners, stacking uses heterogeneous weak learners and applies a meta-learner algorithm instead of voting to combine the predictions of base learners."
   ]
  },
  {
   "cell_type": "markdown",
   "metadata": {},
   "source": [
    "<hr>\n",
    "<a class=\"anchor\" id=\"bbc\">\n",
    "\n",
    "### 4.1.10.1. Balanced Bagging Classifier\n",
    "    \n",
    "</a>"
   ]
  },
  {
   "cell_type": "code",
   "execution_count": 82,
   "metadata": {},
   "outputs": [],
   "source": [
    "# bbc_clf = BalancedBaggingClassifier()\n",
    "\n",
    "# bbc_parameters = {'base_estimator' : [None, knn, knc, rf, dt, pa, log, mlp, nb, svm],\n",
    "#                   'n_estimators' : np.arange(10,60,10),\n",
    "#                   'bootstrap' : [True, False],\n",
    "#                   'bootstrap_features' : [True, False],\n",
    "#                   'warm_start' : [True, False],\n",
    "#                   'sampling_strategy' : ['not majority', 'not minority', 'all', 'majority', 'minority'],\n",
    "#                   'replacement' : [True, False]}\n",
    "\n",
    "# bbc_grid = GridSearchCV(estimator=bbc_clf, param_grid=bbc_parameters, cv=cv, scoring='accuracy', verbose=1, n_jobs=-1)\n",
    "# bbc_grid.fit(scaler_X_train, y_train)\n",
    "# bbc_grid.best_params_"
   ]
  },
  {
   "cell_type": "code",
   "execution_count": 83,
   "metadata": {},
   "outputs": [],
   "source": [
    "bb = BalancedBaggingClassifier(base_estimator=dt, n_estimators=10, bootstrap=True, bootstrap_features=True,\n",
    "                               sampling_strategy='majority', replacement=True, \n",
    "                               warm_start=True, random_state=15).fit(scaler_X_train, y_train)"
   ]
  },
  {
   "cell_type": "code",
   "execution_count": 84,
   "metadata": {},
   "outputs": [
    {
     "data": {
      "text/plain": [
       "0.8277511961722488"
      ]
     },
     "execution_count": 84,
     "metadata": {},
     "output_type": "execute_result"
    }
   ],
   "source": [
    "labels_train_bb = bb.predict(scaler_X_train)\n",
    "accuracy_score(y_train, labels_train_bb)"
   ]
  },
  {
   "cell_type": "code",
   "execution_count": 85,
   "metadata": {},
   "outputs": [
    {
     "data": {
      "text/plain": [
       "0.7888888888888889"
      ]
     },
     "execution_count": 85,
     "metadata": {},
     "output_type": "execute_result"
    }
   ],
   "source": [
    "labels_val_bb = bb.predict(scaler_X_val)\n",
    "accuracy_score(y_val, labels_val_bb)"
   ]
  },
  {
   "cell_type": "markdown",
   "metadata": {},
   "source": [
    "<hr>\n",
    "<a class=\"anchor\" id=\"gbc\">\n",
    "\n",
    "### 4.1.10.2. Gradient Boosting Classifier\n",
    "    \n",
    "</a>"
   ]
  },
  {
   "cell_type": "code",
   "execution_count": 86,
   "metadata": {},
   "outputs": [],
   "source": [
    "# GB_clf = GradientBoostingClassifier()\n",
    "\n",
    "# GB_parameters = {'loss' : ['deviance', 'exponential'],\n",
    "#                  'learning_rate' : (0.01, 0.1, 1),\n",
    "#                  'n_estimators' : np.arange(100, 400, 100),\n",
    "#                  'max_depth' : (5, 10, 15, 20, 30),\n",
    "#                  'max_features' : ['auto', 'log2', None],\n",
    "#                  'warm_start' : [True, False]}\n",
    "\n",
    "# GB_grid = GridSearchCV(estimator=GB_clf, param_grid=GB_parameters, cv=cv, scoring='accuracy', verbose=1, n_jobs=-1)\n",
    "# GB_grid.fit(scaler_X_train , y_train)\n",
    "# GB_grid.best_params_"
   ]
  },
  {
   "cell_type": "code",
   "execution_count": 88,
   "metadata": {},
   "outputs": [
    {
     "data": {
      "text/plain": [
       "GradientBoostingClassifier(ccp_alpha=0.0, criterion='friedman_mse', init=None,\n",
       "                           learning_rate=0.01, loss='deviance', max_depth=4,\n",
       "                           max_features='log2', max_leaf_nodes=None,\n",
       "                           min_impurity_decrease=0.0, min_impurity_split=None,\n",
       "                           min_samples_leaf=1, min_samples_split=2,\n",
       "                           min_weight_fraction_leaf=0.0, n_estimators=300,\n",
       "                           n_iter_no_change=None, presort='deprecated',\n",
       "                           random_state=15, subsample=1.0, tol=0.0001,\n",
       "                           validation_fraction=0.1, verbose=0,\n",
       "                           warm_start=False)"
      ]
     },
     "execution_count": 88,
     "metadata": {},
     "output_type": "execute_result"
    }
   ],
   "source": [
    "gb = GradientBoostingClassifier(learning_rate=0.01, loss='deviance', max_depth=4, max_features='log2',\n",
    "                               n_estimators=300, random_state=15)\n",
    "gb.fit(scaler_X_train, y_train)"
   ]
  },
  {
   "cell_type": "code",
   "execution_count": 89,
   "metadata": {},
   "outputs": [
    {
     "data": {
      "text/plain": [
       "0.8644338118022329"
      ]
     },
     "execution_count": 89,
     "metadata": {},
     "output_type": "execute_result"
    }
   ],
   "source": [
    "labels_train_gb = gb.predict(scaler_X_train)\n",
    "accuracy_score(y_train, labels_train_gb)"
   ]
  },
  {
   "cell_type": "code",
   "execution_count": 90,
   "metadata": {},
   "outputs": [
    {
     "data": {
      "text/plain": [
       "0.7888888888888889"
      ]
     },
     "execution_count": 90,
     "metadata": {},
     "output_type": "execute_result"
    }
   ],
   "source": [
    "labels_val_gb = gb.predict(scaler_X_val)\n",
    "accuracy_score(y_val, labels_val_gb)"
   ]
  },
  {
   "cell_type": "markdown",
   "metadata": {},
   "source": [
    "<hr>\n",
    "<a class=\"anchor\" id=\"adaboost\">\n",
    "\n",
    "### 4.1.10.3. AdaBoost Classifier\n",
    "    \n",
    "</a>"
   ]
  },
  {
   "cell_type": "code",
   "execution_count": null,
   "metadata": {},
   "outputs": [],
   "source": [
    "# AdaBoost = AdaBoostClassifier()\n",
    "\n",
    "# AdaBoost_parameters = {'base_estimator' : [None, dt, rf, log, nb, svm],\n",
    "#                        'n_estimators' : np.arange(40, 105, 5),\n",
    "#                        'learning_rate' : (0.01, 0.1, 1, 10),\n",
    "#                        'algorithm' : ['SAMME', 'SAMME.R']}\n",
    "\n",
    "# AdaBoost_grid = GridSearchCV(estimator=AdaBoost, param_grid=AdaBoost_parameters, cv=cv, \n",
    "#                              scoring='accuracy', verbose=1, n_jobs=-1)\n",
    "\n",
    "# AdaBoost_grid.fit(scaler_X_train , y_train)\n",
    "# AdaBoost_grid.best_params_"
   ]
  },
  {
   "cell_type": "code",
   "execution_count": 91,
   "metadata": {},
   "outputs": [
    {
     "data": {
      "text/plain": [
       "AdaBoostClassifier(algorithm='SAMME',\n",
       "                   base_estimator=RandomForestClassifier(bootstrap=True,\n",
       "                                                         ccp_alpha=0.004,\n",
       "                                                         class_weight={0: 1.1800000000000002,\n",
       "                                                                       1: 1.0300000000000002},\n",
       "                                                         criterion='gini',\n",
       "                                                         max_depth=None,\n",
       "                                                         max_features='auto',\n",
       "                                                         max_leaf_nodes=None,\n",
       "                                                         max_samples=None,\n",
       "                                                         min_impurity_decrease=0.0,\n",
       "                                                         min_impurity_split=None,\n",
       "                                                         min_samples_leaf=1,\n",
       "                                                         min_samples_split=2,\n",
       "                                                         min_weight_fraction_leaf=0.0,\n",
       "                                                         n_estimators=45,\n",
       "                                                         n_jobs=None,\n",
       "                                                         oob_score=False,\n",
       "                                                         random_state=15,\n",
       "                                                         verbose=0,\n",
       "                                                         warm_start=True),\n",
       "                   learning_rate=0.01, n_estimators=95, random_state=15)"
      ]
     },
     "execution_count": 91,
     "metadata": {},
     "output_type": "execute_result"
    }
   ],
   "source": [
    "AdaBoost = AdaBoostClassifier(base_estimator=rf, n_estimators=95, learning_rate=0.01, \n",
    "                              algorithm='SAMME', random_state=15)\n",
    "AdaBoost.fit(scaler_X_train,y_train)"
   ]
  },
  {
   "cell_type": "code",
   "execution_count": 92,
   "metadata": {},
   "outputs": [
    {
     "data": {
      "text/plain": [
       "0.8899521531100478"
      ]
     },
     "execution_count": 92,
     "metadata": {},
     "output_type": "execute_result"
    }
   ],
   "source": [
    "labels_train_AdaBoost = AdaBoost.predict(scaler_X_train)\n",
    "accuracy_score(y_train, labels_train_AdaBoost)"
   ]
  },
  {
   "cell_type": "code",
   "execution_count": 93,
   "metadata": {},
   "outputs": [
    {
     "data": {
      "text/plain": [
       "0.7851851851851852"
      ]
     },
     "execution_count": 93,
     "metadata": {},
     "output_type": "execute_result"
    }
   ],
   "source": [
    "labels_val_AdaBoost = AdaBoost.predict(scaler_X_val)\n",
    "accuracy_score(y_val, labels_val_AdaBoost)"
   ]
  },
  {
   "cell_type": "markdown",
   "metadata": {},
   "source": [
    "<hr>\n",
    "<a class=\"anchor\" id=\"vc\">\n",
    "\n",
    "### 4.1.10.4. Voting Classifier\n",
    "    \n",
    "</a>"
   ]
  },
  {
   "cell_type": "code",
   "execution_count": 94,
   "metadata": {},
   "outputs": [
    {
     "data": {
      "text/plain": [
       "VotingClassifier(estimators=[('rf',\n",
       "                              RandomForestClassifier(bootstrap=True,\n",
       "                                                     ccp_alpha=0.004,\n",
       "                                                     class_weight={0: 1.1800000000000002,\n",
       "                                                                   1: 1.0300000000000002},\n",
       "                                                     criterion='gini',\n",
       "                                                     max_depth=None,\n",
       "                                                     max_features='auto',\n",
       "                                                     max_leaf_nodes=None,\n",
       "                                                     max_samples=None,\n",
       "                                                     min_impurity_decrease=0.0,\n",
       "                                                     min_impurity_split=None,\n",
       "                                                     min_samples_leaf=1,\n",
       "                                                     min_samples_split=2,\n",
       "                                                     min_weight_fraction_leaf=0...\n",
       "                                                                                       max_leaf_nodes=None,\n",
       "                                                                                       max_samples=None,\n",
       "                                                                                       min_impurity_decrease=0.0,\n",
       "                                                                                       min_impurity_split=None,\n",
       "                                                                                       min_samples_leaf=1,\n",
       "                                                                                       min_samples_split=2,\n",
       "                                                                                       min_weight_fraction_leaf=0.0,\n",
       "                                                                                       n_estimators=45,\n",
       "                                                                                       n_jobs=None,\n",
       "                                                                                       oob_score=False,\n",
       "                                                                                       random_state=15,\n",
       "                                                                                       verbose=0,\n",
       "                                                                                       warm_start=True),\n",
       "                                                 learning_rate=0.01,\n",
       "                                                 n_estimators=95,\n",
       "                                                 random_state=15))],\n",
       "                 flatten_transform=True, n_jobs=None, voting='hard',\n",
       "                 weights=None)"
      ]
     },
     "execution_count": 94,
     "metadata": {},
     "output_type": "execute_result"
    }
   ],
   "source": [
    "vc = VotingClassifier(estimators=[('rf', rf), ('log', log), ('dt', dt), ('mlp', mlp), ('AdaBoost', AdaBoost)])\n",
    "vc.fit(scaler_X_train, y_train)"
   ]
  },
  {
   "cell_type": "code",
   "execution_count": 95,
   "metadata": {},
   "outputs": [
    {
     "data": {
      "text/plain": [
       "0.8532695374800638"
      ]
     },
     "execution_count": 95,
     "metadata": {},
     "output_type": "execute_result"
    }
   ],
   "source": [
    "labels_train_vc = vc.predict(scaler_X_train)\n",
    "accuracy_score(y_train, labels_train_vc)"
   ]
  },
  {
   "cell_type": "code",
   "execution_count": 96,
   "metadata": {},
   "outputs": [
    {
     "data": {
      "text/plain": [
       "0.8037037037037037"
      ]
     },
     "execution_count": 96,
     "metadata": {},
     "output_type": "execute_result"
    }
   ],
   "source": [
    "labels_val_vc = vc.predict(scaler_X_val)\n",
    "accuracy_score(y_val, labels_val_vc)"
   ]
  },
  {
   "cell_type": "markdown",
   "metadata": {},
   "source": [
    "<hr>\n",
    "<a class=\"anchor\" id=\"stack\">\n",
    "\n",
    "### 4.1.10.5. Stacking Classifier\n",
    "    \n",
    "</a>"
   ]
  },
  {
   "cell_type": "code",
   "execution_count": 97,
   "metadata": {},
   "outputs": [],
   "source": [
    "sc = StackingClassifier(estimators=[('knn', knn), ('rf', rf), ('log', log), ('dt', dt), ('nb', nb)], \n",
    "                        final_estimator=vc).fit(scaler_X_train, y_train)"
   ]
  },
  {
   "cell_type": "code",
   "execution_count": 98,
   "metadata": {},
   "outputs": [
    {
     "data": {
      "text/plain": [
       "0.8548644338118022"
      ]
     },
     "execution_count": 98,
     "metadata": {},
     "output_type": "execute_result"
    }
   ],
   "source": [
    "labels_train_sc = sc.predict(scaler_X_train)\n",
    "accuracy_score(y_train, labels_train_sc)"
   ]
  },
  {
   "cell_type": "code",
   "execution_count": 99,
   "metadata": {},
   "outputs": [
    {
     "data": {
      "text/plain": [
       "0.8037037037037037"
      ]
     },
     "execution_count": 99,
     "metadata": {},
     "output_type": "execute_result"
    }
   ],
   "source": [
    "labels_val_sc = sc.predict(scaler_X_val)\n",
    "accuracy_score(y_val, labels_val_sc)"
   ]
  },
  {
   "cell_type": "markdown",
   "metadata": {},
   "source": [
    "<hr>\n",
    "<a class=\"anchor\" id=\"finalmodel\">\n",
    "\n",
    "## 4.2 Final Model\n",
    "    \n",
    "</a>"
   ]
  },
  {
   "cell_type": "markdown",
   "metadata": {},
   "source": [
    "In this section, we produced the best final model according to the accuracy score provided from kaggle test set, once our final goal is to reach a generable model, capable of correctly predict unseen data.\n",
    "\n",
    "Additionally, the remaining models selected on kaggle are commented in this section. Nevertheless, in the end, there is a visual performance comparison between these top 5 models."
   ]
  },
  {
   "cell_type": "markdown",
   "metadata": {},
   "source": [
    "<hr>\n",
    "<a class=\"anchor\" id=\"keras\">\n",
    "\n",
    "## 4.2.1. Neural Network Keras\n",
    "    \n",
    "</a>"
   ]
  },
  {
   "cell_type": "code",
   "execution_count": 100,
   "metadata": {},
   "outputs": [],
   "source": [
    "y_train_array = np.asarray(y_train).astype('float32')\n",
    "y_val_array = np.asarray(y_val).astype('float32')"
   ]
  },
  {
   "cell_type": "code",
   "execution_count": 148,
   "metadata": {
    "scrolled": true
   },
   "outputs": [
    {
     "name": "stdout",
     "output_type": "stream",
     "text": [
      "Train on 627 samples, validate on 270 samples\n",
      "Epoch 1/100\n",
      "627/627 [==============================] - 0s 528us/step - loss: 0.7153 - accuracy: 0.6156 - val_loss: 0.6974 - val_accuracy: 0.7074\n",
      "Epoch 2/100\n",
      "627/627 [==============================] - 0s 53us/step - loss: 0.6806 - accuracy: 0.7209 - val_loss: 0.6634 - val_accuracy: 0.7556\n",
      "Epoch 3/100\n",
      "627/627 [==============================] - 0s 62us/step - loss: 0.6472 - accuracy: 0.7512 - val_loss: 0.6256 - val_accuracy: 0.7593\n",
      "Epoch 4/100\n",
      "627/627 [==============================] - 0s 66us/step - loss: 0.6111 - accuracy: 0.7624 - val_loss: 0.5894 - val_accuracy: 0.7556\n",
      "Epoch 5/100\n",
      "627/627 [==============================] - 0s 66us/step - loss: 0.5647 - accuracy: 0.7847 - val_loss: 0.5564 - val_accuracy: 0.7667\n",
      "Epoch 6/100\n",
      "627/627 [==============================] - 0s 55us/step - loss: 0.5415 - accuracy: 0.8006 - val_loss: 0.5340 - val_accuracy: 0.7741\n",
      "Epoch 7/100\n",
      "627/627 [==============================] - 0s 51us/step - loss: 0.5254 - accuracy: 0.7863 - val_loss: 0.5217 - val_accuracy: 0.7963\n",
      "Epoch 8/100\n",
      "627/627 [==============================] - 0s 52us/step - loss: 0.4880 - accuracy: 0.8102 - val_loss: 0.5148 - val_accuracy: 0.7963\n",
      "Epoch 9/100\n",
      "627/627 [==============================] - 0s 53us/step - loss: 0.4911 - accuracy: 0.8022 - val_loss: 0.5108 - val_accuracy: 0.7963\n",
      "Epoch 10/100\n",
      "627/627 [==============================] - 0s 49us/step - loss: 0.4826 - accuracy: 0.8102 - val_loss: 0.5064 - val_accuracy: 0.8037\n",
      "Epoch 11/100\n",
      "627/627 [==============================] - 0s 53us/step - loss: 0.4913 - accuracy: 0.8182 - val_loss: 0.5042 - val_accuracy: 0.8074\n",
      "Epoch 12/100\n",
      "627/627 [==============================] - 0s 51us/step - loss: 0.4649 - accuracy: 0.8278 - val_loss: 0.5006 - val_accuracy: 0.8037\n",
      "Epoch 13/100\n",
      "627/627 [==============================] - 0s 54us/step - loss: 0.4754 - accuracy: 0.8246 - val_loss: 0.4984 - val_accuracy: 0.8000\n",
      "Epoch 14/100\n",
      "627/627 [==============================] - 0s 59us/step - loss: 0.4674 - accuracy: 0.8182 - val_loss: 0.4979 - val_accuracy: 0.7963\n",
      "Epoch 15/100\n",
      "627/627 [==============================] - 0s 62us/step - loss: 0.4592 - accuracy: 0.8246 - val_loss: 0.4976 - val_accuracy: 0.8000\n",
      "Epoch 16/100\n",
      "627/627 [==============================] - 0s 57us/step - loss: 0.4731 - accuracy: 0.8246 - val_loss: 0.4953 - val_accuracy: 0.8037\n",
      "Epoch 17/100\n",
      "627/627 [==============================] - 0s 54us/step - loss: 0.4682 - accuracy: 0.8309 - val_loss: 0.4921 - val_accuracy: 0.7926\n",
      "Epoch 18/100\n",
      "627/627 [==============================] - 0s 44us/step - loss: 0.4758 - accuracy: 0.8230 - val_loss: 0.4910 - val_accuracy: 0.8000\n",
      "Epoch 19/100\n",
      "627/627 [==============================] - 0s 53us/step - loss: 0.4744 - accuracy: 0.8293 - val_loss: 0.4908 - val_accuracy: 0.8111\n",
      "Epoch 20/100\n",
      "627/627 [==============================] - 0s 57us/step - loss: 0.4610 - accuracy: 0.8214 - val_loss: 0.4865 - val_accuracy: 0.8148\n",
      "Epoch 21/100\n",
      "627/627 [==============================] - 0s 46us/step - loss: 0.4579 - accuracy: 0.8373 - val_loss: 0.4862 - val_accuracy: 0.8111\n",
      "Epoch 22/100\n",
      "627/627 [==============================] - 0s 50us/step - loss: 0.4550 - accuracy: 0.8262 - val_loss: 0.4859 - val_accuracy: 0.8148\n",
      "Epoch 23/100\n",
      "627/627 [==============================] - 0s 47us/step - loss: 0.4323 - accuracy: 0.8309 - val_loss: 0.4872 - val_accuracy: 0.8148\n",
      "Epoch 24/100\n",
      "627/627 [==============================] - 0s 47us/step - loss: 0.4506 - accuracy: 0.8246 - val_loss: 0.4860 - val_accuracy: 0.8148\n",
      "Epoch 25/100\n",
      "627/627 [==============================] - 0s 47us/step - loss: 0.4424 - accuracy: 0.8373 - val_loss: 0.4855 - val_accuracy: 0.8148\n",
      "Epoch 26/100\n",
      "627/627 [==============================] - 0s 49us/step - loss: 0.4368 - accuracy: 0.8293 - val_loss: 0.4837 - val_accuracy: 0.8111\n"
     ]
    }
   ],
   "source": [
    "model = models.Sequential()\n",
    "model.add(layers.Dense(14, activation='relu', kernel_regularizer=regularizers.l2(0.001), input_dim=6))\n",
    "model.add(layers.Dropout(0.1))\n",
    "model.add(layers.Dense(18, activation='relu', kernel_regularizer=regularizers.l2(0.001)))\n",
    "model.add(layers.Dropout(0.1))\n",
    "model.add(layers.Dense(18, activation='relu', kernel_regularizer=regularizers.l2(0.001)))\n",
    "model.add(layers.Dropout(0.1))\n",
    "model.add(layers.Dense(1, activation='sigmoid'))\n",
    "model.compile(optimizer='adam', loss='binary_crossentropy', metrics=['accuracy'])\n",
    "\n",
    "callbacks_list = [keras.callbacks.EarlyStopping(monitor='accuracy',\n",
    "                                                patience=5),\n",
    "                  keras.callbacks.ModelCheckpoint(filepath='my_model.h5',\n",
    "                                                  monitor='val_accuracy',\n",
    "                                                  save_best_only=True)]\n",
    "\n",
    "history = model.fit(scaler_X_train, y_train_array, epochs=100, \n",
    "                    validation_data=(scaler_X_val, y_val_array),\n",
    "                    callbacks=callbacks_list)"
   ]
  },
  {
   "cell_type": "markdown",
   "metadata": {},
   "source": [
    "`NOTE: ` Keras do not provide a random state, therefore results may vary from each run. Nevertheless, the exported version was able to reach an accuracy score of 0.8111 in the validation set."
   ]
  },
  {
   "cell_type": "code",
   "execution_count": 149,
   "metadata": {
    "scrolled": true
   },
   "outputs": [
    {
     "data": {
      "image/png": "[encoded data removed]",
      "text/plain": [
       "<Figure size 864x864 with 1 Axes>"
      ]
     },
     "metadata": {
      "needs_background": "light"
     },
     "output_type": "display_data"
    }
   ],
   "source": [
    "plt.clf()\n",
    "history_dict = history.history\n",
    "acc_values = history_dict['accuracy']\n",
    "val_acc_values = history_dict['val_accuracy']\n",
    "\n",
    "epochs = range(1, len(history_dict['accuracy'])+1)\n",
    "\n",
    "plt.plot(epochs, acc_values, 'bo', label='Training acc')\n",
    "plt.plot(epochs, val_acc_values, 'b', label='Validation acc')\n",
    "plt.title('Training and validation accuracy')\n",
    "plt.xlabel('Epochs')\n",
    "plt.ylabel('Accuracy')\n",
    "plt.legend()\n",
    "plt.show()"
   ]
  },
  {
   "cell_type": "code",
   "execution_count": 150,
   "metadata": {},
   "outputs": [
    {
     "name": "stdout",
     "output_type": "stream",
     "text": [
      "627/627 [==============================] - 0s 19us/step\n"
     ]
    }
   ],
   "source": [
    "acc_train = model.evaluate(scaler_X_train, y_train_array)\n",
    "acc1_train = acc_train[1]"
   ]
  },
  {
   "cell_type": "code",
   "execution_count": 151,
   "metadata": {},
   "outputs": [
    {
     "name": "stdout",
     "output_type": "stream",
     "text": [
      "270/270 [==============================] - 0s 31us/step\n"
     ]
    }
   ],
   "source": [
    "acc = model.evaluate(scaler_X_val, y_val_array)\n",
    "acc1 = acc[1]"
   ]
  },
  {
   "cell_type": "code",
   "execution_count": 152,
   "metadata": {},
   "outputs": [],
   "source": [
    "labels_train_keras = model.predict(scaler_X_train)\n",
    "\n",
    "labels_train_bin = []\n",
    "for i in labels_train_keras:\n",
    "    if i > 0.5:\n",
    "        labels_train_bin.append(1)\n",
    "    else:\n",
    "        labels_train_bin.append(0)"
   ]
  },
  {
   "cell_type": "code",
   "execution_count": 153,
   "metadata": {},
   "outputs": [],
   "source": [
    "labels_val_keras = model.predict(scaler_X_val)\n",
    "\n",
    "labels_val_bin = []\n",
    "for i in labels_val_keras:\n",
    "    if i > 0.5:\n",
    "        labels_val_bin.append(1)\n",
    "    else:\n",
    "        labels_val_bin.append(0)"
   ]
  },
  {
   "cell_type": "code",
   "execution_count": 154,
   "metadata": {},
   "outputs": [],
   "source": [
    "labels_test_keras = model.predict(scaler_X_test)\n",
    "\n",
    "labels_test_bin = []\n",
    "for i in labels_test_keras:\n",
    "    if i > 0.5:\n",
    "        labels_test_bin.append(1)\n",
    "    else:\n",
    "        labels_test_bin.append(0)"
   ]
  },
  {
   "cell_type": "markdown",
   "metadata": {},
   "source": [
    "<hr>\n",
    "<a class=\"anchor\" id=\"keras\">\n",
    "\n",
    "## 4.2.2. Neural Network sklearn 15 hidden units\n",
    "    \n",
    "</a>"
   ]
  },
  {
   "cell_type": "code",
   "execution_count": 155,
   "metadata": {},
   "outputs": [],
   "source": [
    "mlp1 = MLPClassifier(activation='relu', alpha=0.025, batch_size='auto', beta_1=0.9, \n",
    "                     beta_2=0.999, early_stopping=False, epsilon=1e-08,        \n",
    "                     hidden_layer_sizes=(15,), learning_rate='constant',   \n",
    "                     learning_rate_init=0.025007500000000002, max_fun=15000, \n",
    "                     max_iter=800, momentum=0.9, n_iter_no_change=10,      \n",
    "                     nesterovs_momentum=True, power_t=0.5, random_state=15,   \n",
    "                     shuffle=True, solver='adam', tol=0.000505,         \n",
    "                     validation_fraction=0.1, verbose=False, warm_start=True).fit(scaler_X_train, y_train)"
   ]
  },
  {
   "cell_type": "code",
   "execution_count": 156,
   "metadata": {},
   "outputs": [],
   "source": [
    "labels_train_mlp1 = mlp1.predict(scaler_X_train)\n",
    "acc2_train = accuracy_score(y_train, labels_train_mlp1)"
   ]
  },
  {
   "cell_type": "code",
   "execution_count": 157,
   "metadata": {},
   "outputs": [],
   "source": [
    "labels_val_mlp1 = mlp1.predict(scaler_X_val)\n",
    "acc2 = accuracy_score(y_val, labels_val_mlp1)"
   ]
  },
  {
   "cell_type": "markdown",
   "metadata": {},
   "source": [
    "<hr>\n",
    "<a class=\"anchor\" id=\"keras\">\n",
    "\n",
    "## 4.2.3. Neural Network sklearn 10 hidden units\n",
    "    \n",
    "</a>"
   ]
  },
  {
   "cell_type": "code",
   "execution_count": 158,
   "metadata": {},
   "outputs": [],
   "source": [
    "mlp2 = MLPClassifier(activation='relu', alpha=0.032, batch_size='auto', beta_1=0.9,    \n",
    "                      beta_2=0.999, early_stopping=False, epsilon=1e-08,    \n",
    "                      hidden_layer_sizes=(10,), learning_rate='constant', \n",
    "                      learning_rate_init=0.025007500000000002, max_fun=15000,   \n",
    "                      max_iter=800, momentum=0.9, n_iter_no_change=10,           \n",
    "                      nesterovs_momentum=True, power_t=0.5, random_state=15,  \n",
    "                      shuffle=True, solver='adam', tol=0.000505,         \n",
    "                      validation_fraction=0.1, verbose=False, warm_start=True).fit(scaler_X_train, y_train)"
   ]
  },
  {
   "cell_type": "code",
   "execution_count": 159,
   "metadata": {},
   "outputs": [],
   "source": [
    "labels_train_mlp2 = mlp2.predict(scaler_X_train)\n",
    "acc3_train = accuracy_score(y_train, labels_train_mlp1)"
   ]
  },
  {
   "cell_type": "code",
   "execution_count": 160,
   "metadata": {},
   "outputs": [],
   "source": [
    "labels_val_mlp2 = mlp2.predict(scaler_X_val)\n",
    "acc3 = accuracy_score(y_val, labels_val_mlp2)"
   ]
  },
  {
   "cell_type": "markdown",
   "metadata": {},
   "source": [
    "<hr>\n",
    "<a class=\"anchor\" id=\"stackingclf\">\n",
    "\n",
    "## 4.2.4. Ensemble - Stacking Classifier\n",
    "    \n",
    "</a>"
   ]
  },
  {
   "cell_type": "code",
   "execution_count": 161,
   "metadata": {},
   "outputs": [],
   "source": [
    "SC = StackingClassifier(estimators=[('mlp', mlp),('dt',dt)], final_estimator=LogisticRegression(), \n",
    "                        stack_method = 'predict').fit(scaler_X_train, y_train)"
   ]
  },
  {
   "cell_type": "code",
   "execution_count": 162,
   "metadata": {},
   "outputs": [],
   "source": [
    "labels_train_sc = SC.predict(scaler_X_train)\n",
    "acc4_train = accuracy_score(y_train, labels_train_sc)"
   ]
  },
  {
   "cell_type": "code",
   "execution_count": 163,
   "metadata": {},
   "outputs": [],
   "source": [
    "labels_val_sc = SC.predict(scaler_X_val)\n",
    "acc4 = accuracy_score(y_val, labels_val_sc)"
   ]
  },
  {
   "cell_type": "markdown",
   "metadata": {},
   "source": [
    "<hr>\n",
    "<a class=\"anchor\" id=\"sklearn2h\">\n",
    "\n",
    "## 4.2.5. Neural Network sklearn 2 hidden layers\n",
    "    \n",
    "</a>"
   ]
  },
  {
   "cell_type": "code",
   "execution_count": 164,
   "metadata": {},
   "outputs": [],
   "source": [
    "mlp3 = MLPClassifier(hidden_layer_sizes = (10,34), random_state = 15, warm_start = True, early_stopping=False,          \n",
    "                     max_iter = 5000, activation ='relu', learning_rate = 'constant',\n",
    "                     tol = 1e-05, solver = 'adam').fit(scaler_X_train, y_train)"
   ]
  },
  {
   "cell_type": "code",
   "execution_count": 165,
   "metadata": {},
   "outputs": [],
   "source": [
    "labels_train_mlp3 = mlp3.predict(scaler_X_train)\n",
    "acc5_train = accuracy_score(y_train, labels_train_mlp3)"
   ]
  },
  {
   "cell_type": "code",
   "execution_count": 166,
   "metadata": {},
   "outputs": [],
   "source": [
    "labels_val_mlp3 = mlp3.predict(scaler_X_val)\n",
    "acc5 = accuracy_score(y_val, labels_val_mlp3)"
   ]
  },
  {
   "cell_type": "code",
   "execution_count": 167,
   "metadata": {},
   "outputs": [
    {
     "data": {
      "image/png": "[encoded data removed]",
      "text/plain": [
       "<Figure size 864x864 with 1 Axes>"
      ]
     },
     "metadata": {
      "needs_background": "light"
     },
     "output_type": "display_data"
    }
   ],
   "source": [
    "BestModels_train_accuracy = np.round([acc1_train, acc2_train, acc3_train, acc4_train, acc5_train], 2)\n",
    "BestModels_val_accuracy = np.round([acc1, acc2, acc3, acc4, acc5], 2)\n",
    "labels = ['Keras', 'Sklearn 15 hidden units', 'Sklearn 10 hidden units', 'Stacking Classifier', 'Sklearn 2 hidden layers']\n",
    "\n",
    "x = np.arange(len(labels))\n",
    "width = 0.3\n",
    "\n",
    "fig, ax = plt.subplots()\n",
    "rects1 = ax.bar(x - width/2, BestModels_train_accuracy, width, label='Train')\n",
    "rects2 = ax.bar(x + width/2, BestModels_val_accuracy, width, label='Validation')\n",
    "\n",
    "ax.set_ylabel('Accuracy')\n",
    "ax.set_title('Train and Validation Accuracy of the best models')\n",
    "ax.set_xticks(x)\n",
    "ax.set_xticklabels(labels)\n",
    "ax.legend()\n",
    "\n",
    "def autolabel(rects):\n",
    "    for rect in rects:\n",
    "        height = rect.get_height()\n",
    "        ax.annotate('{}'.format(height),\n",
    "                    xy=(rect.get_x() + rect.get_width() / 2, height),\n",
    "                    xytext=(0, 3),  # 3 points vertical offset\n",
    "                    textcoords=\"offset points\",\n",
    "                    ha='center', va='bottom')\n",
    "\n",
    "\n",
    "autolabel(rects1)\n",
    "autolabel(rects2)\n",
    "plt.ylim(0.6,0.9)\n",
    "\n",
    "#fig.tight_layout()\n",
    "\n",
    "plt.show()"
   ]
  },
  {
   "cell_type": "markdown",
   "metadata": {},
   "source": [
    "Concerning the model selection and after testing all the algorithms presented above with the correspondent grid search, we arise to a set of models that provide the overall best results. Even though algorithms like decision trees or random forest as well as ensembles tend to achieve better results in the validation dataset, we find that these are often unreliable and are likely to overfit when tested on our final dataset. Therefore, we opted for the most consistent algorithm across all partitions and selected the Multi-layer Perceptron as the more reliable algorithm. Bearing this in mind, more time and resources were spent trying to adjust the hyperparameters of this algorithm and this was often chosen as base estimator across the ensemble techniques. Complementary we also implemented Neural Networks with the help of _Keras_ library to explore further parameters and determine if we could obtain better results."
   ]
  },
  {
   "cell_type": "markdown",
   "metadata": {},
   "source": [
    "<hr>\n",
    "<a class=\"anchor\" id=\"assess\">\n",
    "\n",
    "# 5. Assess\n",
    "    \n",
    "</a>"
   ]
  },
  {
   "cell_type": "markdown",
   "metadata": {},
   "source": [
    "In this step is possible to analyze the detailed results for the final model presented before concerning the precision, recall, f1-score and accuracy metrics. It is important to compare the results of the train and validation sets to guarantee that our model is not overfitting and therefore is capable of generalizing their results."
   ]
  },
  {
   "cell_type": "code",
   "execution_count": 168,
   "metadata": {},
   "outputs": [],
   "source": [
    "model = model\n",
    "labels_train = labels_train_bin\n",
    "labels_val = labels_val_bin"
   ]
  },
  {
   "cell_type": "code",
   "execution_count": 169,
   "metadata": {},
   "outputs": [
    {
     "name": "stdout",
     "output_type": "stream",
     "text": [
      "___________________________________________________________________________________________________________\n",
      "                                                     TRAIN                                                 \n",
      "-----------------------------------------------------------------------------------------------------------\n",
      "              precision    recall  f1-score   support\n",
      "\n",
      "           0       0.86      0.69      0.76       240\n",
      "           1       0.83      0.93      0.88       387\n",
      "\n",
      "    accuracy                           0.84       627\n",
      "   macro avg       0.84      0.81      0.82       627\n",
      "weighted avg       0.84      0.84      0.83       627\n",
      "\n",
      "[[165  75]\n",
      " [ 27 360]]\n",
      "___________________________________________________________________________________________________________\n",
      "                                                VALIDATION                                                 \n",
      "-----------------------------------------------------------------------------------------------------------\n",
      "              precision    recall  f1-score   support\n",
      "\n",
      "           0       0.86      0.61      0.71       104\n",
      "           1       0.79      0.94      0.86       166\n",
      "\n",
      "    accuracy                           0.81       270\n",
      "   macro avg       0.83      0.77      0.79       270\n",
      "weighted avg       0.82      0.81      0.80       270\n",
      "\n",
      "[[ 63  41]\n",
      " [ 10 156]]\n"
     ]
    }
   ],
   "source": [
    "def metrics(y_train, pred_train , y_val, pred_val):\n",
    "    print('___________________________________________________________________________________________________________')\n",
    "    print('                                                     TRAIN                                                 ')\n",
    "    print('-----------------------------------------------------------------------------------------------------------')\n",
    "    print(classification_report(y_train, pred_train))\n",
    "    print(confusion_matrix(y_train, pred_train))\n",
    "\n",
    "\n",
    "    print('___________________________________________________________________________________________________________')\n",
    "    print('                                                VALIDATION                                                 ')\n",
    "    print('-----------------------------------------------------------------------------------------------------------')\n",
    "    print(classification_report(y_val, pred_val))\n",
    "    print(confusion_matrix(y_val, pred_val))\n",
    "    \n",
    "metrics(y_train, labels_train, y_val, labels_val)"
   ]
  },
  {
   "cell_type": "code",
   "execution_count": 172,
   "metadata": {},
   "outputs": [],
   "source": [
    "submission_test = pd.DataFrame()\n",
    "submission_test['Patient_ID'] = test_df.index\n",
    "submission_test['Deceased'] = labels_test_bin\n",
    "version = 28\n",
    "path = r'/Users/davidsousa/Documents/GitHub/ML/Data/Group38_version' + str(version) + '.csv'\n",
    "submission_test.to_csv(path, index = False)"
   ]
  },
  {
   "cell_type": "code",
   "execution_count": 173,
   "metadata": {},
   "outputs": [
    {
     "data": {
      "text/plain": [
       "1    275\n",
       "0    125\n",
       "Name: Deceased, dtype: int64"
      ]
     },
     "execution_count": 173,
     "metadata": {},
     "output_type": "execute_result"
    }
   ],
   "source": [
    "submission_test.Deceased.value_counts()"
   ]
  },
  {
   "cell_type": "markdown",
   "metadata": {},
   "source": [
    "<hr>\n",
    "<a class=\"anchor\" id=\"limitations\">\n",
    "\n",
    "# 6. Limitations\n",
    "    \n",
    "</a>"
   ]
  },
  {
   "cell_type": "markdown",
   "metadata": {},
   "source": [
    "The results shown before were obtained through the exploration of an exhaustive set of combinations of parameters and algorithms that could be certainly improved given the increase in resources such as time and computational power. Even though we consider our results to be adequate to the challenge proposed, it would be interesting to try a broader set of parameters and a wider range of algorithms.\n",
    "\n",
    "Furthermore, one of the greatest limitations that we felt throughout the project was the size of the dataset. Said that, possessing only 900 rows and 10 independent variables, from which only one was continuous, the type of possible transformations to perform were very limited. Also, after spliting the data into train and validation partitions, we ended up with only 70% of the data (around 630 rows) to train our model which is far from an ideal scenario, specially if we consider using cross-validation for more robust results. Therefore, it was necessary to weight the pros and cons of having a small training and validation sets in order to ensure that our final model did not suffer from neither overfitting or underfitting."
   ]
  },
  {
   "cell_type": "markdown",
   "metadata": {},
   "source": [
    "<hr>\n",
    "<a class=\"anchor\" id=\"conclusion\">\n",
    "\n",
    "# 7. Conclusion\n",
    "    \n",
    "</a>"
   ]
  },
  {
   "cell_type": "markdown",
   "metadata": {},
   "source": [
    "In the elaboration of this project our team was faced with a lot of challenges not only because of the nature of data in hands but also with the need to choose the most appropriate method or algorithm for each step. \n",
    "\n",
    "The data preparation and preprocessing were an essential phase of the project because the quality of the final dataset will influence all the following analysis. In this phase we were very thorough in analyzing all the outliers as well as treating the missing values with all the techniques necessary to maintain the consistency and coherence of the original data without losing too much information. Furthermore, the data partition was tested repeatedly with different sets of variables based on the analysis of the feature selection methods and the accuracy obtained, not only, in the validation set, but also in the test set. \n",
    "\n",
    "Subsequently we started by training our model by using algorithms such as Decision Trees, Logistic Regressions, Multi-layer Perceptrons, Recurrent Neural Networks, Support Vector Machines, different ensemble methods, and others, until we reach a final prediction that allows to achieve the maximum accuracy possible, based on the 30% of the test dataset, we can assess on kaggle. This is likely the most important stage of this project and therefore was also the one in which we spent the most time.\n",
    "\n",
    "Finally, we decided which were the 5 models in which we would like to predict the 100% of the test set. This was the last but, probably, the most important step of our project, because our main objective is to perform well on the unseen data and for that, not only the accuracy matters, but also diversity between the 5 chosen models."
   ]
  }
 ],
 "metadata": {
  "kernelspec": {
   "display_name": "Python 3",
   "language": "python",
   "name": "python3"
  },
  "language_info": {
   "codemirror_mode": {
    "name": "ipython",
    "version": 3
   },
   "file_extension": ".py",
   "mimetype": "text/x-python",
   "name": "python",
   "nbconvert_exporter": "python",
   "pygments_lexer": "ipython3",
   "version": "3.8.2"
  }
 },
 "nbformat": 4,
 "nbformat_minor": 2
}
