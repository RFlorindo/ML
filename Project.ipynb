{
 "cells": [
  {
   "cell_type": "markdown",
   "metadata": {},
   "source": [
    "<h1><center> MACHINE LEARNING - PROJECT </center></h1>\n",
    "<center> \"WHAT ARE THE PEOPLE MORE LIKELY TO SURVIVE TO THE BOOLEAN PANDEMIC?\"</center>\n",
    "\n",
    "Notebook structure:\n",
    "* [1. Sample](#sample)\n",
    "    * [1.1. Import Libraries](#import)\n",
    "    * [1.2. Import Datasets](#import2)\n",
    "* [2. Explore](#explore)\n",
    "    * [2.1. Data Exploration](#dataexplore)\n",
    "    * [2.2. Missing Values Analysis](#miss_values)\n",
    "    * [2.3. Outliers Analysis](#outliers)\n",
    "* [3. Modify](#modify)\n",
    "    * [3.1. Transform and Create variables](#transf_create)\n",
    "    * [3.2. Coherence Checking](#coherence)\n",
    "    * [3.3. Correlation analysis](#corr)\n",
    "    * [3.4. Feature Selection](#feature)\n",
    "    * [3.5. Train Validation Partition](#train_val)\n",
    "    * [3.6. Data Standardization](#datastand)\n",
    "* [4. Model](#model)\n",
    "* [5. Assess](#assess)"
   ]
  },
  {
   "cell_type": "markdown",
   "metadata": {},
   "source": [
    "<hr>\n",
    "<a class=\"anchor\" id=\"sample\">\n",
    "    \n",
    "# 1. Sample\n",
    "    \n",
    "</a>"
   ]
  },
  {
   "cell_type": "markdown",
   "metadata": {},
   "source": [
    "<a class=\"anchor\" id=\"import\">\n",
    "\n",
    "## 1.1. Import Libraries\n",
    "\n",
    "</a>"
   ]
  },
  {
   "cell_type": "code",
   "execution_count": 50,
   "metadata": {},
   "outputs": [],
   "source": [
    "import pandas as pd\n",
    "import matplotlib.pyplot as plt\n",
    "import seaborn as sns\n",
    "from sklearn.linear_model import LinearRegression\n",
    "from sklearn.feature_selection import RFE\n",
    "from sklearn.model_selection import train_test_split\n",
    "from sklearn.preprocessing import StandardScaler\n",
    "from sklearn.linear_model import LogisticRegression\n",
    "from sklearn.impute import KNNImputer \n",
    "from sklearn.linear_model import LassoCV, RidgeCV\n",
    "import numpy as np\n",
    "from itertools import combinations_with_replacement"
   ]
  },
  {
   "cell_type": "markdown",
   "metadata": {},
   "source": [
    "<a class=\"anchor\" id=\"import2\">\n",
    "\n",
    "## 1.2. Import Datasets\n",
    "\n",
    "</a>"
   ]
  },
  {
   "cell_type": "code",
   "execution_count": 2,
   "metadata": {},
   "outputs": [],
   "source": [
    "df = pd.read_csv(r'Data/train.csv')\n",
    "test_df = pd.read_csv(r'Data/test.csv')"
   ]
  },
  {
   "cell_type": "markdown",
   "metadata": {},
   "source": [
    "<hr>\n",
    "<a class=\"anchor\" id=\"explore\">\n",
    "    \n",
    "# 2. Explore\n",
    "    \n",
    "</a>"
   ]
  },
  {
   "cell_type": "markdown",
   "metadata": {},
   "source": [
    "<a class=\"anchor\" id=\"dataexplore\">\n",
    "\n",
    "## 2.1. Data Exploration\n",
    "\n",
    "</a>"
   ]
  },
  {
   "cell_type": "code",
   "execution_count": 3,
   "metadata": {},
   "outputs": [
    {
     "data": {
      "text/plain": [
       "(900, 11)"
      ]
     },
     "execution_count": 3,
     "metadata": {},
     "output_type": "execute_result"
    }
   ],
   "source": [
    "df.shape"
   ]
  },
  {
   "cell_type": "code",
   "execution_count": 4,
   "metadata": {},
   "outputs": [
    {
     "data": {
      "text/html": [
       "<div>\n",
       "<style scoped>\n",
       "    .dataframe tbody tr th:only-of-type {\n",
       "        vertical-align: middle;\n",
       "    }\n",
       "\n",
       "    .dataframe tbody tr th {\n",
       "        vertical-align: top;\n",
       "    }\n",
       "\n",
       "    .dataframe thead th {\n",
       "        text-align: right;\n",
       "    }\n",
       "</style>\n",
       "<table border=\"1\" class=\"dataframe\">\n",
       "  <thead>\n",
       "    <tr style=\"text-align: right;\">\n",
       "      <th></th>\n",
       "      <th>Patient_ID</th>\n",
       "      <th>Family_Case_ID</th>\n",
       "      <th>Severity</th>\n",
       "      <th>Name</th>\n",
       "      <th>Birthday_year</th>\n",
       "      <th>Parents or siblings infected</th>\n",
       "      <th>Wife/Husband or children infected</th>\n",
       "      <th>Medical_Expenses_Family</th>\n",
       "      <th>Medical_Tent</th>\n",
       "      <th>City</th>\n",
       "      <th>Deceased</th>\n",
       "    </tr>\n",
       "  </thead>\n",
       "  <tbody>\n",
       "    <tr>\n",
       "      <th>0</th>\n",
       "      <td>1</td>\n",
       "      <td>4696</td>\n",
       "      <td>3</td>\n",
       "      <td>Miss Linda Betty</td>\n",
       "      <td>NaN</td>\n",
       "      <td>0</td>\n",
       "      <td>0</td>\n",
       "      <td>225</td>\n",
       "      <td>NaN</td>\n",
       "      <td>Santa Fe</td>\n",
       "      <td>1</td>\n",
       "    </tr>\n",
       "    <tr>\n",
       "      <th>1</th>\n",
       "      <td>2</td>\n",
       "      <td>21436</td>\n",
       "      <td>1</td>\n",
       "      <td>Ms. Ramona Elvira</td>\n",
       "      <td>1966.0</td>\n",
       "      <td>0</td>\n",
       "      <td>1</td>\n",
       "      <td>1663</td>\n",
       "      <td>NaN</td>\n",
       "      <td>Albuquerque</td>\n",
       "      <td>0</td>\n",
       "    </tr>\n",
       "    <tr>\n",
       "      <th>2</th>\n",
       "      <td>3</td>\n",
       "      <td>7273</td>\n",
       "      <td>3</td>\n",
       "      <td>Mr. Mario Vernon</td>\n",
       "      <td>1982.0</td>\n",
       "      <td>0</td>\n",
       "      <td>0</td>\n",
       "      <td>221</td>\n",
       "      <td>NaN</td>\n",
       "      <td>Santa Fe</td>\n",
       "      <td>1</td>\n",
       "    </tr>\n",
       "    <tr>\n",
       "      <th>3</th>\n",
       "      <td>4</td>\n",
       "      <td>8226</td>\n",
       "      <td>3</td>\n",
       "      <td>Mr. Hector Joe</td>\n",
       "      <td>1997.0</td>\n",
       "      <td>0</td>\n",
       "      <td>0</td>\n",
       "      <td>220</td>\n",
       "      <td>NaN</td>\n",
       "      <td>Santa Fe</td>\n",
       "      <td>1</td>\n",
       "    </tr>\n",
       "    <tr>\n",
       "      <th>4</th>\n",
       "      <td>5</td>\n",
       "      <td>19689</td>\n",
       "      <td>3</td>\n",
       "      <td>Ms. Jennie Debra</td>\n",
       "      <td>1994.0</td>\n",
       "      <td>0</td>\n",
       "      <td>0</td>\n",
       "      <td>222</td>\n",
       "      <td>NaN</td>\n",
       "      <td>Santa Fe</td>\n",
       "      <td>0</td>\n",
       "    </tr>\n",
       "  </tbody>\n",
       "</table>\n",
       "</div>"
      ],
      "text/plain": [
       "   Patient_ID  Family_Case_ID  Severity               Name  Birthday_year  \\\n",
       "0           1            4696         3   Miss Linda Betty            NaN   \n",
       "1           2           21436         1  Ms. Ramona Elvira         1966.0   \n",
       "2           3            7273         3   Mr. Mario Vernon         1982.0   \n",
       "3           4            8226         3     Mr. Hector Joe         1997.0   \n",
       "4           5           19689         3   Ms. Jennie Debra         1994.0   \n",
       "\n",
       "   Parents or siblings infected  Wife/Husband or children infected  \\\n",
       "0                             0                                  0   \n",
       "1                             0                                  1   \n",
       "2                             0                                  0   \n",
       "3                             0                                  0   \n",
       "4                             0                                  0   \n",
       "\n",
       "   Medical_Expenses_Family Medical_Tent         City  Deceased  \n",
       "0                      225          NaN     Santa Fe         1  \n",
       "1                     1663          NaN  Albuquerque         0  \n",
       "2                      221          NaN     Santa Fe         1  \n",
       "3                      220          NaN     Santa Fe         1  \n",
       "4                      222          NaN     Santa Fe         0  "
      ]
     },
     "execution_count": 4,
     "metadata": {},
     "output_type": "execute_result"
    }
   ],
   "source": [
    "df.head(5)"
   ]
  },
  {
   "cell_type": "code",
   "execution_count": 5,
   "metadata": {},
   "outputs": [
    {
     "name": "stdout",
     "output_type": "stream",
     "text": [
      "<class 'pandas.core.frame.DataFrame'>\n",
      "RangeIndex: 900 entries, 0 to 899\n",
      "Data columns (total 11 columns):\n",
      " #   Column                             Non-Null Count  Dtype  \n",
      "---  ------                             --------------  -----  \n",
      " 0   Patient_ID                         900 non-null    int64  \n",
      " 1   Family_Case_ID                     900 non-null    int64  \n",
      " 2   Severity                           900 non-null    int64  \n",
      " 3   Name                               900 non-null    object \n",
      " 4   Birthday_year                      723 non-null    float64\n",
      " 5   Parents or siblings infected       900 non-null    int64  \n",
      " 6   Wife/Husband or children infected  900 non-null    int64  \n",
      " 7   Medical_Expenses_Family            900 non-null    int64  \n",
      " 8   Medical_Tent                       198 non-null    object \n",
      " 9   City                               898 non-null    object \n",
      " 10  Deceased                           900 non-null    int64  \n",
      "dtypes: float64(1), int64(7), object(3)\n",
      "memory usage: 77.5+ KB\n"
     ]
    }
   ],
   "source": [
    "df.info()"
   ]
  },
  {
   "cell_type": "code",
   "execution_count": 6,
   "metadata": {},
   "outputs": [
    {
     "data": {
      "text/html": [
       "<div>\n",
       "<style scoped>\n",
       "    .dataframe tbody tr th:only-of-type {\n",
       "        vertical-align: middle;\n",
       "    }\n",
       "\n",
       "    .dataframe tbody tr th {\n",
       "        vertical-align: top;\n",
       "    }\n",
       "\n",
       "    .dataframe thead th {\n",
       "        text-align: right;\n",
       "    }\n",
       "</style>\n",
       "<table border=\"1\" class=\"dataframe\">\n",
       "  <thead>\n",
       "    <tr style=\"text-align: right;\">\n",
       "      <th></th>\n",
       "      <th>Patient_ID</th>\n",
       "      <th>Family_Case_ID</th>\n",
       "      <th>Severity</th>\n",
       "      <th>Birthday_year</th>\n",
       "      <th>Parents or siblings infected</th>\n",
       "      <th>Wife/Husband or children infected</th>\n",
       "      <th>Medical_Expenses_Family</th>\n",
       "      <th>Deceased</th>\n",
       "    </tr>\n",
       "  </thead>\n",
       "  <tbody>\n",
       "    <tr>\n",
       "      <th>count</th>\n",
       "      <td>900.000000</td>\n",
       "      <td>900.000000</td>\n",
       "      <td>900.000000</td>\n",
       "      <td>723.000000</td>\n",
       "      <td>900.000000</td>\n",
       "      <td>900.000000</td>\n",
       "      <td>900.000000</td>\n",
       "      <td>900.000000</td>\n",
       "    </tr>\n",
       "    <tr>\n",
       "      <th>mean</th>\n",
       "      <td>450.500000</td>\n",
       "      <td>14305.827778</td>\n",
       "      <td>2.313333</td>\n",
       "      <td>1990.266943</td>\n",
       "      <td>0.380000</td>\n",
       "      <td>0.521111</td>\n",
       "      <td>895.743333</td>\n",
       "      <td>0.614444</td>\n",
       "    </tr>\n",
       "    <tr>\n",
       "      <th>std</th>\n",
       "      <td>259.951919</td>\n",
       "      <td>25418.153900</td>\n",
       "      <td>0.834223</td>\n",
       "      <td>14.523335</td>\n",
       "      <td>0.803247</td>\n",
       "      <td>1.098385</td>\n",
       "      <td>1385.829926</td>\n",
       "      <td>0.486997</td>\n",
       "    </tr>\n",
       "    <tr>\n",
       "      <th>min</th>\n",
       "      <td>1.000000</td>\n",
       "      <td>345.000000</td>\n",
       "      <td>1.000000</td>\n",
       "      <td>1940.000000</td>\n",
       "      <td>0.000000</td>\n",
       "      <td>0.000000</td>\n",
       "      <td>0.000000</td>\n",
       "      <td>0.000000</td>\n",
       "    </tr>\n",
       "    <tr>\n",
       "      <th>25%</th>\n",
       "      <td>225.750000</td>\n",
       "      <td>8203.000000</td>\n",
       "      <td>2.000000</td>\n",
       "      <td>1982.000000</td>\n",
       "      <td>0.000000</td>\n",
       "      <td>0.000000</td>\n",
       "      <td>221.000000</td>\n",
       "      <td>0.000000</td>\n",
       "    </tr>\n",
       "    <tr>\n",
       "      <th>50%</th>\n",
       "      <td>450.500000</td>\n",
       "      <td>13593.500000</td>\n",
       "      <td>3.000000</td>\n",
       "      <td>1992.000000</td>\n",
       "      <td>0.000000</td>\n",
       "      <td>0.000000</td>\n",
       "      <td>405.000000</td>\n",
       "      <td>1.000000</td>\n",
       "    </tr>\n",
       "    <tr>\n",
       "      <th>75%</th>\n",
       "      <td>675.250000</td>\n",
       "      <td>18906.500000</td>\n",
       "      <td>3.000000</td>\n",
       "      <td>1999.500000</td>\n",
       "      <td>0.000000</td>\n",
       "      <td>1.000000</td>\n",
       "      <td>861.250000</td>\n",
       "      <td>1.000000</td>\n",
       "    </tr>\n",
       "    <tr>\n",
       "      <th>max</th>\n",
       "      <td>900.000000</td>\n",
       "      <td>742836.000000</td>\n",
       "      <td>3.000000</td>\n",
       "      <td>2019.000000</td>\n",
       "      <td>6.000000</td>\n",
       "      <td>8.000000</td>\n",
       "      <td>14345.000000</td>\n",
       "      <td>1.000000</td>\n",
       "    </tr>\n",
       "  </tbody>\n",
       "</table>\n",
       "</div>"
      ],
      "text/plain": [
       "       Patient_ID  Family_Case_ID    Severity  Birthday_year  \\\n",
       "count  900.000000      900.000000  900.000000     723.000000   \n",
       "mean   450.500000    14305.827778    2.313333    1990.266943   \n",
       "std    259.951919    25418.153900    0.834223      14.523335   \n",
       "min      1.000000      345.000000    1.000000    1940.000000   \n",
       "25%    225.750000     8203.000000    2.000000    1982.000000   \n",
       "50%    450.500000    13593.500000    3.000000    1992.000000   \n",
       "75%    675.250000    18906.500000    3.000000    1999.500000   \n",
       "max    900.000000   742836.000000    3.000000    2019.000000   \n",
       "\n",
       "       Parents or siblings infected  Wife/Husband or children infected  \\\n",
       "count                    900.000000                         900.000000   \n",
       "mean                       0.380000                           0.521111   \n",
       "std                        0.803247                           1.098385   \n",
       "min                        0.000000                           0.000000   \n",
       "25%                        0.000000                           0.000000   \n",
       "50%                        0.000000                           0.000000   \n",
       "75%                        0.000000                           1.000000   \n",
       "max                        6.000000                           8.000000   \n",
       "\n",
       "       Medical_Expenses_Family    Deceased  \n",
       "count               900.000000  900.000000  \n",
       "mean                895.743333    0.614444  \n",
       "std                1385.829926    0.486997  \n",
       "min                   0.000000    0.000000  \n",
       "25%                 221.000000    0.000000  \n",
       "50%                 405.000000    1.000000  \n",
       "75%                 861.250000    1.000000  \n",
       "max               14345.000000    1.000000  "
      ]
     },
     "execution_count": 6,
     "metadata": {},
     "output_type": "execute_result"
    }
   ],
   "source": [
    "df.describe()"
   ]
  },
  {
   "cell_type": "code",
   "execution_count": 7,
   "metadata": {},
   "outputs": [
    {
     "data": {
      "text/plain": [
       "1    0.614444\n",
       "0    0.385556\n",
       "Name: Deceased, dtype: float64"
      ]
     },
     "execution_count": 7,
     "metadata": {},
     "output_type": "execute_result"
    }
   ],
   "source": [
    "df['Deceased'].value_counts(normalize=True)"
   ]
  },
  {
   "cell_type": "markdown",
   "metadata": {},
   "source": [
    "`NOTE:` Unbalanced learning, test over/under sampling."
   ]
  },
  {
   "cell_type": "markdown",
   "metadata": {},
   "source": [
    "<a class=\"anchor\" id=\"miss_values\">\n",
    "\n",
    "## 2.2. Missing Values Analysis\n",
    "\n",
    "</a>"
   ]
  },
  {
   "cell_type": "code",
   "execution_count": 8,
   "metadata": {},
   "outputs": [
    {
     "name": "stdout",
     "output_type": "stream",
     "text": [
      "# of missing values by variable:\n"
     ]
    },
    {
     "data": {
      "text/plain": [
       "Patient_ID                             0\n",
       "Family_Case_ID                         0\n",
       "Severity                               0\n",
       "Name                                   0\n",
       "Birthday_year                        177\n",
       "Parents or siblings infected           0\n",
       "Wife/Husband or children infected      0\n",
       "Medical_Expenses_Family                0\n",
       "Medical_Tent                         702\n",
       "City                                   2\n",
       "Deceased                               0\n",
       "dtype: int64"
      ]
     },
     "execution_count": 8,
     "metadata": {},
     "output_type": "execute_result"
    }
   ],
   "source": [
    "print(\"# of missing values by variable:\")\n",
    "df.isnull().sum()"
   ]
  },
  {
   "cell_type": "code",
   "execution_count": 9,
   "metadata": {},
   "outputs": [
    {
     "name": "stdout",
     "output_type": "stream",
     "text": [
      "# of missing values by variable:\n"
     ]
    },
    {
     "data": {
      "text/plain": [
       "Patient_ID                             0\n",
       "Family_Case_ID                         0\n",
       "Severity                               0\n",
       "Name                                   0\n",
       "Birthday_year                         82\n",
       "Parents or siblings infected           0\n",
       "Wife/Husband or children infected      0\n",
       "Medical_Expenses_Family                0\n",
       "Medical_Tent                         311\n",
       "City                                   0\n",
       "dtype: int64"
      ]
     },
     "execution_count": 9,
     "metadata": {},
     "output_type": "execute_result"
    }
   ],
   "source": [
    "print(\"# of missing values by variable:\")\n",
    "test_df.isnull().sum()"
   ]
  },
  {
   "cell_type": "markdown",
   "metadata": {},
   "source": [
    "##### Medical Tent"
   ]
  },
  {
   "cell_type": "markdown",
   "metadata": {},
   "source": [
    "We will drop the variable \"Medical Tent\", once it as 702 missing values from a total of 900 (78%)"
   ]
  },
  {
   "cell_type": "code",
   "execution_count": 10,
   "metadata": {},
   "outputs": [],
   "source": [
    "df = df.drop(columns='Medical_Tent')\n",
    "test_df = test_df.drop(columns='Medical_Tent')"
   ]
  },
  {
   "cell_type": "markdown",
   "metadata": {},
   "source": [
    "##### City"
   ]
  },
  {
   "cell_type": "markdown",
   "metadata": {},
   "source": [
    " To fill the missing values in the variable \"City\", we decide to use the mode, since there are only to observations missing city"
   ]
  },
  {
   "cell_type": "code",
   "execution_count": 11,
   "metadata": {},
   "outputs": [
    {
     "data": {
      "text/plain": [
       "Santa Fe       649\n",
       "Albuquerque    169\n",
       "Taos            80\n",
       "Name: City, dtype: int64"
      ]
     },
     "execution_count": 11,
     "metadata": {},
     "output_type": "execute_result"
    }
   ],
   "source": [
    "df.City.value_counts()"
   ]
  },
  {
   "cell_type": "code",
   "execution_count": 12,
   "metadata": {},
   "outputs": [],
   "source": [
    "df['City'] = df['City'].fillna(df['City'].mode()[0])"
   ]
  },
  {
   "cell_type": "code",
   "execution_count": 13,
   "metadata": {},
   "outputs": [
    {
     "data": {
      "text/plain": [
       "Santa Fe       651\n",
       "Albuquerque    169\n",
       "Taos            80\n",
       "Name: City, dtype: int64"
      ]
     },
     "execution_count": 13,
     "metadata": {},
     "output_type": "execute_result"
    }
   ],
   "source": [
    "df.City.value_counts()"
   ]
  },
  {
   "cell_type": "markdown",
   "metadata": {},
   "source": [
    "##### Birthday Year"
   ]
  },
  {
   "cell_type": "markdown",
   "metadata": {},
   "source": [
    "In what concerns the remaining missing values, all from the variable \"Birthday Year\", we decided to apply the K-Nearest-Neighbor algorithm to fill them. This decision was based in the fact that there are 177 missing values, which we consider too much for apllying a simple input (such as mean or median input), but not that many too remove a variable that we consider that might have some importance in our model. \n",
    "Later, with more knowledge of the dataset we might consider remove it."
   ]
  },
  {
   "cell_type": "code",
   "execution_count": 14,
   "metadata": {},
   "outputs": [],
   "source": [
    "# For training\n",
    "knn_vars = df.drop(['Patient_ID', 'Name', 'City', 'Deceased'], axis = 1)\n",
    "imputer = KNNImputer(n_neighbors=10)\n",
    "X_filled_knn = imputer.fit_transform(knn_vars)\n",
    "years = np.round(X_filled_knn[:,2])\n",
    "\n",
    "for i in range(len(knn_vars)):\n",
    "    if knn_vars.loc[i,'Birthday_year'] < 1900:\n",
    "        print (years[i])\n",
    "        \n",
    "df['Birthday_year'] = years\n",
    "\n",
    "# For Test\n",
    "knn_vars_test = test_df.drop(['Patient_ID', 'Name', 'City'], axis = 1)\n",
    "imputer = KNNImputer(n_neighbors=10)\n",
    "Xtest_filled_knn = imputer.fit_transform(knn_vars_test)\n",
    "years_df = np.round(Xtest_filled_knn[:,2])\n",
    "test_df['Birthday_year'] = years_df"
   ]
  },
  {
   "cell_type": "markdown",
   "metadata": {},
   "source": [
    "<a class=\"anchor\" id=\"outliers\">\n",
    "\n",
    "## 2.3. Outliers Analysis\n",
    "\n",
    "</a>"
   ]
  },
  {
   "cell_type": "code",
   "execution_count": 15,
   "metadata": {},
   "outputs": [
    {
     "data": {
      "text/plain": [
       "<matplotlib.axes._subplots.AxesSubplot at 0x28524ff07c0>"
      ]
     },
     "execution_count": 15,
     "metadata": {},
     "output_type": "execute_result"
    },
    {
     "data": {
      "image/png": "[encoded data removed]",
      "text/plain": [
       "<Figure size 720x360 with 2 Axes>"
      ]
     },
     "metadata": {
      "needs_background": "light"
     },
     "output_type": "display_data"
    }
   ],
   "source": [
    "f, axes = plt.subplots(1,2, figsize=(10, 5), squeeze=False)    \n",
    "sns.boxplot(df[\"Birthday_year\"], color=\"skyblue\", ax=axes[0, 0])\n",
    "sns.boxplot(df[\"Medical_Expenses_Family\"], color=\"blue\", ax=axes[0, 1])"
   ]
  },
  {
   "cell_type": "code",
   "execution_count": 16,
   "metadata": {},
   "outputs": [
    {
     "data": {
      "text/plain": [
       "<matplotlib.axes._subplots.AxesSubplot at 0x2852716f790>"
      ]
     },
     "execution_count": 16,
     "metadata": {},
     "output_type": "execute_result"
    },
    {
     "data": {
      "image/png": "[encoded data removed]",
      "text/plain": [
       "<Figure size 720x720 with 4 Axes>"
      ]
     },
     "metadata": {
      "needs_background": "light"
     },
     "output_type": "display_data"
    }
   ],
   "source": [
    "f, axes = plt.subplots(2, 2, figsize=(10, 10))\n",
    "sns.distplot(df[\"Birthday_year\"], color=\"skyblue\", ax=axes[0, 0], kde=False)\n",
    "sns.distplot(df[\"Parents or siblings infected\"], color=\"steelblue\", ax=axes[0, 1], kde=False)\n",
    "sns.distplot(df[\"Medical_Expenses_Family\"], color=\"blue\", ax=axes[1, 0], kde=False)\n",
    "sns.distplot(df[\"Wife/Husband or children infected\"], color=\"c\", ax=axes[1, 1], kde=False)"
   ]
  },
  {
   "cell_type": "code",
   "execution_count": 17,
   "metadata": {},
   "outputs": [
    {
     "data": {
      "text/plain": [
       "0    897\n",
       "1      3\n",
       "Name: Outlier, dtype: int64"
      ]
     },
     "execution_count": 17,
     "metadata": {},
     "output_type": "execute_result"
    }
   ],
   "source": [
    "df['Outlier'] = 0\n",
    "df.loc[df['Medical_Expenses_Family']>13000, 'Outlier']=1\n",
    "df['Outlier'].value_counts()"
   ]
  },
  {
   "cell_type": "code",
   "execution_count": 18,
   "metadata": {},
   "outputs": [],
   "source": [
    "df = df.loc[df['Outlier'] == 0]"
   ]
  },
  {
   "cell_type": "markdown",
   "metadata": {},
   "source": [
    "<hr>\n",
    "<a class=\"anchor\" id=\"modify\">\n",
    "\n",
    "# 3. Modify\n",
    "    \n",
    "</a>"
   ]
  },
  {
   "cell_type": "markdown",
   "metadata": {},
   "source": [
    "<hr>\n",
    "<a class=\"anchor\" id=\"transf_create\">\n",
    "\n",
    "## 3.1. Transform and Create variables\n",
    "    \n",
    "</a>"
   ]
  },
  {
   "cell_type": "code",
   "execution_count": 19,
   "metadata": {},
   "outputs": [],
   "source": [
    "df.loc[df['City'] == 'Santa Fe', 'Santa Fe'] = 1\n",
    "df.loc[df['City'] != 'Santa Fe', 'Santa Fe'] = 0\n",
    "test_df.loc[test_df['City'] == 'Santa Fe', 'Santa Fe'] = 1\n",
    "test_df.loc[test_df['City'] != 'Santa Fe', 'Santa Fe'] = 0\n",
    "\n",
    "df.loc[df['City'] == 'Albuquerque', 'Albuquerque'] = 1\n",
    "df.loc[df['City'] != 'Albuquerque', 'Albuquerque'] = 0\n",
    "test_df.loc[test_df['City'] == 'Albuquerque', 'Albuquerque'] = 1\n",
    "test_df.loc[test_df['City'] != 'Albuquerque', 'Albuquerque'] = 0\n",
    "\n",
    "df.loc[df['City'] == 'Taos', 'Taos'] = 1\n",
    "df.loc[df['City'] != 'Taos', 'Taos'] = 0\n",
    "test_df.loc[test_df['City'] == 'Albuquerque', 'Albuquerque'] = 1\n",
    "test_df.loc[test_df['City'] != 'Albuquerque', 'Albuquerque'] = 0\n",
    "\n",
    "df['Age'] = 2020 - df['Birthday_year']\n",
    "test_df['Age'] = 2020 - test_df['Birthday_year']\n",
    "\n",
    "df['Family_cases'] = df['Parents or siblings infected'] + df['Wife/Husband or children infected']\n",
    "test_df['Family_cases'] = test_df['Parents or siblings infected'] + test_df['Wife/Husband or children infected']\n",
    "\n",
    "Family_size = pd.DataFrame(df['Patient_ID'].groupby(df['Family_Case_ID']).count())\n",
    "Family_size = Family_size.rename({'Patient_ID':'Family_size'}, axis='columns') \n",
    "df = df.merge(Family_size, on = ['Family_Case_ID'])\n",
    "\n",
    "Family_size_test = pd.DataFrame(test_df['Patient_ID'].groupby(test_df['Family_Case_ID']).count())\n",
    "Family_size_test = Family_size_test.rename({'Patient_ID':'Family_size'}, axis='columns') \n",
    "test_df = test_df.merge(Family_size_test, on = ['Family_Case_ID'])\n",
    "\n",
    "df['Medical_Expenses_Person'] = df['Medical_Expenses_Family']/df['Family_size']\n",
    "test_df['Medical_Expenses_Person'] = test_df['Medical_Expenses_Family']/test_df['Family_size']\n",
    "\n",
    "df.drop(columns = ['City','Name','Outlier','Family_Case_ID','Birthday_year'], inplace = True)\n",
    "df.set_index('Patient_ID', inplace = True)\n",
    "\n",
    "\n",
    "\n"
   ]
  },
  {
   "cell_type": "markdown",
   "metadata": {},
   "source": [
    "<hr>\n",
    "<a class=\"anchor\" id=\"coherence\">\n",
    "\n",
    "## 3.2. Coherence Checking\n",
    "    \n",
    "</a>"
   ]
  },
  {
   "cell_type": "code",
   "execution_count": 20,
   "metadata": {},
   "outputs": [
    {
     "data": {
      "text/plain": [
       "0    841\n",
       "1     56\n",
       "Name: Incoherent, dtype: int64"
      ]
     },
     "execution_count": 20,
     "metadata": {},
     "output_type": "execute_result"
    }
   ],
   "source": [
    "df2 = df.copy()\n",
    "df2['Incoherent'] = 0\n",
    "df2.loc[df2['Family_cases'] > df2['Family_size'], 'Incoherent'] = 1\n",
    "df2.loc[(df['Age'] > 120) | (df2['Age'] < 0), 'Incoherent'] = 1\n",
    "df2['Incoherent'].value_counts()"
   ]
  },
  {
   "cell_type": "markdown",
   "metadata": {},
   "source": [
    "<hr>\n",
    "<a class=\"anchor\" id=\"corr\">\n",
    "\n",
    "## 3.3. Correlation Analysis\n",
    "    \n",
    "</a>"
   ]
  },
  {
   "cell_type": "code",
   "execution_count": 21,
   "metadata": {},
   "outputs": [
    {
     "data": {
      "image/png": "[encoded data removed]",
      "text/plain": [
       "<Figure size 1080x1080 with 2 Axes>"
      ]
     },
     "metadata": {
      "needs_background": "light"
     },
     "output_type": "display_data"
    }
   ],
   "source": [
    "\n",
    "plt.rcParams['figure.figsize'] = (15,15)\n",
    "\n",
    "corr_matrix=df.corr(method = 'spearman')\n",
    "mask=np.zeros_like(corr_matrix, dtype=np.bool)\n",
    "mask[np.triu_indices_from(mask)]=True\n",
    "sns.heatmap(data=corr_matrix, mask=mask, center=0, annot=True, linewidths=2, cmap='coolwarm')\n",
    "plt.tight_layout()"
   ]
  },
  {
   "cell_type": "markdown",
   "metadata": {},
   "source": [
    "<hr>\n",
    "<a class=\"anchor\" id=\"feature\">\n",
    "\n",
    "## 3.4. Standardization\n",
    "    \n",
    "</a>"
   ]
  },
  {
   "cell_type": "code",
   "execution_count": 30,
   "metadata": {},
   "outputs": [],
   "source": [
    "X = df[['Severity', 'Age','Santa Fe', 'Albuquerque', 'Taos',\n",
    "       'Parents or siblings infected', 'Wife/Husband or children infected',\n",
    "       'Medical_Expenses_Family', 'Family_cases', 'Family_size', 'Medical_Expenses_Person']]\n",
    "\n",
    "y = df['Deceased']"
   ]
  },
  {
   "cell_type": "code",
   "execution_count": 31,
   "metadata": {},
   "outputs": [
    {
     "data": {
      "text/html": [
       "<div>\n",
       "<style scoped>\n",
       "    .dataframe tbody tr th:only-of-type {\n",
       "        vertical-align: middle;\n",
       "    }\n",
       "\n",
       "    .dataframe tbody tr th {\n",
       "        vertical-align: top;\n",
       "    }\n",
       "\n",
       "    .dataframe thead th {\n",
       "        text-align: right;\n",
       "    }\n",
       "</style>\n",
       "<table border=\"1\" class=\"dataframe\">\n",
       "  <thead>\n",
       "    <tr style=\"text-align: right;\">\n",
       "      <th></th>\n",
       "      <th>Severity</th>\n",
       "      <th>Age</th>\n",
       "      <th>Santa Fe</th>\n",
       "      <th>Albuquerque</th>\n",
       "      <th>Taos</th>\n",
       "      <th>Parents or siblings infected</th>\n",
       "      <th>Wife/Husband or children infected</th>\n",
       "      <th>Medical_Expenses_Family</th>\n",
       "      <th>Family_cases</th>\n",
       "      <th>Family_size</th>\n",
       "      <th>Medical_Expenses_Person</th>\n",
       "    </tr>\n",
       "  </thead>\n",
       "  <tbody>\n",
       "    <tr>\n",
       "      <th>0</th>\n",
       "      <td>0.820356</td>\n",
       "      <td>0.035203</td>\n",
       "      <td>0.614720</td>\n",
       "      <td>-0.476536</td>\n",
       "      <td>-0.31292</td>\n",
       "      <td>-0.473022</td>\n",
       "      <td>-0.475670</td>\n",
       "      <td>-0.545106</td>\n",
       "      <td>-0.561184</td>\n",
       "      <td>-0.601393</td>\n",
       "      <td>-0.463141</td>\n",
       "    </tr>\n",
       "    <tr>\n",
       "      <th>1</th>\n",
       "      <td>-1.584413</td>\n",
       "      <td>1.848230</td>\n",
       "      <td>-1.626758</td>\n",
       "      <td>2.098479</td>\n",
       "      <td>-0.31292</td>\n",
       "      <td>-0.473022</td>\n",
       "      <td>0.434087</td>\n",
       "      <td>0.707545</td>\n",
       "      <td>0.060275</td>\n",
       "      <td>-0.601393</td>\n",
       "      <td>2.230094</td>\n",
       "    </tr>\n",
       "    <tr>\n",
       "      <th>2</th>\n",
       "      <td>0.820356</td>\n",
       "      <td>0.639545</td>\n",
       "      <td>0.614720</td>\n",
       "      <td>-0.476536</td>\n",
       "      <td>-0.31292</td>\n",
       "      <td>-0.473022</td>\n",
       "      <td>-0.475670</td>\n",
       "      <td>-0.548590</td>\n",
       "      <td>-0.561184</td>\n",
       "      <td>-0.601393</td>\n",
       "      <td>-0.470632</td>\n",
       "    </tr>\n",
       "    <tr>\n",
       "      <th>3</th>\n",
       "      <td>0.820356</td>\n",
       "      <td>-0.493597</td>\n",
       "      <td>0.614720</td>\n",
       "      <td>-0.476536</td>\n",
       "      <td>-0.31292</td>\n",
       "      <td>-0.473022</td>\n",
       "      <td>-0.475670</td>\n",
       "      <td>-0.549461</td>\n",
       "      <td>-0.561184</td>\n",
       "      <td>-0.601393</td>\n",
       "      <td>-0.472505</td>\n",
       "    </tr>\n",
       "    <tr>\n",
       "      <th>4</th>\n",
       "      <td>0.820356</td>\n",
       "      <td>-0.266968</td>\n",
       "      <td>0.614720</td>\n",
       "      <td>-0.476536</td>\n",
       "      <td>-0.31292</td>\n",
       "      <td>-0.473022</td>\n",
       "      <td>-0.475670</td>\n",
       "      <td>-0.547719</td>\n",
       "      <td>-0.561184</td>\n",
       "      <td>-0.601393</td>\n",
       "      <td>-0.468760</td>\n",
       "    </tr>\n",
       "    <tr>\n",
       "      <th>...</th>\n",
       "      <td>...</td>\n",
       "      <td>...</td>\n",
       "      <td>...</td>\n",
       "      <td>...</td>\n",
       "      <td>...</td>\n",
       "      <td>...</td>\n",
       "      <td>...</td>\n",
       "      <td>...</td>\n",
       "      <td>...</td>\n",
       "      <td>...</td>\n",
       "      <td>...</td>\n",
       "    </tr>\n",
       "    <tr>\n",
       "      <th>892</th>\n",
       "      <td>-0.382029</td>\n",
       "      <td>2.452573</td>\n",
       "      <td>-1.626758</td>\n",
       "      <td>-0.476536</td>\n",
       "      <td>3.19570</td>\n",
       "      <td>-0.473022</td>\n",
       "      <td>-0.475670</td>\n",
       "      <td>-0.505035</td>\n",
       "      <td>-0.561184</td>\n",
       "      <td>-0.601393</td>\n",
       "      <td>-0.376987</td>\n",
       "    </tr>\n",
       "    <tr>\n",
       "      <th>893</th>\n",
       "      <td>0.820356</td>\n",
       "      <td>-0.191426</td>\n",
       "      <td>0.614720</td>\n",
       "      <td>-0.476536</td>\n",
       "      <td>-0.31292</td>\n",
       "      <td>-0.473022</td>\n",
       "      <td>-0.475670</td>\n",
       "      <td>-0.529426</td>\n",
       "      <td>-0.561184</td>\n",
       "      <td>-0.601393</td>\n",
       "      <td>-0.429429</td>\n",
       "    </tr>\n",
       "    <tr>\n",
       "      <th>894</th>\n",
       "      <td>0.820356</td>\n",
       "      <td>-1.173482</td>\n",
       "      <td>0.614720</td>\n",
       "      <td>-0.476536</td>\n",
       "      <td>-0.31292</td>\n",
       "      <td>-0.473022</td>\n",
       "      <td>-0.475670</td>\n",
       "      <td>-0.516359</td>\n",
       "      <td>-0.561184</td>\n",
       "      <td>-0.601393</td>\n",
       "      <td>-0.401335</td>\n",
       "    </tr>\n",
       "    <tr>\n",
       "      <th>895</th>\n",
       "      <td>0.820356</td>\n",
       "      <td>0.035203</td>\n",
       "      <td>-1.626758</td>\n",
       "      <td>-0.476536</td>\n",
       "      <td>3.19570</td>\n",
       "      <td>-0.473022</td>\n",
       "      <td>-0.475670</td>\n",
       "      <td>-0.554688</td>\n",
       "      <td>-0.561184</td>\n",
       "      <td>-0.601393</td>\n",
       "      <td>-0.483743</td>\n",
       "    </tr>\n",
       "    <tr>\n",
       "      <th>896</th>\n",
       "      <td>0.820356</td>\n",
       "      <td>-0.871311</td>\n",
       "      <td>-1.626758</td>\n",
       "      <td>2.098479</td>\n",
       "      <td>-0.31292</td>\n",
       "      <td>-0.473022</td>\n",
       "      <td>-0.475670</td>\n",
       "      <td>-0.565141</td>\n",
       "      <td>-0.561184</td>\n",
       "      <td>-0.601393</td>\n",
       "      <td>-0.506218</td>\n",
       "    </tr>\n",
       "  </tbody>\n",
       "</table>\n",
       "<p>897 rows × 11 columns</p>\n",
       "</div>"
      ],
      "text/plain": [
       "     Severity       Age  Santa Fe  Albuquerque     Taos  \\\n",
       "0    0.820356  0.035203  0.614720    -0.476536 -0.31292   \n",
       "1   -1.584413  1.848230 -1.626758     2.098479 -0.31292   \n",
       "2    0.820356  0.639545  0.614720    -0.476536 -0.31292   \n",
       "3    0.820356 -0.493597  0.614720    -0.476536 -0.31292   \n",
       "4    0.820356 -0.266968  0.614720    -0.476536 -0.31292   \n",
       "..        ...       ...       ...          ...      ...   \n",
       "892 -0.382029  2.452573 -1.626758    -0.476536  3.19570   \n",
       "893  0.820356 -0.191426  0.614720    -0.476536 -0.31292   \n",
       "894  0.820356 -1.173482  0.614720    -0.476536 -0.31292   \n",
       "895  0.820356  0.035203 -1.626758    -0.476536  3.19570   \n",
       "896  0.820356 -0.871311 -1.626758     2.098479 -0.31292   \n",
       "\n",
       "     Parents or siblings infected  Wife/Husband or children infected  \\\n",
       "0                       -0.473022                          -0.475670   \n",
       "1                       -0.473022                           0.434087   \n",
       "2                       -0.473022                          -0.475670   \n",
       "3                       -0.473022                          -0.475670   \n",
       "4                       -0.473022                          -0.475670   \n",
       "..                            ...                                ...   \n",
       "892                     -0.473022                          -0.475670   \n",
       "893                     -0.473022                          -0.475670   \n",
       "894                     -0.473022                          -0.475670   \n",
       "895                     -0.473022                          -0.475670   \n",
       "896                     -0.473022                          -0.475670   \n",
       "\n",
       "     Medical_Expenses_Family  Family_cases  Family_size  \\\n",
       "0                  -0.545106     -0.561184    -0.601393   \n",
       "1                   0.707545      0.060275    -0.601393   \n",
       "2                  -0.548590     -0.561184    -0.601393   \n",
       "3                  -0.549461     -0.561184    -0.601393   \n",
       "4                  -0.547719     -0.561184    -0.601393   \n",
       "..                       ...           ...          ...   \n",
       "892                -0.505035     -0.561184    -0.601393   \n",
       "893                -0.529426     -0.561184    -0.601393   \n",
       "894                -0.516359     -0.561184    -0.601393   \n",
       "895                -0.554688     -0.561184    -0.601393   \n",
       "896                -0.565141     -0.561184    -0.601393   \n",
       "\n",
       "     Medical_Expenses_Person  \n",
       "0                  -0.463141  \n",
       "1                   2.230094  \n",
       "2                  -0.470632  \n",
       "3                  -0.472505  \n",
       "4                  -0.468760  \n",
       "..                       ...  \n",
       "892                -0.376987  \n",
       "893                -0.429429  \n",
       "894                -0.401335  \n",
       "895                -0.483743  \n",
       "896                -0.506218  \n",
       "\n",
       "[897 rows x 11 columns]"
      ]
     },
     "execution_count": 31,
     "metadata": {},
     "output_type": "execute_result"
    }
   ],
   "source": [
    "scaler = StandardScaler().fit(X)\n",
    "X = scaler.transform(X)\n",
    "X = pd.DataFrame(X, columns = ['Severity', 'Age','Santa Fe', 'Albuquerque', 'Taos',\n",
    "       'Parents or siblings infected', 'Wife/Husband or children infected',\n",
    "       'Medical_Expenses_Family', 'Family_cases', 'Family_size', 'Medical_Expenses_Person'])\n",
    "X"
   ]
  },
  {
   "cell_type": "markdown",
   "metadata": {},
   "source": [
    "<hr>\n",
    "<a class=\"anchor\" id=\"feature\">\n",
    "\n",
    "## 3.5. Feature Selection\n",
    "    \n",
    "</a>"
   ]
  },
  {
   "cell_type": "markdown",
   "metadata": {},
   "source": [
    "#### 3.5.1. Lasso Regression"
   ]
  },
  {
   "cell_type": "code",
   "execution_count": 32,
   "metadata": {},
   "outputs": [],
   "source": [
    "def plot_importance(coef,name):\n",
    "    imp_coef = coef.sort_values()\n",
    "    plt.figure(figsize=(8,10))\n",
    "    imp_coef.plot(kind = \"barh\")\n",
    "    plt.title(\"Feature importance using \" + name + \" Model\")\n",
    "    plt.show()"
   ]
  },
  {
   "cell_type": "code",
   "execution_count": 33,
   "metadata": {},
   "outputs": [
    {
     "data": {
      "text/plain": [
       "Medical_Expenses_Family             -0.013147\n",
       "Parents or siblings infected        -0.009815\n",
       "Albuquerque                         -0.000000\n",
       "Taos                                -0.000000\n",
       "Wife/Husband or children infected    0.000000\n",
       "Family_cases                         0.000000\n",
       "Family_size                          0.000000\n",
       "Medical_Expenses_Person             -0.000000\n",
       "Santa Fe                             0.035843\n",
       "Age                                  0.064234\n",
       "Severity                             0.150274\n",
       "dtype: float64"
      ]
     },
     "execution_count": 33,
     "metadata": {},
     "output_type": "execute_result"
    }
   ],
   "source": [
    "# Lasso Regression\n",
    "reg = LassoCV()\n",
    "reg.fit(X, y)\n",
    "coef = pd.Series(reg.coef_, index=X.columns)\n",
    "coef.sort_values()"
   ]
  },
  {
   "cell_type": "code",
   "execution_count": 34,
   "metadata": {},
   "outputs": [
    {
     "data": {
      "image/png": "[encoded data removed]",
      "text/plain": [
       "<Figure size 576x720 with 1 Axes>"
      ]
     },
     "metadata": {
      "needs_background": "light"
     },
     "output_type": "display_data"
    }
   ],
   "source": [
    "plot_importance(coef, 'Lasso')"
   ]
  },
  {
   "cell_type": "markdown",
   "metadata": {},
   "source": [
    "#### 3.5.2 Ridge Regression"
   ]
  },
  {
   "cell_type": "code",
   "execution_count": 43,
   "metadata": {},
   "outputs": [
    {
     "name": "stdout",
     "output_type": "stream",
     "text": [
      "Medical_Expenses_Family             -0.061857\n",
      "Parents or siblings infected        -0.048693\n",
      "Taos                                -0.025256\n",
      "Albuquerque                         -0.015242\n",
      "Family_cases                        -0.004704\n",
      "Wife/Husband or children infected    0.028716\n",
      "Santa Fe                             0.029402\n",
      "Family_size                          0.039594\n",
      "Medical_Expenses_Person              0.040512\n",
      "Age                                  0.096872\n",
      "Severity                             0.179539\n",
      "dtype: float64\n"
     ]
    }
   ],
   "source": [
    "ridge = RidgeCV()\n",
    "ridge.fit(X = X,y = y)\n",
    "coef_ridge = pd.Series(ridge.coef_, index = X.columns)\n",
    "print(coef_ridge.sort_values())"
   ]
  },
  {
   "cell_type": "code",
   "execution_count": 42,
   "metadata": {},
   "outputs": [
    {
     "data": {
      "image/png": "[encoded data removed]",
      "text/plain": [
       "<Figure size 576x720 with 1 Axes>"
      ]
     },
     "metadata": {
      "needs_background": "light"
     },
     "output_type": "display_data"
    }
   ],
   "source": [
    "plot_importance(coef_ridge,'Ridge')"
   ]
  },
  {
   "cell_type": "markdown",
   "metadata": {},
   "source": [
    "#### 3.5.3. RFE"
   ]
  },
  {
   "cell_type": "code",
   "execution_count": 35,
   "metadata": {},
   "outputs": [
    {
     "name": "stdout",
     "output_type": "stream",
     "text": [
      "Optimum number of features: 3\n",
      "Score with 3 features: 0.681481\n"
     ]
    }
   ],
   "source": [
    "#no of features\n",
    "nof_list=np.arange(1,22)            \n",
    "high_score=0\n",
    "#Variable to store the optimum features\n",
    "nof=0           \n",
    "score_list =[]\n",
    "for n in range(len(nof_list)):\n",
    "    # we are going to see in the next class this \"train_test_split()\"...\n",
    "    X_train_rfe, X_rfe_val, y_train_rfe, y_rfe_val = train_test_split(X,y, test_size = 0.3, random_state = 100)\n",
    "    \n",
    "    model_rfe = LogisticRegression()\n",
    "    rfe = RFE(model_rfe,nof_list[n])\n",
    "    X_train_rfe = rfe.fit_transform(X_train_rfe,y_train_rfe)\n",
    "    X_rfe_val = rfe.transform(X_rfe_val)\n",
    "    model_rfe.fit(X_train_rfe,y_train_rfe)\n",
    "    \n",
    "    score = model_rfe.score(X_rfe_val,y_rfe_val)\n",
    "    score_list.append(score)\n",
    "    \n",
    "    if(score>high_score):\n",
    "        high_score = score\n",
    "        nof = nof_list[n]\n",
    "print(\"Optimum number of features: %d\" %nof)\n",
    "print(\"Score with %d features: %f\" % (nof, high_score))"
   ]
  },
  {
   "cell_type": "markdown",
   "metadata": {},
   "source": [
    "#### Grid 1\n",
    "###### Note: Definir os params para um n limitado de Neurons/ Hidden_layers"
   ]
  },
  {
   "cell_type": "code",
   "execution_count": null,
   "metadata": {},
   "outputs": [],
   "source": [
    "model = MLPClassifier(random_state = 15,max_iter = 600, verbose = 1)\n",
    "\n",
    "parameter_space = {\n",
    "    'hidden_layer_sizes': [(50,),(50,50,),(50,50,50)],\n",
    "    'activation': ['identity','logistic','tanh', 'relu'],\n",
    "    'solver': ['lbfgs','sgd', 'adam'],\n",
    "    'alpha':np.logspace(-5, 3, 5),\n",
    "#     'batch_size':(),\n",
    "    'learning_rate_init': list(np.linspace(0.00001,0.1,5)),\n",
    "    'warm_start': [True,False],\n",
    "    'learning_rate': ['constant','invscaling','adaptive'],\n",
    "    'early_stopping' : [True,False]\n",
    "}"
   ]
  },
  {
   "cell_type": "markdown",
   "metadata": {},
   "source": [
    "#### Grid 2.\n",
    "###### Note: Para os params acima encontrados testar todas as combinações de layers/neurons possiveis"
   ]
  },
  {
   "cell_type": "code",
   "execution_count": 51,
   "metadata": {},
   "outputs": [],
   "source": [
    "def combination_layers(min_neurons,max_neurons,n_layers): \n",
    "    l = []\n",
    "    for i in range(min_neurons,max_neurons):\n",
    "        l.append(i)\n",
    "    layersize = list(combinations_with_replacement(l,n_layers))\n",
    "    \n",
    "# combination_layers(10,50,2)"
   ]
  },
  {
   "cell_type": "code",
   "execution_count": null,
   "metadata": {},
   "outputs": [],
   "source": [
    "model = MLPClassifier(random_state = 15,max_iter = 600,verbose = 1,activation=,solver=,alpha=,learning_rate_init=,\n",
    "                     warm_start=,)\n",
    "\n",
    "parameter_space = {\n",
    "    'hidden_layer_sizes': combination_layers(10,50,2)\n",
    "}"
   ]
  }
 ],
 "metadata": {
  "kernelspec": {
   "display_name": "Python 3",
   "language": "python",
   "name": "python3"
  },
  "language_info": {
   "codemirror_mode": {
    "name": "ipython",
    "version": 3
   },
   "file_extension": ".py",
   "mimetype": "text/x-python",
   "name": "python",
   "nbconvert_exporter": "python",
   "pygments_lexer": "ipython3",
   "version": "3.8.2"
  }
 },
 "nbformat": 4,
 "nbformat_minor": 2
}
